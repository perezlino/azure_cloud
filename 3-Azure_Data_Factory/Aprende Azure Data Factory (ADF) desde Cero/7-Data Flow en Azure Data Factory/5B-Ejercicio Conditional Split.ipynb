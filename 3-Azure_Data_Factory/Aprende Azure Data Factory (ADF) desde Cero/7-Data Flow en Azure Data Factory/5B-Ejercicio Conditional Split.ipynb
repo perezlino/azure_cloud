{
 "cells": [
  {
   "attachments": {},
   "cell_type": "markdown",
   "metadata": {},
   "source": [
    "### Ejercicio - Conditional Split"
   ]
  },
  {
   "cell_type": "code",
   "execution_count": null,
   "metadata": {
    "vscode": {
     "languageId": "sql"
    }
   },
   "outputs": [],
   "source": [
    "Se requiere generar múltiples salidas de archivos delimitados por coma(CSV) con el componente ConditionalSplit de Azure Data \n",
    "Factory.\n",
    "\n",
    "Dichas salidas provienen de la tabla Productque pertenece a la base de datos AdventureWorks"
   ]
  },
  {
   "cell_type": "code",
   "execution_count": null,
   "metadata": {
    "vscode": {
     "languageId": "sql"
    }
   },
   "outputs": [],
   "source": [
    "      SOURCE                   CONDITIONAL SPLIT                      SINK\n",
    " ________________          __________________________          __________________        \n",
    "|                |        |                          |        |                  |      \n",
    "| sourceProduct  |--------| ConditionalSplitProduct  |--------|  sinkProductRed  |\n",
    "|________________| +      |__________________________| +      |__________________|\n",
    "                          |                                              SINK\n",
    "                          |   __________________________          __________________           \n",
    "                          |  |                          |        |                  | \n",
    "                          |--| ConditionalSplitProduct  |--------| sinkProductBlue  |\n",
    "                          |  |__________________________| +      |__________________| \n",
    "                          |                                              SINK\n",
    "                          |   __________________________          __________________\n",
    "                          |  |                          |        |                  |\n",
    "                          |--| ConditionalSplitProduct  |--------| sinkProductBlack |\n",
    "                          |  |__________________________| +      |__________________|\n",
    "                          |                                              SINK\n",
    "                          |   __________________________          __________________\n",
    "                          |  |                          |        |                  |\n",
    "                          '--| ConditionalSplitProduct  |--------| sinkProductOtros |\n",
    "                             |__________________________| +      |__________________|                                "
   ]
  },
  {
   "attachments": {},
   "cell_type": "markdown",
   "metadata": {},
   "source": [
    "##### sourceProduct\n",
    "\n",
    "- Utilizamos \"Inline Dataset\" (obtenemos el mismo resultado que utilizando \"Dataset\", no se cual es la real diferencia)\n",
    "- Inline Dataset Type: escogemos el recurso de donde proviene el Dataset de origen\n",
    "- Linked service: escogemos el Linked Service de origen, y este apunta hacia Azure SQL Database, a una base de datos especifica\n",
    "- Debug mode: al activarlo nos permitirá acceder a las opciones de Projection y Data preview\n",
    "\n",
    "<center><img src=\"https://i.postimg.cc/j2tSRX6T/adf32.png\"></center>\n",
    "<center><img src=\"https://i.postimg.cc/7Zk8d6Vv/adf33.png\"></center>\n",
    "<center><img src=\"https://i.postimg.cc/8kMZ3bn5/adf34.png\"></center>\n",
    "\n",
    "\n",
    "##### ConditionalSplitProduct\n",
    "\n",
    "<center><img src=\"https://i.postimg.cc/kgmNS3nF/adf35.png\"></center>\n",
    "\n",
    "\n",
    "##### sinkProductRed\n",
    "\n",
    "- Inline Dataset Type: escogemos el tipo de archivo de salida\n",
    "- Linked service: escogemos el Linked Service de destino, y este apunta hacia ABS, a una ruta especifica\n",
    "\n",
    "<center><img src=\"https://i.postimg.cc/g0w0kjfM/adf36.png\"></center>\n",
    "\n",
    "- El directorio \"4.Conditional Split\" se creará de manera automática dentro del contenedor \"dataflowdataset\"\n",
    "<center><img src=\"https://i.postimg.cc/SNzV8fcq/adf37.png\"></center>\n",
    "\n",
    "- No particionamos el archivo y se creará un único archivo llamado \"ProductRed.csv\". Debemos pulsar sobre\n",
    "  el botón de \"Set single partition\" que aparecerá\n",
    "<center><img src=\"https://i.postimg.cc/25jK4Bzw/adf38.png\"></center>\n",
    "\n",
    "- ¿Qué pasa si ahora queremos eliminar ciertas columnas de la tabla de la fuente de origen?\n",
    "- Desde la tarea \"sinkProductRed\"\n",
    "- Desmarcamos la casilla de \"Auto-Mapping\"\n",
    "- Eliminamos las últimas 4 columnas\n",
    "\n",
    "<center><img src=\"https://i.postimg.cc/g2jMjb4S/adf39.png\"></center>\n",
    "\n",
    "\n",
    "##### sinkProductBlue, sinkProductBlack y sinkProductOtros\n",
    "\n",
    "- Realizamos los mismos pasos que para \"sinkProductRed\" para los 3 destinos restantes, y obviamente cambiamos el nombre \n",
    "  al archivo de salida para cada tarea\n",
    "\n",
    "\n",
    "##### Ejecución del Pipeline y resultados\n",
    "\n",
    "- Despues de haber finalizado nuestro Data Flow, lo ejecutaremos dentro de una actividad \"Data Flow\" desde un Pipeline\n",
    "- Podemos ver que se han creado los dos archivos  \n",
    "<center><img src=\"https://i.postimg.cc/DzBygs1y/adf41.png\"></center> \n",
    "\n",
    "\n"
   ]
  }
 ],
 "metadata": {
  "language_info": {
   "name": "python"
  },
  "orig_nbformat": 4
 },
 "nbformat": 4,
 "nbformat_minor": 2
}
