{
 "cells": [
  {
   "attachments": {},
   "cell_type": "markdown",
   "metadata": {},
   "source": [
    "### **Paso 1.1 - Integración con ADLS**"
   ]
  },
  {
   "attachments": {},
   "cell_type": "markdown",
   "metadata": {},
   "source": [
    "#### Crear el Azure Service Principal\n",
    "\n",
    "<center><img src=\"https://i.postimg.cc/MHm6h97d/db31.png\"></center>\n",
    "<center><img src=\"https://i.postimg.cc/05YyMyTD/db32.png\"></center>\n",
    "<center><img src=\"https://i.postimg.cc/x1Cf4yc3/db33.png\"></center>\n",
    "<center><img src=\"https://i.postimg.cc/0yBkRMSR/db34.png\"></center>\n",
    "<center><img src=\"https://i.postimg.cc/yxsBX0M9/db35.png\"></center>\n",
    "<center><img src=\"https://i.postimg.cc/26pCysT0/db36.png\"></center>\n",
    "<center><img src=\"https://i.postimg.cc/65z6c15Q/db37.png\"></center>\n",
    "<center><img src=\"https://i.postimg.cc/j5zt7MFt/db38.png\"></center>\n",
    "<center><img src=\"https://i.postimg.cc/C570vz02/db39.png\"></center>\n",
    "<center><img src=\"https://i.postimg.cc/PqvttXbL/db40.png\"></center>\n",
    "<center><img src=\"https://i.postimg.cc/zDFqDPhk/db41.png\"></center>\n",
    "<center><img src=\"https://i.postimg.cc/pXVRmYYM/db42.png\"></center>\n",
    "<center><img src=\"https://i.postimg.cc/bN68kD3D/db43.png\"></center>"
   ]
  },
  {
   "attachments": {},
   "cell_type": "markdown",
   "metadata": {},
   "source": [
    "#### Mounting Azure Data Lake Storage Gen2\n",
    "\n",
    "Antes que todo, vamos a utilizar Azure Key Vault para almacenar el **Client ID**, **Tenant ID** y el **Client Secret**.\n",
    "\n",
    "<center><img src=\"https://i.postimg.cc/zGZC8vYM/db44.png\"></center>\n",
    "<center><img src=\"https://i.postimg.cc/x1vKCQ0d/db45.png\"></center>\n",
    "\n",
    "Tenemos que generar 3 secretos en Azure Key Vault\n",
    "\n",
    "<center><img src=\"https://i.postimg.cc/qR5KYMG1/db46.png\"></center>\n",
    "<center><img src=\"https://i.postimg.cc/VNzX0h6W/db47.png\"></center>\n",
    "<center><img src=\"https://i.postimg.cc/KzzLJgtK/db48.png\"></center>\n",
    "\n",
    "Se han creado los 3 secretos\n",
    "\n",
    "<center><img src=\"https://i.postimg.cc/SKVC6GYF/db49.png\"></center>\n",
    "\n",
    "Luego, en el workspace de Databricks damos clic en el símbolo de databricks y en la ruta web en el navegador agregaremos **#secrets/createScope**. Vamos a utilizar **Databricks Scoped Secret**\n",
    "\n",
    "<center><img src=\"https://i.postimg.cc/PNGwX39Z/db50.png\"></center>\n",
    "<center><img src=\"https://i.postimg.cc/D04GKkjn/db51.png\"></center>\n",
    "\n",
    "Regresamos al Azure Key Vault y copiamos el **Vault URI** y el **Resource ID**\n",
    "\n",
    "<center><img src=\"https://i.postimg.cc/jqD3jDBd/db52.png\"></center>\n",
    "<center><img src=\"https://i.postimg.cc/KcCq3Zy7/db53.png\"></center>\n",
    "\n",
    "Y los ingresamos en el Secret Scope de Databricks. Nuestro **Secret Scope** llevará por nombre **formula1-scope**\n",
    "\n",
    "<center><img src=\"https://i.postimg.cc/8PWyhq12/db54.png\"></center>\n",
    "\n",
    "Nos va a devolver un error\n",
    "\n",
    "<center><img src=\"https://i.postimg.cc/Gp3qntkR/db55.png\"></center>\n",
    "\n",
    "Modificamos el **Manage Principal** a **All Users**\n",
    "\n",
    "<center><img src=\"https://i.postimg.cc/P5jSK2JP/db56.png\"></center>\n",
    "\n",
    "Para finalizar, pulsamos en **Crear** y de esta forma creamos el **Secret Scope** llamado **formula1-scope**\n",
    "\n",
    "<center><img src=\"https://i.postimg.cc/vZt3KfxX/db57.png\"></center>"
   ]
  }
 ],
 "metadata": {
  "language_info": {
   "name": "python"
  },
  "orig_nbformat": 4
 },
 "nbformat": 4,
 "nbformat_minor": 2
}
