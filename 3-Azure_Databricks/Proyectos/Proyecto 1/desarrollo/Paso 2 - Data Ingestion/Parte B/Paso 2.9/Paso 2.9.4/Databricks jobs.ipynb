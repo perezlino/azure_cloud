{
 "cells": [
  {
   "attachments": {},
   "cell_type": "markdown",
   "metadata": {},
   "source": [
    "### **Databricks Jobs**"
   ]
  },
  {
   "attachments": {},
   "cell_type": "markdown",
   "metadata": {},
   "source": [
    "Desde la pestaña **Jobs**\n",
    "\n",
    "<center><img src=\"https://i.postimg.cc/c1PZfNTM/db76.png\"></center>\n",
    "\n",
    "Configuramos el Job para ejecutar el notebook **Paso 2.1**. Desde aqui también nos permite indicar los valores para los parámetros que le asignamos al notebook. Nos permite escoger o crear un cluster, en este caso se creó un **Job Cluster** el cual luego de ejcutarse se finalizará de manera automática. La ejecución de un job puede ser de manera **manual** o **programada**(schedule)\n",
    "\n",
    "<center><img src=\"https://i.postimg.cc/kgmmhF02/db77.png\"></center>\n",
    "<center><img src=\"https://i.postimg.cc/FscvZnBt/db78.png\"></center>\n",
    "\n",
    "Lo ejecutamos de manera manual\n",
    "\n",
    "<center><img src=\"https://i.postimg.cc/vZtsRxy3/db79.png\"></center>\n",
    "<center><img src=\"https://i.postimg.cc/RhHkgNG1/db80.png\"></center>\n",
    "<center><img src=\"https://i.postimg.cc/gJQ9yvyk/db81.png\"></center>\n",
    "\n",
    "Configuramos el Job para ejecutar el notebook **Paso 2.0**. \n",
    "\n",
    "<center><img src=\"https://i.postimg.cc/zfdYvmVh/db82.png\"></center>\n",
    "<center><img src=\"https://i.postimg.cc/QtHGW6Ty/db83.png\"></center>\n",
    "<center><img src=\"https://i.postimg.cc/7LPyqPYD/db84.png\"></center>"
   ]
  }
 ],
 "metadata": {
  "language_info": {
   "name": "python"
  },
  "orig_nbformat": 4
 },
 "nbformat": 4,
 "nbformat_minor": 2
}
