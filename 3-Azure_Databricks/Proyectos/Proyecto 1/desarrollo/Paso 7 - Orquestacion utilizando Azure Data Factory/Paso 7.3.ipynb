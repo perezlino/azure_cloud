{
 "cells": [
  {
   "attachments": {},
   "cell_type": "markdown",
   "metadata": {},
   "source": [
    "### **Paso 7.3 - Añadir un \"Tumbling Window Trigger\" a la ejecución**"
   ]
  },
  {
   "attachments": {},
   "cell_type": "markdown",
   "metadata": {},
   "source": [
    "1. #### Crear un **Tumbling Window Trigger**\n",
    "\n",
    "Creamos un **Tumbling Window Trigger** que se ejcutará cada 168 horas (1 semana). Este comenzará a las 22:00 PM el dia 2021-03-14 y terminará a las 22:00 PM el dia 2021-04-25.\n",
    "\n",
    "**Max concurrency** se refiere a la cantidad de runs que se ejecutarán al mismo tiempo. Al colocar 1, se ejecutará 1 pipeline run a la vez\n",
    "\n",
    "<center><img src=\"https://i.postimg.cc/hvCCJYWq/db241.png\"></center>\n",
    "<center><img src=\"https://i.postimg.cc/vHNqbCtr/db242.png\"></center>\n",
    "<center><img src=\"https://i.postimg.cc/qv6mRQ19/db243.png\"></center>\n",
    "\n",
    "Añadimos el trigger al pipeline maestro\n",
    "\n",
    "<center><img src=\"https://i.postimg.cc/q7f1CnYg/db244.png\"></center>\n",
    "<center><img src=\"https://i.postimg.cc/fbxB7ynC/db245.png\"></center>\n",
    "\n",
    "Indicamos que se active, es decir, comenzará a ejecutarse el trigger si la fecha y comienzo coinciden o son posteriores a la indicada en su configuración\n",
    "\n",
    "<center><img src=\"https://i.postimg.cc/rsYJytxV/db246.png\"></center>\n",
    "\n",
    "Nos pregunta por el valor del parámetro a nivel de pipeline **p_file_date**. Le indicaremos una **system variable**:\n",
    "```\n",
    "p_file_date = @trigger().outputs.windowEndTime\n",
    "```\n",
    "Dicha variable de sistema le pasará el valor de la fecha de término de la ventana en formato Timestamp al parámetro (Por ejemplo, la fecha de comienzo de la primera ventana corresponde al 2021-03-14 y la fecha de termino de la ventana corresponde al 2021-03-21. Luego, para la segunda ventana la fecha de inicio corresponde al 2021-03-21 y de termino a la fecha 2021-03-28 y asi hasta el 2021-04-25) \n",
    "\n",
    "<center><img src=\"https://i.postimg.cc/KjYfy5Kp/db247.png\"></center>\n",
    "\n",
    "Podemos visualizar los **Trigger runs** y agregar la columna de información **WindowEndTime**\n",
    "\n",
    "<center><img src=\"https://i.postimg.cc/50ggGrtF/db248.png\"></center>\n",
    "<center><img src=\"https://i.postimg.cc/63tzMKBX/db249.png\"></center>\n",
    "<center><img src=\"https://i.postimg.cc/qBmQxWYP/db250.png\"></center>\n",
    "\n",
    "Podemos visualizar que el trigger se ejecutó 6 veces. De los cuales solo para 3 fechas efectivamente se tenia datos en el ADLS\n",
    "\n",
    "<center><img src=\"https://i.postimg.cc/sDvm6wCv/db251.png\"></center>\n",
    "\n",
    "Por ejemplo, si revisamos la fecha 2021-04-04\n",
    "\n",
    "<center><img src=\"https://i.postimg.cc/CKV4K0Bq/db252.png\"></center>\n",
    "<center><img src=\"https://i.postimg.cc/W1Znjz3V/db253.png\"></center>\n",
    "<center><img src=\"https://i.postimg.cc/fTpK6mM5/db254.png\"></center>\n",
    "\n",
    "Vemos que no se ejecutó nada, dado que para el valor **WindowEndTime => 2021-04-04** no existe un directorio con archivos en ADLS, por tanto, no se ejecutará nada\n",
    "\n",
    "<center><img src=\"https://i.postimg.cc/zBzSnkkD/db255.png\"></center>\n",
    "<center><img src=\"https://i.postimg.cc/yNXygGcr/db256.png\"></center>"
   ]
  }
 ],
 "metadata": {
  "language_info": {
   "name": "python"
  },
  "orig_nbformat": 4
 },
 "nbformat": 4,
 "nbformat_minor": 2
}
