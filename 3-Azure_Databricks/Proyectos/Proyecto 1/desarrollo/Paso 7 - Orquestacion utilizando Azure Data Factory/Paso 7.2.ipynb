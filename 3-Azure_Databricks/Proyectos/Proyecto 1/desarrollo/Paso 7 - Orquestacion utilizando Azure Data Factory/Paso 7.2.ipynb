{
 "cells": [
  {
   "attachments": {},
   "cell_type": "markdown",
   "metadata": {},
   "source": [
    "### **Paso 7.2 - Crear un Pipeline de orquestación de los notebooks de transformación**"
   ]
  },
  {
   "attachments": {},
   "cell_type": "markdown",
   "metadata": {},
   "source": [
    "#### 1. Clonar el pipeline anterior y modificar la tarea **True** en la actividad **If Conditional** "
   ]
  },
  {
   "attachments": {},
   "cell_type": "markdown",
   "metadata": {},
   "source": [
    "Comenzamos modificando la tarea **True** eliminando la gran mayoria de las actividades **Databricks Notebook** y dejando solo una con la cual empezaremos a trabajar \n",
    "\n",
    "<center><img src=\"https://i.postimg.cc/NGp6YzXG/db230.png\"></center>\n",
    "\n",
    "Para el notebook de transformación **race_results** mantenemos el mismo Linked Service\n",
    "\n",
    "<center><img src=\"https://i.postimg.cc/rFH5RRgv/db231.png\"></center>\n",
    "\n",
    "Solo utilizaremos el parámetro **p_file_date**. Copiaremos la actividad y la pegaremos para utilizarla en las dos transformaciones restantes\n",
    "\n",
    "<center><img src=\"https://i.postimg.cc/ht7TL45h/db232.png\"></center>\n",
    "\n",
    "Para transformación **driver_standings** mantenemos la misma configuración, solo cambiaremos la ruta del notebook. Haremos lo mismo para la transformación **constructor_standings**\n",
    "\n",
    "<center><img src=\"https://i.postimg.cc/vTmd1tsn/db233.png\"></center>\n",
    "\n",
    "Tanto **driver_standings** y **constructor_standings** dependen de la ejecución correcta de **race_results**. No asi **calculated_race** que corresponde al análisis utilizando directamente los datos de las tablas delta de la **capa processed**\n",
    "\n",
    "<center><img src=\"https://i.postimg.cc/fygQYSzr/db234.png\"></center>\n",
    "\n",
    "Luego creamos un nuevo pipeline maestro el cual ejecutará los dos pipelines recién creados. Utilizamos las actividad **Execution pipeline**\n",
    "\n",
    "<center><img src=\"https://i.postimg.cc/SN3ps9tX/db236.png\"></center>\n",
    "<center><img src=\"https://i.postimg.cc/P5Dn8qBS/db237.png\"></center>\n",
    "<center><img src=\"https://i.postimg.cc/gcMWCQVH/db238.png\"></center>\n",
    "<center><img src=\"https://i.postimg.cc/25Fp2Kjv/db239.png\"></center>\n",
    "<center><img src=\"https://i.postimg.cc/R0z51Bm4/db240.png\"></center>"
   ]
  }
 ],
 "metadata": {
  "language_info": {
   "name": "python"
  },
  "orig_nbformat": 4
 },
 "nbformat": 4,
 "nbformat_minor": 2
}
