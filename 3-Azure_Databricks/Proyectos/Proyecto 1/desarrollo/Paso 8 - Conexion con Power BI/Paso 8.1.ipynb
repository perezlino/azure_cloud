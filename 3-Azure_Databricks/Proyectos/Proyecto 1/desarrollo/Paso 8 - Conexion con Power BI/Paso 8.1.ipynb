{
 "cells": [
  {
   "attachments": {},
   "cell_type": "markdown",
   "metadata": {},
   "source": [
    "### **Paso 8.1 - Conexión a Power BI**"
   ]
  },
  {
   "attachments": {},
   "cell_type": "markdown",
   "metadata": {},
   "source": [
    "Para conectarnos a Databricks desde Power BI necesitamos utilizar el conector **Azure Databricks**\n",
    "\n",
    "<center><img src=\"https://i.postimg.cc/L6Yn501k/db257.png\"></center>\n",
    "<center><img src=\"https://i.postimg.cc/Qx2VTkQ2/db258.png\"></center>\n",
    "\n",
    "Para autenticarnos explicaremos dos caminos: \n",
    "\n",
    "    -   Azure Active Directory\n",
    "    -   Personal Acces Token\n",
    "\n",
    "Utilizando la via de **Azure Active Directory** solo debemos estar registrados en Azure Active Directory y utilizar nuestras credenciales para ingresar\n",
    "\n",
    "<center><img src=\"https://i.postimg.cc/FH0zgdG7/db261.png\"></center>\n",
    "<center><img src=\"https://i.postimg.cc/d1NVt8QS/db262.png\"></center>\n",
    "<center><img src=\"https://i.postimg.cc/TPGwkdHQ/db263.png\"></center>\n",
    "\n",
    "Desde las configuraciones del cluster que estamos utilizando en Databricks copiamos:\n",
    "\n",
    "    -   Server Hostname\n",
    "    -   HTTP Path\n",
    "\n",
    "<center><img src=\"https://i.postimg.cc/kGkMWqbQ/db259.png\"></center>\n",
    "<center><img src=\"https://i.postimg.cc/5t3tThhJ/db260.png\"></center>\n",
    "\n",
    "<center><img src=\"https://i.postimg.cc/PJLrLPPf/db264.png\"></center>\n",
    "\n",
    "Utilizando la via de **Personal Access Token**\n",
    "\n",
    "<center><img src=\"https://i.postimg.cc/B6nv0h3K/db265.png\"></center>\n",
    "<center><img src=\"https://i.postimg.cc/N0gs6N5z/db266.png\"></center>\n",
    "<center><img src=\"https://i.postimg.cc/TYD3fLzC/db267.png\"></center>\n",
    "<center><img src=\"https://i.postimg.cc/VkPL6s11/db268.png\"></center>\n",
    "<center><img src=\"https://i.postimg.cc/4xv4hCNc/db269.png\"></center>\n",
    "<center><img src=\"https://i.postimg.cc/bYMw7HBZ/db270.png\"></center>\n",
    "\n"
   ]
  }
 ],
 "metadata": {
  "language_info": {
   "name": "python"
  },
  "orig_nbformat": 4
 },
 "nbformat": 4,
 "nbformat_minor": 2
}
