{
 "cells": [
  {
   "attachments": {},
   "cell_type": "markdown",
   "metadata": {},
   "source": [
    "### **1.3 - Create and Manage interactive Clusters**"
   ]
  },
  {
   "attachments": {},
   "cell_type": "markdown",
   "metadata": {},
   "source": [
    "Bienvenido a esta lección sobre la creación y gestión de clústeres interactivos. Un clúster de Databricks es un conjunto de recursos de computación y configuraciones en los que se ejecutan cargas de trabajo de ingeniería de datos, ciencia de datos y análisis de datos, como pipelines ETL de producción, análisis de streaming, etc. Estas cargas de trabajo se ejecutan como un conjunto de comandos en un notebook, como éste, o como un job automatizado. Databricks distingue entre \"all-purpose clusters\" y \"job clusters\". Los all-purpose clusters se utilizan para analizar datos de forma colaborativa utilizando notebooks interactivos, y los job clusters se utilizan para ejecutar jobs automatizados rápidos y robustos. Esta demostración va a cubrir la creación y gestión de all-purpose clusters. Al final de esta lección, deberás ser capaz de utilizar la UI de Clusters para configurar y desplegar un cluster y editar, terminar, reiniciar y eliminar clusters. \n",
    "\n",
    "Lo primero es crear clusters. "
   ]
  },
  {
   "attachments": {},
   "cell_type": "markdown",
   "metadata": {},
   "source": [
    "Ahora voy a demostrar el resto de esta demostración en la UI de clusters, pero siéntete libre de volver a este notebook para referenciar los pasos. Para acceder a los clusters, vamos a hacer clic en el icono **Compute**. Esto te lleva a la página de Clusters donde puedes encontrar este botón para crear un cluster. \n",
    "\n",
    "<center><img src=\"https://i.postimg.cc/gk1cvZjh/db290.png\"></center>"
   ]
  },
  {
   "attachments": {},
   "cell_type": "markdown",
   "metadata": {},
   "source": [
    "Para el nombre del cluster, usa tu nombre, o algo descriptivo. Para el \"cluster mode\", asegúrate de que estás seleccionando la opción de \"single node\". Esto es necesario para ejecutar los notebooks en este curso. También estableceré la Databricks runtime version a 11.2. Usa las opciones por defecto y crea el cluster. Los clusters pueden tardar varios minutos en desplegarse. Una vez que hayas terminado de desplegar un cluster, siéntete libre de continuar explorando la UI de creación de clusters. \n",
    "\n",
    "<center><img src=\"https://i.postimg.cc/50PbjHD6/db291.png\"></center>"
   ]
  },
  {
   "attachments": {},
   "cell_type": "markdown",
   "metadata": {},
   "source": [
    "Ahora, si volvemos a la página de clusters, a la que también podemos acceder aquí, una vez creado el cluster, confirmado con esta marca de verificación verde, puedes ver que su estado es **now running**. \n",
    "\n",
    "También podemos hacer clic en un cluster para revisar la configuración actual y editarla usando el botón **Edit**. \n",
    "\n",
    "<center><img src=\"https://i.postimg.cc/cLYxTLtb/db292.png\"></center>\n",
    "<center><img src=\"https://i.postimg.cc/QM3XzZpx/db293.png\"></center>"
   ]
  },
  {
   "attachments": {},
   "cell_type": "markdown",
   "metadata": {},
   "source": [
    "Ten en cuenta que la mayoría de las configuraciones se pueden modificar si tienes permisos suficientes, pero para la mayoría de los cambios, tendrás que reiniciar los clusters en ejecución. \n",
    "\n",
    "<center><img src=\"https://i.postimg.cc/MGmW23D0/db294.png\"></center>"
   ]
  },
  {
   "attachments": {},
   "cell_type": "markdown",
   "metadata": {},
   "source": [
    "Tenemos algunas otras opciones aquí que podemos usar para administrar clusters. Ten en cuenta que aunque **Restart, Terminate y Delete** tienen efectos muy diferentes, todos comienzan con el evento de terminación del cluster. Los clústeres también terminan automáticamente debido a la inactividad, suponiendo que se utilice esta configuración. Cuando un cluster termina, todos los recursos de la nube actualmente en uso son eliminados. Esto incluye las máquinas virtuales asociadas y la memoria operativa, el volumen de almacenamiento adjunto y las conexiones de red entre nodos. En resumen, todos los recursos previamente asociados con el entorno de computación se eliminarán por completo. Esto significa que cualquier resultado que necesite ser conservado debe ser guardado en una ubicación permanente. Tenga en cuenta que no perderá su código, ni los archivos de datos que haya guardado adecuadamente. El botón **Restart** le permitirá reiniciar manualmente nuestro cluster. Esto puede ser útil si necesitamos limpiar completamente la caché del cluster o deseamos reiniciar completamente nuestro entorno de computación. El botón **Terminate** nos permite detener nuestro cluster. Mantenemos los ajustes de configuración de nuestro clúster y podemos utilizar Restart para desplegar un nuevo conjunto de recursos en la nube utilizando esa configuración. El botón **Delete** detendrá nuestro clúster y eliminará la configuración del clúster.\n",
    "\n",
    "<center><img src=\"https://i.postimg.cc/bJYqz0C7/db295.png\"></center>"
   ]
  }
 ],
 "metadata": {
  "language_info": {
   "name": "python"
  },
  "orig_nbformat": 4
 },
 "nbformat": 4,
 "nbformat_minor": 2
}
