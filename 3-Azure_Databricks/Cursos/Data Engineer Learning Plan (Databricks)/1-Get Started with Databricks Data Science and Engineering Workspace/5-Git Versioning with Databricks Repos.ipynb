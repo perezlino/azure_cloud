{
 "cells": [
  {
   "attachments": {},
   "cell_type": "markdown",
   "metadata": {},
   "source": [
    "<div style=\"text-align: center; line-height: 0; padding-top: 9px;\">\n",
    "  <img src=\"https://databricks.com/wp-content/uploads/2018/03/db-academy-rgb-1200px.png\" alt=\"Databricks Learning\" style=\"width: 600px\">\n",
    "</div>"
   ]
  },
  {
   "attachments": {},
   "cell_type": "markdown",
   "metadata": {},
   "source": [
    "### **Notebook Basics**"
   ]
  },
  {
   "attachments": {},
   "cell_type": "markdown",
   "metadata": {},
   "source": [
    "Dondequiera que haya desarrollo de código colaborativo, habrá necesidad de algún tipo de control de versiones, particularmente cuando se trata de gestionar el despliegue de ese código en el sistema de producción. Databricks Repos es una característica de Databricks que toma todas las prácticas involucradas en la gestión de activos (assets) del workspace y las aplica a un entorno similar que está respaldado por el control de revisiones usando Git. Veamos cómo funciona. \n",
    "\n",
    "<center><img src=\"https://i.postimg.cc/8PJqqGMg/db301.png\"></center>"
   ]
  },
  {
   "attachments": {},
   "cell_type": "markdown",
   "metadata": {},
   "source": [
    "Como vimos anteriormente, los notebooks tienen algún control de revisión básico incorporado. Si bien estas características son útiles, son bastante básicas y no soportan los requisitos de un ciclo de vida de desarrollo de software completo. Por ejemplo, no se mantiene un historial centralizado e inmutable. El historial se adjunta a una única instancia de un notebook. Si exporta el notebook o crea una copia del mismo, el historial se pierde. El historial también puede ser fácilmente manipulado o eliminado por completo por los usuarios. Aunque puedes revisar, cambiar historiales y volver a una versión anterior, sólo se admiten operaciones básicas. No se pueden fusionar cambios ni crear branches o name tags. No hay puntos de integración externos para apoyar el pipeline CI/CD. Databricks repos a través de su integración Git, satisface los dos primeros de estos requisitos y aborda el tercero con su API proporcionada. Databricks soporta los siguientes proveedores populares de servicios Git de grado comercial: Azure DevOps, Bitbucket, GitHub y GitLab. Databricks actualmente no soporta servidores Git privados. \n",
    "\n",
    "<center><img src=\"https://i.postimg.cc/HsqfmN9c/db302.png\"></center>"
   ]
  },
  {
   "attachments": {},
   "cell_type": "markdown",
   "metadata": {},
   "source": [
    "Las operaciones soportadas incluyen: \n",
    "\n",
    "- Clonar un repositorio, que crea una copia de trabajo local de nuestro repositorio git remoto. \n",
    "- Pulling, que sincroniza los cambios upstream o remotos con tu copia local. \n",
    "- Añadir nuevos elementos, como carpetas o notebooks. \n",
    "- Mover o renombrar elementos. \n",
    "- Hacer commit, y hacer push, que es lo contrario de hacer pull. \n",
    "- Y, por último, crear una branch. Esta operación restablece el estado actual de tu notebook sin afectar a otras ramas del repositorio. - Crear ramas para tu propio desarrollo es una buena práctica a adoptar, ya que tus cambios, incluso si los pushas upstream, no estarán interfiriendo con tu entorno de producción o con otros que estén siguiendo la misma práctica. \n",
    "\n",
    "<center><img src=\"https://i.postimg.cc/qv2WvG1m/db303.png\"></center>\n",
    "\n",
    "Este diagrama proporciona una visión general de alto nivel de las mejores prácticas recomendadas a seguir en el desarrollo con repositorios. En resumen \n",
    "1. Clona el repositorio de destino. \n",
    "2. Cree una nueva rama de desarrollo, o seleccione una rama existente acordada por su equipo en la que se llevará a cabo el trabajo de desarrollo. Se considera una buena práctica no desarrollar directamente en la rama main. \n",
    "3. Realice sus cambios, como añadir elementos, modificar código y realizar pruebas. \n",
    "4. Commit y push a tu rama. \n",
    "5. Une (Merge) los cambios a la rama main de acuerdo con el proceso de revisión de código y publicación de tu organización."
   ]
  }
 ],
 "metadata": {
  "language_info": {
   "name": "python"
  },
  "orig_nbformat": 4
 },
 "nbformat": 4,
 "nbformat_minor": 2
}
