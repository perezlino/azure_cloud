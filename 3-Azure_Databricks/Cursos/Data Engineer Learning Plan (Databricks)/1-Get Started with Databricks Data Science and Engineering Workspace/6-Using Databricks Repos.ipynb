{
 "cells": [
  {
   "attachments": {},
   "cell_type": "markdown",
   "metadata": {},
   "source": [
    "<div style=\"text-align: center; line-height: 0; padding-top: 9px;\">\n",
    "  <img src=\"https://databricks.com/wp-content/uploads/2018/03/db-academy-rgb-1200px.png\" alt=\"Databricks Learning\" style=\"width: 600px\">\n",
    "</div>"
   ]
  },
  {
   "attachments": {},
   "cell_type": "markdown",
   "metadata": {},
   "source": [
    "### **Using Databricks Repos**"
   ]
  },
  {
   "attachments": {},
   "cell_type": "markdown",
   "metadata": {},
   "source": [
    "En esta lección, exploraremos el uso de Databricks repos, que proporciona integración a nivel de repositorio con los proveedores de Git para apoyar las mejores prácticas para la ciencia de datos y el desarrollo de código de ingeniería. Antes de trabajar con repositorios, primero debemos configurar la integración de Git en nuestro workspace y tener un repositorio listo para esta demo. \n",
    "\n",
    "Para esta demostración, realizaremos estas tareas utilizando GitHub. Se necesitan dos datos para conectar Databricks a un servicio Git: el nombre de usuario para iniciar sesión en tu cuenta del servicio Git y un token de acceso personal. Vamos a obtener esto ahora haciendo clic en el avatar en la página principal de GitHub. Además de mostrar el nombre de usuario de la cuenta, seleccionemos Settings y luego Developer Settings. \n",
    "\n",
    "<center><img src=\"https://i.postimg.cc/85ydhwdB/db304.png\"></center>\n",
    "<center><img src=\"https://i.postimg.cc/J72c06zR/db305.png\"></center>"
   ]
  },
  {
   "attachments": {},
   "cell_type": "markdown",
   "metadata": {},
   "source": [
    "En la pestaña Personal Access Tokens, haz clic en Generate New Token. \n",
    "\n",
    "<center><img src=\"https://i.postimg.cc/J0GNKJPw/db306.png\"></center>"
   ]
  },
  {
   "attachments": {},
   "cell_type": "markdown",
   "metadata": {},
   "source": [
    "En la página New Personal Access Token, especifiquemos una nota que describa el propósito del token y una fecha de caducidad. La elección de la fecha de caducidad implica un compromiso entre comodidad y seguridad. Cuanto más corta sea la vida útil del token, más a menudo tendrá que actualizarlo, cuanto más larga sea la vida útil, mayor será el riesgo de exposición si el token cae sin saberlo en las manos equivocadas. Para el scope especificaremos Repo. \n",
    "\n",
    "<center><img src=\"https://i.postimg.cc/C5Xj21QR/db307.png\"></center>"
   ]
  },
  {
   "attachments": {},
   "cell_type": "markdown",
   "metadata": {},
   "source": [
    "Haremos clic en Generar token. \n",
    "\n",
    "<center><img src=\"https://i.postimg.cc/3wY2VznF/db308.png\"></center>"
   ]
  },
  {
   "attachments": {},
   "cell_type": "markdown",
   "metadata": {},
   "source": [
    "Y tenemos esta cadena alfanumérica mostrada. Esta cadena representa el token que necesitaremos para autenticarnos porque no podremos ver esto de nuevo, copiemos este texto a una ubicación temporal segura. Lo necesitaremos en breve. \n",
    "\n",
    "<center><img src=\"https://i.postimg.cc/WbqmkGdg/db309.png\"></center>"
   ]
  },
  {
   "attachments": {},
   "cell_type": "markdown",
   "metadata": {},
   "source": [
    "Ahora vamos a integrar nuestro workspace con GitHub. En el Data Science and Engineering workspace, vamos a la página de \"User Settings\", accesible desde el icono de \"Settings\" en la barra lateral. \n",
    "\n",
    "<center><img src=\"https://i.postimg.cc/CK7bgJ2T/db310.png\"></center>"
   ]
  },
  {
   "attachments": {},
   "cell_type": "markdown",
   "metadata": {},
   "source": [
    "Desde allí, vamos a la pestaña Git Integration. Ahora vamos a especificar GitHub para el proveedor de Git. Rellena nuestro nombre de usuario de GitHub, pega el token, y haz clic en guardar. \n",
    "\n",
    "<center><img src=\"https://i.postimg.cc/FHjjPhgK/db311.png\"></center>"
   ]
  },
  {
   "attachments": {},
   "cell_type": "markdown",
   "metadata": {},
   "source": [
    "Ahora hemos integrado Databricks con nuestra cuenta de GitHub. Una nota importante, asegúrate de destruir de forma segura la copia temporal del token. Se almacena de forma segura en Databricks. Ahora mantener una copia extra es una responsabilidad de seguridad añadida. Cada Databricks repo se asigna a un repositorio Git, por lo que con el fin de configurar un repositorio, vamos a crear un repositorio primero en GitHub. \n",
    "\n",
    "En la página principal de GitHub, haremos clic en Crear repositorio y especificaremos un nombre para el repositorio. También activaremos la opción \"Añadir un archivo README\" y haremos clic en \"Crear repositorio\". GitHub muestra ahora la URL del repositorio, así que vamos a copiarla. \n",
    "\n",
    "<center><img src=\"https://i.postimg.cc/CxyGHR8t/db312.png\"></center>\n",
    "\n",
    "<center><img src=\"https://i.postimg.cc/9MfZFZ34/db313.png\"></center>"
   ]
  },
  {
   "attachments": {},
   "cell_type": "markdown",
   "metadata": {},
   "source": [
    "Interactuar con el contenido de un repositorio es muy parecido a interactuar con las carpetas y activos convencionales de tu workspace. Cualquier cambio que hagas en un repo, sin embargo, es rastreado y puede ser sincronizado con un repositorio remoto. Vamos a crear uno ahora. En la página Repos, haz click en \"Add Repo\". \n",
    "\n",
    "<center><img src=\"https://i.postimg.cc/nzw7srZ3/db314.png\"></center>"
   ]
  },
  {
   "attachments": {},
   "cell_type": "markdown",
   "metadata": {},
   "source": [
    "Ahora especificaremos la URL del repositorio que copiamos antes. Observe que los otros dos campos se rellenarán automáticamente. Ahora hagamos clic en Crear. \n",
    "\n",
    "<center><img src=\"https://i.postimg.cc/J0DXj8zM/db315.png\"></center>"
   ]
  },
  {
   "attachments": {},
   "cell_type": "markdown",
   "metadata": {},
   "source": [
    "El repositorio se creará y el repositorio Git subyacente se clonará en el repo. Es decir, tu nuevo repo contendrá una copia local del repositorio upstream. Ahora podemos navegar por el repositorio y empezar a desarrollar antes de confirmar (committing) cualquier cambio. Tenga en cuenta que se considera la mejor práctica para mantener los cambios contenidos dentro de nuestra rama de desarrollo, sobre todo cuando se trabaja en características que no están estrechamente vinculadas al trabajo de desarrollo que se está llevando a cabo por otros en su equipo siguiendo este modelo. Una vez que completes tus cambios y hayan sido probados y aprobados, entonces la fusión (merging) con futuras ramas o la rama main puede ser manejada de una manera más controlada. \n",
    "\n",
    "<center><img src=\"https://i.postimg.cc/BbrKgzjD/db316.png\"></center>\n",
    "\n",
    "Vamos a crear una rama llamada \"dev\". Hacemos esto desde el diálogo Repos, al que podemos acceder desde la página Repos o desde cualquier notebook dentro de ese repo.\n",
    "\n",
    "<center><img src=\"https://i.postimg.cc/h46TcX2j/db317.png\"></center>"
   ]
  },
  {
   "attachments": {},
   "cell_type": "markdown",
   "metadata": {},
   "source": [
    "Hagamos clic en Crear Rama y especifiquemos el nombre de la rama que queremos crear. Al crear una nueva rama, se convertirá automáticamente en la rama contra la que estás desarrollando, pero puedes utilizar este menú desplegable en cualquier momento para cambiar a una rama diferente. \n",
    "\n",
    "<center><img src=\"https://i.postimg.cc/Gm1DTZwn/db318.png\"></center>\n",
    "\n",
    "Con la rama de desarrollo creada y seleccionada, ahora podemos empezar a hacer cambios según sea necesario. Para empezar, vamos a crear una carpeta. \n",
    "\n",
    "<center><img src=\"https://i.postimg.cc/0ydwYcPM/db319.png\"></center>\n",
    "<center><img src=\"https://i.postimg.cc/vHn9BGKv/db320.png\"></center>"
   ]
  },
  {
   "attachments": {},
   "cell_type": "markdown",
   "metadata": {},
   "source": [
    "Ahora vamos a añadir un notebook. Hay varias maneras de hacerlo: crear un notebook como lo harías con cualquier carpeta convencional en tu workspace. Podemos importar un notebook o clonar un notebook existente desde el workspace al repo. Hemos creado un nuevo repositorio y localmente hemos creado una nueva carpeta que contiene algunos notebooks. Vamos a enviar esto a nuestro repositorio remoto. Haremos esto desde el diálogo Repos, al que de nuevo podemos acceder desde la página Repos o desde cualquier notebook dentro del repositorio.\n",
    "\n",
    "<center><img src=\"https://i.postimg.cc/QM8W01d6/db321.png\"></center> \n",
    "<center><img src=\"https://i.postimg.cc/rpfRbsdq/db322.png\"></center>\n",
    "<center><img src=\"https://i.postimg.cc/Y9jLw7gY/db323.png\"></center>\n",
    "<center><img src=\"https://i.postimg.cc/ZRgBbQFg/db324.png\"></center>"
   ]
  },
  {
   "attachments": {},
   "cell_type": "markdown",
   "metadata": {},
   "source": [
    "Este diálogo detalla los elementos cambiados. Esto es útil porque a veces hacemos un montón de cambios no relacionados antes de acordarnos de hacer el commit. Este diálogo nos permite ver lo que ha cambiado en cada archivo, confirmar (commit) todos los cambios a la vez o cada cambio individualmente o cualquier número de cambios juntos. Esto hace más fácil seguir la mejor práctica de agrupar lógicamente los commits como una colección de cambios relacionados. Para cada commit debemos proporcionar un resumen que sea descriptivo y conciso. Si se desea, se pueden proporcionar detalles adicionales en la descripción. Vamos a confirmar los cambios haciendo clic en \"Commit & Push\". \n",
    "\n",
    "<center><img src=\"https://i.postimg.cc/HnyJVt6L/db325.png\"></center>\n",
    "<center><img src=\"https://i.postimg.cc/y6kbYrzT/db326.png\"></center>\n",
    "<center><img src=\"https://i.postimg.cc/T2FHyqdv/db327.png\"></center>\n",
    "<center><img src=\"https://i.postimg.cc/7br57TRn/db328.png\"></center>"
   ]
  },
  {
   "attachments": {},
   "cell_type": "markdown",
   "metadata": {},
   "source": [
    "Esto acepta los cambios en nuestra copia local del repositorio y sincroniza el repositorio upstream para que estos cambios estén disponibles para los demás. Ahora voy a señalar que las cosas pueden complicarse un poco más cuando varios desarrolladores están colaborando en la misma rama. Si alguien más empujó cambios a la repo que entran en conflicto con sus cambios, entonces no serás capaz de empujar (push) estos cambios. Tendrás que hacer un pull primero y potencialmente lidiar con cualquier conflicto de fusión (merge) que a veces puede ocurrir cuando se detectan cambios conflictivos. Por lo tanto, hacer pull con regularidad es importante, sobre todo cuando varios desarrolladores trabajan en la misma rama. Hasta ahora, todos los cambios que hemos hecho están aislados en la rama dev que hemos creado. Vamos a verificar esto cambiando de rama. \n",
    "\n",
    "<center><img src=\"https://i.postimg.cc/HsMvbcnc/db329.png\"></center>\n",
    "\n",
    "Observa que la carpeta examples parece desaparecer. Y observe cómo sólo aparece cuando cambiamos de nuevo a la rama dev. La rama main actualmente no tiene visibilidad sobre esta nueva carpeta o cualquier otro cambio realizado en la rama dev. \n",
    "\n",
    "<center><img src=\"https://i.postimg.cc/HkCZzY8S/db330.png\"></center>\n",
    "\n",
    "En este video, creamos un repositorio y ejecutamos todas las operaciones típicas que ocurren durante el ciclo de vida de desarrollo. Creamos una rama, hicimos cambios, hicimos commit y push de esos cambios y realizamos un pull."
   ]
  }
 ],
 "metadata": {
  "language_info": {
   "name": "python"
  },
  "orig_nbformat": 4
 },
 "nbformat": 4,
 "nbformat_minor": 2
}
