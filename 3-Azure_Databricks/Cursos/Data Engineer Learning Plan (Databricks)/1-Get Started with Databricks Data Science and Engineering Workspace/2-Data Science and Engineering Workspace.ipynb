{
 "cells": [
  {
   "attachments": {},
   "cell_type": "markdown",
   "metadata": {},
   "source": [
    "### **1.2 - Data Science and Engineering Workspace**"
   ]
  },
  {
   "attachments": {},
   "cell_type": "markdown",
   "metadata": {},
   "source": [
    "El primer elemento importante que encontramos en la barra lateral es este selector. Aquí podemos elegir entre tres servicios diferentes proporcionados por Databricks, incluyendo el **\"Data Science and Engineering Workspace\", \"Databricks Machine Learning\" y \"Databricks SQL\"**. Puedo acceder a Databricks SQL para realizar análisis de datos ad hoc y exploratorios en nuestro Data Lake y para desarrollar rápidamente dashboards ágiles para probar y validar requisitos empresariales. Databricks Machine Learning es un espacio central para gestionar machine learning workflows y realizar un seguimiento de todos los recursos relacionados con ML. Y, por supuesto, el Data Science and Engineering workspace, que utilizaremos aquí. Ten en cuenta que puedes anclar (pin) esta opción para que sea la predeterminada cuando inicies sesión en esta plataforma.  \n",
    "\n",
    "<center><img src=\"https://i.postimg.cc/J44bHSgg/db276.png\"></center>"
   ]
  },
  {
   "attachments": {},
   "cell_type": "markdown",
   "metadata": {},
   "source": [
    "Desde la barra lateral, también puedes **Crear** rápidamente recursos como notebooks, tablas, clusters, jobs y repos. Hablaremos más sobre esto más adelante. \n",
    "\n",
    "<center><img src=\"https://i.postimg.cc/mkZFMFdM/db277.png\"></center>"
   ]
  },
  {
   "attachments": {},
   "cell_type": "markdown",
   "metadata": {},
   "source": [
    "La pestaña **Workspace** proporciona un navegador del sistema de archivos (file system) para acceder y gestionar datasets en tu workspace. \n",
    "\n",
    "<center><img src=\"https://i.postimg.cc/zBFgVkk8/db278.png\"></center>"
   ]
  },
  {
   "attachments": {},
   "cell_type": "markdown",
   "metadata": {},
   "source": [
    "La pestaña **Repos** proporciona un navegador de sistema de archivos (file system) que es similar al de Workspace, pero se utiliza para navegar por los recursos contenidos en los repos de Databricks que has descargado. Más adelante hablaremos de los repos. \n",
    "\n",
    "<center><img src=\"https://i.postimg.cc/xTxLvtVd/db279.png\"></center>"
   ]
  },
  {
   "attachments": {},
   "cell_type": "markdown",
   "metadata": {},
   "source": [
    "A continuación está la pestaña **Recent**, que proporciona un acceso rápido a los recursos utilizados recientemente, lo que puede ser útil durante el desarrollo. \n",
    "\n",
    "<center><img src=\"https://i.postimg.cc/VNMMcwrS/db280.png\"></center>"
   ]
  },
  {
   "attachments": {},
   "cell_type": "markdown",
   "metadata": {},
   "source": [
    "La pestaña **Data** te permite navegar por los recursos de datos contenidos en tu workspace. Aquí puedes navegar por bases de datos y tablas. Y también navegar por el Databricks File system, un sistema de archivos persistente distribuido disponible para todos tus clusters. \n",
    "\n",
    "<center><img src=\"https://i.postimg.cc/vZC9jTBF/db281.png\"></center>"
   ]
  },
  {
   "attachments": {},
   "cell_type": "markdown",
   "metadata": {},
   "source": [
    "Y haciendo clic en **Compute** aquí te llevará a la página Clusters donde puedes crear y gestionar clusters para ejecutar comandos y cargas de trabajo. \n",
    "\n",
    "<center><img src=\"https://i.postimg.cc/DZTGvNLx/db282.png\"></center>"
   ]
  },
  {
   "attachments": {},
   "cell_type": "markdown",
   "metadata": {},
   "source": [
    "Y haciendo clic en el botón de **Jobs** te llevará a una página donde puedes crear y gestionar jobs y pipelines. Estos te permiten ejecutar cargas de trabajo bajo demanda o programadas. \n",
    "\n",
    "<center><img src=\"https://i.postimg.cc/XYrdQdnk/db283.png\"></center>"
   ]
  },
  {
   "attachments": {},
   "cell_type": "markdown",
   "metadata": {},
   "source": [
    "Y a continuación encontrará otras funciones útiles. **Partner Connect** que te permite conectar rápida y fácilmente tu workspace a una lista selecta pero cada vez mayor de integraciones de socios. \n",
    "\n",
    "<center><img src=\"https://i.postimg.cc/pr05BX7S/db284.png\"></center>"
   ]
  },
  {
   "attachments": {},
   "cell_type": "markdown",
   "metadata": {},
   "source": [
    "También podemos acceder a **Help** para acceder a la documentación del producto, notas de la versión, una base de conocimientos, asistencia de la comunidad y mucho más. \n",
    "\n",
    "<center><img src=\"https://i.postimg.cc/c4HnLwtG/db285.png\"></center>"
   ]
  },
  {
   "attachments": {},
   "cell_type": "markdown",
   "metadata": {},
   "source": [
    "Y podemos ir a Settings para configurar nuestros **Ajustes de usuario (User settings)**. En este momento estoy conectado como student@databricks.com. Esto proporciona ajustes como restablecer tu contraseña, tokens de acceso personal, integración Git, notebooks y más. Así como el Admin console para gestionar este workspace y el account console, asumiendo que tienes los privilegios relevantes. \n",
    "\n",
    "<center><img src=\"https://i.postimg.cc/zXcRbvTb/db286.png\"></center>\n",
    "<center><img src=\"https://i.postimg.cc/KcQTbJz5/db287.png\"></center>"
   ]
  },
  {
   "attachments": {},
   "cell_type": "markdown",
   "metadata": {},
   "source": [
    "Así que ahora que hemos repasado los componentes básicos de este workspace, podemos navegar a mi carpeta y hacer clic en Add Repo para especificar el repositorio Git para este curso. Al pegar aquí la URL del repositorio se rellena automáticamente el nombre del repositorio, que puedes cambiar libremente.\n",
    "\n",
    "<center><img src=\"https://i.postimg.cc/wjRRhzkW/db288.png\"></center>\n",
    "<center><img src=\"https://i.postimg.cc/1zxnBdCy/db289.png\"></center>"
   ]
  }
 ],
 "metadata": {
  "language_info": {
   "name": "python"
  },
  "orig_nbformat": 4
 },
 "nbformat": 4,
 "nbformat_minor": 2
}
