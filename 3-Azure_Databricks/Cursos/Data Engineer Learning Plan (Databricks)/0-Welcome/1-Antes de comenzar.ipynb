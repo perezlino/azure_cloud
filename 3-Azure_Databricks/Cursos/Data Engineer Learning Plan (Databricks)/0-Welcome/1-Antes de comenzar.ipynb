{
 "cells": [
  {
   "attachments": {},
   "cell_type": "markdown",
   "metadata": {},
   "source": [
    "### **0.1 - Antes de comenzar**"
   ]
  },
  {
   "attachments": {},
   "cell_type": "markdown",
   "metadata": {},
   "source": [
    "Bienvenido a Ingeniería de Datos con Databricks (V3)\n",
    "\n",
    "ANTES DE EMPEZAR: Tenga en cuenta que este curso se publicó por primera vez el 14 de octubre de 2022 y es la \n",
    "última versión del curso Ingeniería de datos con Databricks. Este curso le enseñará las últimas mejores prácticas \n",
    "para la ingeniería de datos con Databricks. \n",
    "\n",
    "Este curso también le ayudará a prepararse para el examen Databricks Certified Data Engineer Associate (V3) que se \n",
    "publicó el 19 de noviembre de 2022."
   ]
  }
 ],
 "metadata": {
  "language_info": {
   "name": "python"
  },
  "orig_nbformat": 4
 },
 "nbformat": 4,
 "nbformat_minor": 2
}
