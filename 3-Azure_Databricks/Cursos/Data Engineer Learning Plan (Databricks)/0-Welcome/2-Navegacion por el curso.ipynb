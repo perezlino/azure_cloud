{
 "cells": [
  {
   "attachments": {},
   "cell_type": "markdown",
   "metadata": {},
   "source": [
    "### **0.2 - Navegación por el curso**"
   ]
  },
  {
   "attachments": {},
   "cell_type": "markdown",
   "metadata": {},
   "source": [
    "#### Navegación por el curso\n",
    "\n",
    "Este curso incluye los módulos de nivel \"Associate\" del itinerario de aprendizaje para Data Engineer. Estos incluyen:\n",
    "\n",
    "- Módulo 1: Introducción al Data Engineering y Data Science Workspace de Databricks\n",
    "- Módulo 2: Transformación de datos con Spark (SQL/Python)\n",
    "- Módulo 3: Gestionar datos con Delta Lake\n",
    "- Módulo 4: Construir Data Pipelines con Delta Live Tables (SQL/Python)\n",
    "- Módulo 5: Despliegue de Workloads con Databricks Workflow Jobs\n",
    "- Módulo 6: Gestionar el acceso a los datos para el análisis con Unity Catalog (OPCIONAL)\n",
    "\n",
    "Los módulos anteriores corresponden a las seis primeras carpetas de módulos en el repositorio git para la ruta de aprendizaje de Data Engineer."
   ]
  },
  {
   "attachments": {},
   "cell_type": "markdown",
   "metadata": {},
   "source": [
    "#### Nota sobre Unity Catalog\n",
    "\n",
    "El módulo 6 requiere un Databricks workspace habilitado con Unity Catalog, así como permisos de administración del workspace. Si estos no están disponibles para ti, siéntete libre de ver las demos o saltarte este contenido.\n",
    " \n",
    "Para aquellos que no puedan tomar el módulo de Unity Catalog, recomendamos revisar el material opcional de Databricks SQL incluido en la carpeta del Módulo 5 del repositorio de la Ruta de Aprendizaje de Data Engineer."
   ]
  },
  {
   "attachments": {},
   "cell_type": "markdown",
   "metadata": {},
   "source": [
    "#### SQL vs Python\n",
    "\n",
    "Los módulos 2 y 4 incluyen contenido específico de SQL o Python. Si sólo estás interesado en SQL, siéntete libre de saltarte las lecciones de sólo Python. Si estás interesado en programar con Python, no dudes en saltarte las lecciones de sólo SQL. Tenga en cuenta que SQL se utiliza a lo largo del curso tanto para desarrolladores SQL como Python."
   ]
  }
 ],
 "metadata": {
  "language_info": {
   "name": "python"
  },
  "orig_nbformat": 4
 },
 "nbformat": 4,
 "nbformat_minor": 2
}
