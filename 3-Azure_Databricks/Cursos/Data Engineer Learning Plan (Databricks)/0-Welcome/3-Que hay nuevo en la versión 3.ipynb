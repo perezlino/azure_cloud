{
 "cells": [
  {
   "attachments": {},
   "cell_type": "markdown",
   "metadata": {},
   "source": [
    "### **0.3 - Actualizaciones recientes del curso**"
   ]
  },
  {
   "attachments": {},
   "cell_type": "markdown",
   "metadata": {},
   "source": [
    "El contenido heredado de Ingeniería de datos con Databricks (V2) se ha adaptado a los módulos 1 a 6 del nuevo itinerario de aprendizaje para ingenieros de datos. A continuación se enumeran los cambios más destacados en estos módulos respecto al curso anterior.\n",
    "\n",
    "- Se ha añadido un nuevo módulo opcional sobre Unity Catalog, que sustituye al módulo anterior sobre Gestión de permisos.\n",
    "\n",
    "- Se han añadido nuevas lecciones y laboratorios de Delta Live Tables que cubren más contenido, incluyendo sintaxis SQL y Python (antes sólo SQL), procesamiento de datos CDC con APPLY CHANGES INTO, etc.\n",
    "\n",
    "- Eliminados los módulos anteriores sobre Arquitectura Multi-Hop y Procesamiento Incremental con Streaming Estructurado (reemplazados por el nuevo contenido de Delta Live Tables)\n",
    "\n",
    "- Añadido código PySpark equivalente para consultas Spark SQL en lecciones de transformación Spark SQL; añadida nueva lección Python UDFs\n",
    "\n",
    "- Reorganización y condensación del contenido de tres módulos sobre Delta Lake, Entidades relacionales y ETL con Spark en dos módulos: Transformación de datos con Spark y Gestión de datos con Delta Lake"
   ]
  }
 ],
 "metadata": {
  "language_info": {
   "name": "python"
  },
  "orig_nbformat": 4
 },
 "nbformat": 4,
 "nbformat_minor": 2
}
