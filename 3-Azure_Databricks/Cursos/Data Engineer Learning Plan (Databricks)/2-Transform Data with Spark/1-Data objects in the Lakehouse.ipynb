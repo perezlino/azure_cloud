{
 "cells": [
  {
   "attachments": {},
   "cell_type": "markdown",
   "metadata": {},
   "source": [
    "### **2.1 - Data objects in the Lakehouse**"
   ]
  },
  {
   "attachments": {},
   "cell_type": "markdown",
   "metadata": {},
   "source": [
    "La arquitectura de Databricks Lakehouse combina datos almacenados con el protocolo Delta Lake en Cloud Object Storage con metadatos registrados en un metastore. Hay cinco objetos primarios en el Databricks Lakehouse: \n",
    "\n",
    "<center><img src=\"https://i.postimg.cc/9FCn4DSz/db335.png\"></center>\n",
    "\n",
    "1. Un Catalog, que es un grupo de bases de datos\n",
    "2. Una Database o schema, que es una agrupación de objetos en un Catalog. Las bases de datos contienen tablas, vistas y funciones \n",
    "3. Una Tabla, que es una colección de filas y columnas almacenadas como archivos de datos y almacenamiento de objetos \n",
    "4. Una Vista que es una consulta guardada, normalmente contra una o más tablas o fuentes de datos \n",
    "5. Una función, que es una lógica guardada que devuelve un valor escalar o un conjunto de filas. \n",
    "\n",
    "<center><img src=\"https://i.postimg.cc/QM94L1BY/db336.png\"></center>\n",
    "\n",
    "Las \"Managed tables\" se basan en archivos que se almacenan en la ubicación de almacenamiento gestionado (managed storage location) configurada en el metastore. Al eliminar una \"managed table\", se eliminará la tabla y sus datos asociados. \n",
    "\n",
    "Las \"External tables\" son tablas cuyos archivos de datos se almacenan en una ubicación de almacenamiento en la nube (cloud storage location) fuera de la ubicación de almacenamiento gestionada (managed storage location). Por tanto, sólo se gestionan los metadatos de la tabla. \n",
    "\n",
    "La principal diferencia funcional se hace visible cuando se elimina una \"external table\". Los datos subyacentes se conservan mientras que sólo se elimina la tabla en sí. Por lo demás, las tablas gestionadas y externas reciben el mismo tratamiento desde el punto de vista del control de acceso."
   ]
  }
 ],
 "metadata": {
  "language_info": {
   "name": "python"
  },
  "orig_nbformat": 4
 },
 "nbformat": 4,
 "nbformat_minor": 2
}
