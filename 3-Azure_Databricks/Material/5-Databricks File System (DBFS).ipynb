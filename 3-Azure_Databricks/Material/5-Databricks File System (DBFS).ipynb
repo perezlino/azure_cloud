{
 "cells": [
  {
   "attachments": {},
   "cell_type": "markdown",
   "metadata": {},
   "source": [
    "### ![Spark Logo Tiny](https://files.training.databricks.com/images/105/logo_spark_tiny.png) Databricks File System (DBFS)"
   ]
  },
  {
   "attachments": {},
   "cell_type": "markdown",
   "metadata": {},
   "source": [
    "Es en la opción **Data** donde podemos subir los archivos al DBFS\n",
    "\n",
    "<center><img src=\"https://i.postimg.cc/C5ZxgTt1/db15.png\"></center>\n",
    "\n",
    "También nos permite **crear una tabla** a partir del archivo que estamos subiendo\n",
    "\n",
    "<center><img src=\"https://i.postimg.cc/sf82JxQZ/db16.png\"></center>\n",
    "<center><img src=\"https://i.postimg.cc/Jz34mQTb/db17.png\"></center>\n",
    "<center><img src=\"https://i.postimg.cc/Dz2fzbDR/db18.png\"></center>\n",
    "<center><img src=\"https://i.postimg.cc/SKDSYxbR/db19.png\"></center>\n",
    "\n",
    "Esta tabla se guardará en la base de datos **default**\n",
    "\n",
    "<center><img src=\"https://i.postimg.cc/VLCkZwnZ/db20.png\"></center>\n",
    "\n",
    "Y nuestro archivo (si no indicamos ningún subdirectorio al momento de subirlo) se almacenará en la ruta **FileStore/tables/**\n",
    "\n",
    "<center><img src=\"https://i.postimg.cc/x1VTWZPf/db21.png\"></center>"
   ]
  }
 ],
 "metadata": {
  "language_info": {
   "name": "python"
  },
  "orig_nbformat": 4
 },
 "nbformat": 4,
 "nbformat_minor": 2
}
