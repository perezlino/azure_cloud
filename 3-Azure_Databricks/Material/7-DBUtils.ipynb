{
 "cells": [
  {
   "attachments": {},
   "cell_type": "markdown",
   "metadata": {},
   "source": [
    "### ![Spark Logo Tiny](https://files.training.databricks.com/images/105/logo_spark_tiny.png) **DBUtils**"
   ]
  },
  {
   "attachments": {},
   "cell_type": "markdown",
   "metadata": {},
   "source": [
    "#### **DBUtils for help**\n",
    "\n",
    "- dbutils.fs.help()\n",
    "- dbutils.notebook.help()\n",
    "- dbutils.widgets.help()\n",
    "- dbutils.secrets.help()"
   ]
  },
  {
   "attachments": {},
   "cell_type": "markdown",
   "metadata": {},
   "source": [
    "#### **DBUtils for commands**\n",
    "\n",
    "<center><img src=\"https://i.postimg.cc/43KJzxSP/db396.png\"></center>"
   ]
  },
  {
   "attachments": {},
   "cell_type": "markdown",
   "metadata": {},
   "source": [
    "**`Ejemplos`**\n",
    "\n",
    "- **dbutils.fs.ls(\"/FileStore/tables/by-day\")**\n",
    "- **dbutils.fs.head(\"/FileStore/tables/by-day/2010_12_02.csv\")** ==> (Nos muestra el contenido del archivo)\n",
    "- **dbutils.fs.mkdirs(\"/FileStore/tables/by-year/\")** ==> (Me permite crear un nuevo directorio)\n",
    "- **dbutils.fs.cp(\"/FileStore/tables/by-day/2010_12_02.csv\",\"/FileStore/tables/by-year/\")** ==> (Copiar un archivo de un directorio a otro)\n",
    "- **dbutils.fs.mv(\"/FileStore/tables/by-day/2010_12_03.csv\",\"/FileStore/tables/by-year/\")** ==> (Mover un archive de un directorio a otro)\n",
    "- **dbutils.fs.put(\"/FileStore/tables/by-year/prueba.txt\",\"Hola Alfonso\")** ==> (Me permite crear un archivo y también ingresarle un string)\n",
    "- **dbutils.fs.rm(\"/FileStore/tables/by-year/prueba.txt\")** ==> (Me permite eliminar un archivo)\n",
    "- **dbutils.fs.rm(\"/FileStore/tables/by-year/\",True)** ==> (Elimino el directorio)\n"
   ]
  }
 ],
 "metadata": {
  "language_info": {
   "name": "python"
  },
  "orig_nbformat": 4
 },
 "nbformat": 4,
 "nbformat_minor": 2
}
