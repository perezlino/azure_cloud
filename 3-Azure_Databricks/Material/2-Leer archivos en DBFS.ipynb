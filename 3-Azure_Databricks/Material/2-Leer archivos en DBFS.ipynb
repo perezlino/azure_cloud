{
 "cells": [
  {
   "attachments": {},
   "cell_type": "markdown",
   "metadata": {},
   "source": [
    "### ![Spark Logo Tiny](https://files.training.databricks.com/images/105/logo_spark_tiny.png) Leer archivos en DBFS"
   ]
  },
  {
   "attachments": {},
   "cell_type": "markdown",
   "metadata": {},
   "source": [
    "Teniendo los siguientes archivos en el DBFS\n",
    "\n",
    "<center><img src=\"https://i.postimg.cc/QCFYvGZS/db3.png\"></center>\n",
    "<center><img src=\"https://i.postimg.cc/mgYXvyKx/db4.png\"></center>\n",
    "\n",
    "Podemos inspeccionar utilizando el comando mágico **%fs** y luego el comando **ls**\n",
    "\n",
    "<center><img src=\"https://i.postimg.cc/zXRPjrjG/db5.png\"></center>\n",
    "<center><img src=\"https://i.postimg.cc/zDQcKBTQ/db6.png\"></center>\n",
    "<center><img src=\"https://i.postimg.cc/fRnqqr2j/db7.png\"></center>"
   ]
  }
 ],
 "metadata": {
  "language_info": {
   "name": "python"
  },
  "orig_nbformat": 4
 },
 "nbformat": 4,
 "nbformat_minor": 2
}
