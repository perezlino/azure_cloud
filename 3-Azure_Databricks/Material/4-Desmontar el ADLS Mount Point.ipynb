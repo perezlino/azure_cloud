{
 "cells": [
  {
   "attachments": {},
   "cell_type": "markdown",
   "metadata": {},
   "source": [
    "### ![Spark Logo Tiny](https://files.training.databricks.com/images/105/logo_spark_tiny.png) Desmontar el ADLS Mount Point"
   ]
  },
  {
   "attachments": {},
   "cell_type": "markdown",
   "metadata": {},
   "source": [
    "Desmontamos (unmount) el ADLS Mount Point\n",
    "\n",
    "Utilizamos **dbutils.fs.unmount('mount_point')**\n",
    "\n",
    "<center><img src=\"https://i.postimg.cc/bJTYv5rQ/db14.png\"></center>"
   ]
  }
 ],
 "metadata": {
  "language_info": {
   "name": "python"
  },
  "orig_nbformat": 4
 },
 "nbformat": 4,
 "nbformat_minor": 2
}
