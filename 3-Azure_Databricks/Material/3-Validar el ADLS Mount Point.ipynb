{
 "cells": [
  {
   "attachments": {},
   "cell_type": "markdown",
   "metadata": {},
   "source": [
    "### ![Spark Logo Tiny](https://files.training.databricks.com/images/105/logo_spark_tiny.png) Validar el ADLS Mount Point"
   ]
  },
  {
   "attachments": {},
   "cell_type": "markdown",
   "metadata": {},
   "source": [
    "Para la integración con ADLS se utilizó **Service Principal y Databricks Scoped Secret**\n",
    "\n",
    "<center><img src=\"https://i.postimg.cc/PxByPS75/db8.png\"></center>\n",
    "<center><img src=\"https://i.postimg.cc/kXNsgFv7/db9.png\"></center>\n",
    "<center><img src=\"https://i.postimg.cc/fTWtYchz/db10.png\"></center>\n",
    "<center><img src=\"https://i.postimg.cc/kMsDM2Rk/db11.png\"></center>\n",
    "<center><img src=\"https://i.postimg.cc/B6WPFRJk/db12.png\"></center>\n",
    "<center><img src=\"https://i.postimg.cc/1Rv5hbLS/db13.png\"></center>"
   ]
  }
 ],
 "metadata": {
  "language_info": {
   "name": "python"
  },
  "orig_nbformat": 4
 },
 "nbformat": 4,
 "nbformat_minor": 2
}
