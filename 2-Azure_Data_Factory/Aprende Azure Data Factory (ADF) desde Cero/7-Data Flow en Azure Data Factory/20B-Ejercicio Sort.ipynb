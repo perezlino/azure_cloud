{
 "cells": [
  {
   "attachments": {},
   "cell_type": "markdown",
   "metadata": {},
   "source": [
    "### Ejercicio - Sort"
   ]
  },
  {
   "cell_type": "code",
   "execution_count": null,
   "metadata": {
    "vscode": {
     "languageId": "sql"
    }
   },
   "outputs": [],
   "source": [
    "Del ejercicio anterior (19B-Ejercicio Filter), se quiere que se realicen algunos ordenamientos a las columnas con la \n",
    "transformación \"Sort\".\n",
    "\n",
    "Finalmente limpiar la tabla Empleado y cargar la nueva data."
   ]
  },
  {
   "cell_type": "code",
   "execution_count": null,
   "metadata": {
    "vscode": {
     "languageId": "sql"
    }
   },
   "outputs": [],
   "source": [
    "                                                                                                                                                              Tarea que agregamos          \n",
    "                                                                                                                                                                      |\n",
    "                                                                                                                                                                      |\n",
    "                                                                                                                                                                      ˅\n",
    "       SOURCE                     PARSE                     PARSE                     PARSE                     SELECT                    FILTER                     SORT                      SINK\n",
    " __________________          ________________          ________________          ________________          ________________          ________________          ________________          ________________\n",
    "|                  |        |                |        |                |        |                |        |                |        |                |        |                |        |                |      \n",
    "|  sourceEmpleado  |--------|   ParseNombre  |--------|    ParseJson   |--------|    ParseXML    |--------|     Select     |--------|     Filter     |--------|      Sort      |--------|  sinkEmpleado  |\n",
    "|__________________| +      |________________| +      |________________| +      |________________| +      |________________| +      |________________| +      |________________| +      |________________|"
   ]
  },
  {
   "attachments": {},
   "cell_type": "markdown",
   "metadata": {},
   "source": [
    "##### sourceDataExportacion\n",
    "\n",
    "- Utilizamos \"Inline Dataset\" (obtenemos el mismo resultado que utilizando \"Dataset\", no se cual es la real diferencia)\n",
    "- Inline Dataset Type: escogemos el tipo de origen\n",
    "- Linked service: escogemos el Linked Service de origen, y este apunta hacia Azure Blob Storage, a una ruta especifica\n",
    "- Debug mode: al activarlo nos permitirá acceder a las opciones de Projection y Data preview. \n",
    "\n",
    "<center><img src=\"https://i.postimg.cc/G2v5cz0J/adf179.png\"></center>\n",
    "\n",
    "- Si se selecciona un archivo Excel como origen, debemos indicar el nombre de Hoja de ese libro Excel. Seleccionamos \n",
    "  también \"First row as header\"\n",
    "\n",
    "<center><img src=\"https://i.postimg.cc/BbQcdCJv/adf180.png\"></center>\n",
    "\n",
    "- Importamos el schema\n",
    "\n",
    "<center><img src=\"https://i.postimg.cc/DwqJPXKp/adf181.png\"></center>\n",
    "\n",
    "\n",
    "##### ParseNombre\n",
    "\n",
    "- Analizamos la primera columna del archivo \"Nombre\"\n",
    "- Column: escribimos el nombre que tendrá la columna de salida\n",
    "- Expression: escribimos el nombre de la columna que se va a trabajar\n",
    "- Output column type: (Nombre as string, Apellido as string)\n",
    "\n",
    "<center><img src=\"https://i.postimg.cc/sfbgH4sf/adf182.png\"></center>\n",
    "\n",
    "- Visualizamos los datos\n",
    "\n",
    "<center><img src=\"https://i.postimg.cc/SKth2mKQ/adf183.png\"></center>\n",
    "\n",
    "\n",
    "##### ParseJson\n",
    "\n",
    "- Analizamos la primera columna del archivo \"JsonValue\"\n",
    "- Column: escribimos el nombre que tendrá la columna de salida\n",
    "- Expression: escribimos el nombre de la columna que se va a trabajar\n",
    "- Output column type: (Cargo as string, FechaContratacion as date, FechaCumpleanio as date)\n",
    "\n",
    "<center><img src=\"https://i.postimg.cc/j5wLCgt9/adf184.png\"></center>\n",
    "\n",
    "- Visualizamos los datos\n",
    "\n",
    "<center><img src=\"https://i.postimg.cc/JzYrJN6W/adf185.png\"></center>\n",
    "\n",
    "\n",
    "##### ParseXML\n",
    "\n",
    "- Analizamos la primera columna del archivo \"XmlValue\"\n",
    "- Column: escribimos el nombre que tendrá la columna de salida\n",
    "- Expression: escribimos el nombre de la columna que se va a trabajar\n",
    "- Output column type: (Empleado as (Email as string, Telefono as string, ContactoEmergencia as string, ContactoEmergenciaTelefono as \n",
    "                       string))\n",
    "\n",
    "<center><img src=\"https://i.postimg.cc/MHp3yQ3h/adf186.png\"></center>\n",
    "\n",
    "- Visualizamos los datos\n",
    "\n",
    "<center><img src=\"https://i.postimg.cc/ZnWFbFMK/adf187.png\"></center>\n",
    "\n",
    "\n",
    "##### Select\n",
    "\n",
    "- Eliminamos ciertas columnas y seleccionamos nuestras columnas de salida\n",
    "\n",
    "<center><img src=\"https://i.postimg.cc/TYXJMmcG/adf188.png\"></center>\n",
    "<center><img src=\"https://i.postimg.cc/W4Jd1Y2y/adf189.png\"></center>\n",
    "\n",
    "\n",
    "##### Filter\n",
    "\n",
    "<center><img src=\"https://i.postimg.cc/RhjgHbkD/adf193.png\"></center>\n",
    "\n",
    "\n",
    "##### Sort\n",
    "\n",
    "<center><img src=\"https://i.postimg.cc/jjwmLPn2/adf195.png\"></center>\n",
    "\n",
    "\n",
    "##### sinkEmpleado\n",
    "\n",
    "- Utilizamos \"Inline Dataset\" (obtenemos el mismo resultado que utilizando \"Dataset\", no se cual es la real diferencia)\n",
    "- Inline Dataset Type: escogemos el tipo de salida\n",
    "- Linked service: escogemos el Linked Service de destino, y este apunta hacia Azure SQL Database, a una base de datos especifica\n",
    "- Debug mode: al activarlo nos permitirá acceder a las opciones de Mapping y Data preview. Además permitirá cargar los schemas\n",
    "              y tablas de la base de datos.\n",
    "\n",
    "<center><img src=\"https://i.postimg.cc/FF2N9Ffh/adf190.png\"></center>\n",
    "\n",
    "- Se cargará en la tabla que creamos 'Empleado'\n",
    "\n",
    "<center><img src=\"https://i.postimg.cc/L4kNsN5h/adf191.png\"></center>\n",
    "\n",
    "\n",
    "##### Ejecución del Pipeline y resultados\n",
    "\n",
    "- Despues de haber finalizado nuestro Data Flow, lo ejecutaremos dentro de una actividad \"Data Flow\" desde un Pipeline\n",
    "- Podemos ver que se ha cargado en la tabla\n",
    "\n",
    "<center><img src=\"https://i.postimg.cc/rwhQGs24/adf194.png\"></center> "
   ]
  }
 ],
 "metadata": {
  "language_info": {
   "name": "python"
  },
  "orig_nbformat": 4
 },
 "nbformat": 4,
 "nbformat_minor": 2
}
