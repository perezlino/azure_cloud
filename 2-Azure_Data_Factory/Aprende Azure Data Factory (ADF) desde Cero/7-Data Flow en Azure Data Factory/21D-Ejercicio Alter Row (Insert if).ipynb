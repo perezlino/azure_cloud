{
 "cells": [
  {
   "attachments": {},
   "cell_type": "markdown",
   "metadata": {},
   "source": [
    "### Ejercicio - Alter Row (Insert if)"
   ]
  },
  {
   "cell_type": "code",
   "execution_count": null,
   "metadata": {
    "vscode": {
     "languageId": "sql"
    }
   },
   "outputs": [],
   "source": [
    "Continuando con el desarrollo del ejercicio, se quiere que se realicen algunas actualizaciones de registros mediante la \n",
    "transformación \"AlterRow\".\n",
    "\n",
    "Los registros que se requiere actualizar corresponden a la columna \"Cargo\" donde el valor sea \"Production Technician - WC45\" de \n",
    "debe actualizar por \"REPRESENTANTE DE VENTA\".\n"
   ]
  },
  {
   "cell_type": "code",
   "execution_count": null,
   "metadata": {
    "vscode": {
     "languageId": "sql"
    }
   },
   "outputs": [],
   "source": [
    "      SOURCE                    ALTER ROW                 DERIVED COLUMN                 SINK\n",
    " _________________          __________________          __________________          ________________        \n",
    "|                 |        |                  |        |                  |        |                |      \n",
    "|  SourceEmpleado |--------|     AlterRow     |--------|  DerivedColumn   |--------|  sinkEmpleado  |\n",
    "|_________________| +      |__________________| +      |__________________| +      |________________|"
   ]
  },
  {
   "attachments": {},
   "cell_type": "markdown",
   "metadata": {},
   "source": [
    "##### sourceEmpleado\n",
    "\n",
    "- Utilizamos \"Inline Dataset\" (obtenemos el mismo resultado que utilizando \"Dataset\", no se cual es la real diferencia)\n",
    "- Inline Dataset Type: escogemos el tipo de origen\n",
    "- Linked service: escogemos el Linked Service de origen, y este apunta hacia Azure SQL Database, a una base de datos especifica\n",
    "- Debug mode: al activarlo nos permitirá acceder a las opciones de Projection y Data preview. También nos permitirá visualizar\n",
    "              las tablas en Source options\n",
    "\n",
    "<center><img src=\"https://i.postimg.cc/85qvBFHZ/adf196.png\"></center>\n",
    "<center><img src=\"https://i.postimg.cc/x1tbpp5J/adf197.png\"></center>\n",
    "\n",
    "- Importamos el schema\n",
    "\n",
    "<center><img src=\"https://i.postimg.cc/7YNCbtps/adf198.png\"></center>\n",
    "\n",
    "\n",
    "##### Alter Row\n",
    "\n",
    "- Condition: Delete if -> Cargo=='Production Technician - WC40'\n",
    "             Update if -> Cargo=='Production Technician - WC45'\n",
    "\n",
    "<center><img src=\"https://i.postimg.cc/q7T7ps7c/adf205.png\"></center>\n",
    "\n",
    "\n",
    "##### Derived Column\n",
    "\n",
    "<center><img src=\"https://i.postimg.cc/pXrCB8RB/adf206.png\"></center>\n",
    "\n",
    "\n",
    "##### sinkEmpleado\n",
    "\n",
    "- Utilizamos \"Inline Dataset\" (obtenemos el mismo resultado que utilizando \"Dataset\", no se cual es la real diferencia)\n",
    "- Inline Dataset Type: escogemos el tipo de salida\n",
    "- Linked service: escogemos el Linked Service de destino, y este apunta hacia Azure SQL Database, a una base de datos especifica\n",
    "- Debug mode: al activarlo nos permitirá acceder a las opciones de Mapping y Data preview. Además permitirá cargar los schemas\n",
    "              y tablas de la base de datos.\n",
    "\n",
    "<center><img src=\"https://i.postimg.cc/7ZTpmjwX/adf200.png\"></center>\n",
    "\n",
    "- Se cargará en la tabla que creamos 'Empleado'\n",
    "\n",
    "<center><img src=\"https://i.postimg.cc/Y9yG2vZp/adf207.png\"></center>\n",
    "\n",
    "- En base a la columna 'ID' realizará el eliminado de registros\n",
    "\n",
    "<center><img src=\"https://i.postimg.cc/L8BJYCwQ/adf208.png\"></center>\n",
    "\n",
    "\n",
    "##### Ejecución del Pipeline y resultados\n",
    "\n",
    "- Despues de haber finalizado nuestro Data Flow, lo ejecutaremos dentro de una actividad \"Data Flow\" desde un Pipeline\n",
    "- Podemos ver que se ha cargado en la tabla\n",
    "\n",
    "<center><img src=\"https://i.postimg.cc/rFgS7pFw/adf204.png\"></center> \n",
    "<center><img src=\"https://i.postimg.cc/76BtNrtB/adf209.png\"></center> "
   ]
  }
 ],
 "metadata": {
  "language_info": {
   "name": "python"
  },
  "orig_nbformat": 4
 },
 "nbformat": 4,
 "nbformat_minor": 2
}
