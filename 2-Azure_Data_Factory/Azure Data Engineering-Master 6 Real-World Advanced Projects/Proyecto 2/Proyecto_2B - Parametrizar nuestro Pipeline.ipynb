{
 "cells": [
  {
   "attachments": {},
   "cell_type": "markdown",
   "metadata": {},
   "source": [
    "### Proyecto 2B - Parametrizar nuestro Pipeline"
   ]
  },
  {
   "attachments": {},
   "cell_type": "markdown",
   "metadata": {},
   "source": [
    "Parametrizaremos nuestro pipeline con el fin de hacerlo dinámico y reutilizable con otros archivos"
   ]
  },
  {
   "attachments": {},
   "cell_type": "markdown",
   "metadata": {},
   "source": [
    "#### Paso 1 - Creación de un nuevo contenedor y archivo\n",
    "\n",
    "1. Creamos el contenedor **ipl** y almacenamos dentro el archivo **IPL_Players-1.csv**\n",
    "\n",
    "<center><img src=\"https://i.postimg.cc/t4j46N7q/adf412.png\"></center>"
   ]
  },
  {
   "attachments": {},
   "cell_type": "markdown",
   "metadata": {},
   "source": [
    "#### Paso 2 - Parametrizar los dataset de origen y destino\n",
    "\n",
    "2. Parametrizaremos el dataset de origen **adf_ds_Fifa_source_csv**, tanto el valor del contenedor como el del archivo\n",
    "    al cual se hace referencia. Creamos los siguientes parámetros a nivel de dataset:\n",
    "    *   ContainerName\n",
    "    *   FileName\n",
    "\n",
    "<center><img src=\"https://i.postimg.cc/7htQkVcg/adf413.png\"></center>\n",
    "<center><img src=\"https://i.postimg.cc/tCXxQbtt/adf414.png\"></center>\n",
    "\n",
    "3. Parametrizaremos el dataset de destino **adf_ds_Fifa_Sql_table**, tanto el valor del schema como el de la tabla. \n",
    "    Creamos los siguientes parámetros a nivel de dataset:\n",
    "    *   TableName\n",
    "    *   SName\n",
    "\n",
    "<center><img src=\"https://i.postimg.cc/NFKZLSRN/adf415.png\"></center>\n",
    "<center><img src=\"https://i.postimg.cc/wv1ds1pc/adf416.png\"></center>"
   ]
  },
  {
   "attachments": {},
   "cell_type": "markdown",
   "metadata": {},
   "source": [
    "#### Paso 3 - Crear una nueva tabla y parametrizar el pipeline\n",
    "\n",
    "4. Debemos crear una nueva tabla donde se cargaran los nuevos datos\n",
    "\n",
    "<center><img src=\"https://i.postimg.cc/HkMzjHRc/adf417.png\"></center>\n",
    "\n",
    "5. Creamos los parámetros a nivel de pipeline los dos parámetros que existian a nivel de dataflow, me refiero a los\n",
    "    parámetros:\n",
    "    ```\n",
    "    Name             Type       Default Value\n",
    "    ----             ----       -------------    \n",
    "    parameter_ID :   String     Player_id\n",
    "    parameter_SCD :  String    'Team,Coach'\n",
    "    ```\n",
    "<center><img src=\"https://i.postimg.cc/fbcJVgMf/adf419.png\"></center>\n",
    "\n",
    "6. Los parámetros a nivel de dataflow heredaran los valores de los parámetros a nivel de pipeline\n",
    "\n",
    "<center><img src=\"https://i.postimg.cc/KvWKwM9B/adf418.png\"></center>\n",
    "\n",
    "7.- Ingresamos los valores que tendrán los parámetros para los datasets de origen y destino. El stream **NEWData** hace referencia\n",
    "    a nuestro dataset de origen y el stream **ExistingData** hace referencia a nuestro dataset de destino. Finalmente, el stream\n",
    "    **sinToSQLDB** también hace referencia a nuestro dataset de destino.\n",
    "\n",
    "<center><img src=\"https://i.postimg.cc/XJxq8GGZ/adf420.png\"></center>\n",
    "<center><img src=\"https://i.postimg.cc/ZnMqGGL4/adf421.png\"></center>\n",
    "\n",
    "8.- Luego de Validar y ejecutar nuestro pipeline utilizando **Debug**, podemos ver que se cargaron todos los registros del \n",
    "    archivo **IPL_Players-1.csv** a la tabla **IPL_Players**\n",
    "\n",
    "<center><img src=\"https://i.postimg.cc/vmtZYgvP/adf422.png\"></center>\n",
    "\n"
   ]
  },
  {
   "attachments": {},
   "cell_type": "markdown",
   "metadata": {},
   "source": [
    "#### Paso 4 - Pruebas unitarias: Validar la ejecución del pipeline\n",
    "\n",
    "4. Se almacenó el archivo **IPL-Players-2.csv** en el contenedor **ipl**. Vamos a utilizar ese archivo. Lo subrayado en rojo\n",
    "    refiere a que para ese registro fueron modificados esos valores y aquellos registros encerrados en un marco rojo, son\n",
    "    registros nuevos.\n",
    "\n",
    "<center><img src=\"https://i.postimg.cc/260DXgQG/adf423.png\"></center>\n",
    "\n",
    "5. Modificamos el valor del parámetro que tomará el archivo de origen\n",
    "\n",
    "<center><img src=\"https://i.postimg.cc/brZKVrNY/adf424.png\"></center>\n",
    "\n",
    "6.- Luego de Validar y ejecutar nuestro pipeline utilizando **Debug**, podemos ver que se cargaron los registros nuevos del \n",
    "    archivo **IPL_Players-2.csv** y se agregó el registro actualizado a la tabla **IPL_Players**\n",
    "\n",
    "<center><img src=\"https://i.postimg.cc/Fsg2PMhL/adf425.png\"></center>\n",
    "<center><img src=\"https://i.postimg.cc/2ydXKWND/adf426.png\"></center>\n"
   ]
  }
 ],
 "metadata": {
  "language_info": {
   "name": "python"
  },
  "orig_nbformat": 4
 },
 "nbformat": 4,
 "nbformat_minor": 2
}
