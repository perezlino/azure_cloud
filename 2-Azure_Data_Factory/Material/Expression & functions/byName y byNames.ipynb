{
 "cells": [
  {
   "attachments": {},
   "cell_type": "markdown",
   "metadata": {},
   "source": [
    "### byName() y byNames()"
   ]
  },
  {
   "attachments": {},
   "cell_type": "markdown",
   "metadata": {},
   "source": [
    "**byName()**\n",
    "```\n",
    "byName(<column name> : string, [<stream name> : string]) => any\n",
    "```\n",
    "**byNames()**\n",
    "```\n",
    "byNames(<column names> : array, [<stream name> : string]) => any\n",
    "```"
   ]
  },
  {
   "attachments": {},
   "cell_type": "markdown",
   "metadata": {},
   "source": [
    "**byName()** busca una columna en un stream name dado (el stream name es opcional). Observa el siguiente ejemplo. Supongamos que tenemos datos de origen (source data) como en la siguiente imagen:\n",
    "\n",
    "<center><img src=\"https://i.postimg.cc/Wb9jm2Bt/adf363.png\"></center>\n",
    "\n",
    "Hemos añadido otra columna llamada **team** con valor **og** utilizando la transformación de \"Derived column\".\n",
    "\n",
    "<center><img src=\"https://i.postimg.cc/Y9SzWzYv/adf364.png\"></center>\n",
    "\n",
    "Ahora consideremos que queremos rellenar una columna basándonos en si existe o no. Si no hay ninguna columna con el nombre dado, se devuelven valores **NULL**. He utilizado el siguiente contenido dinámico en la transformación **derivedColumn1**.\n",
    "```\n",
    "toString(byName('team'))\n",
    "```\n",
    "<center><img src=\"https://i.postimg.cc/Hn0pQXQy/adf365.png\"></center>\n",
    "\n",
    "Obtengo el siguiente resultado:\n",
    "\n",
    "<center><img src=\"https://i.postimg.cc/nztgq5T3/adf366.png\"></center>\n",
    "\n",
    "Como hemos dado **team** como columna, se rellena cada fila de la nueva columna con el valor correspondiente de la columna **team**. En lugar de dar **team**, si damos cualquier otro nombre de columna que no exista, entonces toda la nueva columna se rellenará con valores NULL.\n",
    "\n",
    "**byNames()** es similar a **byName()**. En lugar de dar una sola columna, se da un array de nombres de columnas. El siguiente contenido dinámico es un ejemplo donde he dado un array de nombres de columnas, junto con stream (argumento opcional).\n",
    "```\n",
    "array(byNames(['gname','team'],'source1'))\n",
    "```\n",
    "<center><img src=\"https://i.postimg.cc/yNXhDrGh/adf367.png\"></center>\n",
    "\n",
    "Obtuve el siguiente resultado:\n",
    "\n",
    "<center><img src=\"https://i.postimg.cc/50KCvcSz/adf368.png\"></center>\n",
    "\n",
    "Aquí estoy buscando las columnas **gname** y **team** en el stream **source1** (que sólo tiene las columnas **id** y **gname**). Como estamos buscando una columna que no existe, se ha rellenado la nueva columna con NULL. Si todos los nombres de las columnas dadas existen, los valores se rellenan en consecuencia."
   ]
  }
 ],
 "metadata": {
  "language_info": {
   "name": "python"
  },
  "orig_nbformat": 4
 },
 "nbformat": 4,
 "nbformat_minor": 2
}
