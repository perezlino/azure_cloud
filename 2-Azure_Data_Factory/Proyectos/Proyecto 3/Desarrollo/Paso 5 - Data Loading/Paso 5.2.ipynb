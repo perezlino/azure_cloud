{
 "cells": [
  {
   "attachments": {},
   "cell_type": "markdown",
   "metadata": {},
   "source": []
  },
  {
   "attachments": {},
   "cell_type": "markdown",
   "metadata": {},
   "source": [
    "#### Crear el pipeline **pl_sqlize_hospital_admissions_daily_data** y el dataset de destino **ds_processed_hospital_admissions_daily**\n",
    "\n",
    "Creamos un nuevo pipeline llamado **pl_sqlize_hospital_admissions_daily_data** a la cual le agregamos una actividad **Copy data**\n",
    "\n",
    "<center><img src=\"https://i.postimg.cc/QMH9tFVN/adf995.png\"></center>\n",
    "\n",
    "En **Source** nos conectamos al dataset **ds_processed_hospital_admissions_daily** que hace referencia a la ruta **processed/ecdc/hospital_admissions_daily**\n",
    "\n",
    "<center><img src=\"https://i.postimg.cc/vTLDj92h/adf996.png\"></center>\n",
    "\n",
    "En **Sink** al no tener un dataset de destino, debemos crearlo\n",
    "\n",
    "<center><img src=\"https://i.postimg.cc/4yTmBwPn/adf997.png\"></center>\n",
    "\n",
    "Este dataset apuntará hacia Azure SQL Database. Reutilizaremos el Linked Service **ls_sql_covid_db**\n",
    "\n",
    "<center><img src=\"https://i.postimg.cc/jdcL4H7d/adf998.png\"></center>\n",
    "\n",
    "Nuestro dataset de destino llevará por nombre **ds_sql_hospital_admissions_daily** y hará referencia hacia la tabla **covid_reporting.hospital_admissions_daily**\n",
    "\n",
    "<center><img src=\"https://i.postimg.cc/J7byGV7X/adf999.png\"></center>\n",
    "\n",
    "En **Sink** cada vez que carguemos datos en la tabla **covid_reporting.hospital_admissions_daily** vamos a TRUNCARLA previamente\n",
    "\n",
    "<center><img src=\"https://i.postimg.cc/gkmxhSrT/adf1000.png\"></center>\n",
    "\n",
    "Vamos a **Validar** y luego ejecutar el pipeline utilizando **Debug**\n",
    "\n",
    "<center><img src=\"https://i.postimg.cc/9M9DdsGv/adf1001.png\"></center>\n",
    "\n",
    "Vamos a verificar realizando una Query si los datos se cargaron correctamente en la tabla\n",
    "\n",
    "<center><img src=\"https://i.postimg.cc/bwvdCZx0/adf1002.png\"></center>\n"
   ]
  }
 ],
 "metadata": {
  "language_info": {
   "name": "python"
  },
  "orig_nbformat": 4
 },
 "nbformat": 4,
 "nbformat_minor": 2
}
