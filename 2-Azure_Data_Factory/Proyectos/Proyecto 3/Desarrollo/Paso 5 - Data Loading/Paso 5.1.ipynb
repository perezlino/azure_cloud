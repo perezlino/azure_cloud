{
 "cells": [
  {
   "attachments": {},
   "cell_type": "markdown",
   "metadata": {},
   "source": [
    "### **Paso 5.1 - Copiar los datos de la ruta \"processed/ecdc/cases_deaths\" hacia Azure SQL Database**\n",
    "\n",
    "1. Crear las tablas en Azure SQL Database **covid-db**\n",
    "\n",
    "2. Crear el Linked service de destino **ls_sql_covid_db** que hace referencia hacia Azure SQL Database, al server name y la base de datos\n",
    "\n",
    "3. Crear el Dataset de destino **ds_sql_cases_and_deaths** que hace referencia al LS **ls_sql_covid_db** y en especifico a la tabla **covid_reporting.cases_and_deaths**\n",
    "\n",
    "4. Crear el pipeline **pl_sqlize_cases_and_deaths_data** con una actividad \"Copy data\""
   ]
  },
  {
   "attachments": {},
   "cell_type": "markdown",
   "metadata": {},
   "source": [
    "#### Crear las tablas en Azure SQL Database **covid-db**\n",
    "\n",
    "<center><img src=\"https://i.postimg.cc/02k55s1Q/adf982.png\"></center>\n",
    "<center><img src=\"https://i.postimg.cc/Hx0HHSSX/adf983.png\"></center>"
   ]
  },
  {
   "attachments": {},
   "cell_type": "markdown",
   "metadata": {},
   "source": [
    "#### Crear el pipeline **pl_sqlize_cases_and_deaths_data**, el Linked service de destino **ls_sql_covid_db** y el dataset de destino **ds_sql_cases_and_deaths**\n",
    "\n",
    "En **Source** nos conectamos al dataset **ds_processed_cases_and_deaths** que hace referencia a la ruta **processed/ecdc/cases_deaths**\n",
    "\n",
    "<center><img src=\"https://i.postimg.cc/jjVvQYNb/adf1003.png\"></center>\n",
    "\n",
    "En **Sink** al no tener un dataset de destino, debemos crearlo\n",
    "\n",
    "<center><img src=\"https://i.postimg.cc/pTMxwNBP/adf985.png\"></center>\n",
    "\n",
    "Este dataset apuntará hacia Azure SQL Database. De la misma manera, dado que estamos creando un dataset de destino, tendremos que crear paralelamente un Linked Service de destino que haga referencia hacia Azure SQL Database\n",
    "\n",
    "<center><img src=\"https://i.postimg.cc/L4TRbbgM/adf986.png\"></center>\n",
    "\n",
    "Nuestro dataset de destino llevará por nombre **ds_sql_cases_and_deaths**. Debemos crear el Linked Service de destino\n",
    "\n",
    "<center><img src=\"https://i.postimg.cc/NjLgTkMv/adf987.png\"></center>\n",
    "\n",
    "Nuestro Linked Service de destino llevará por nombre **ls_sql_covid_db**\n",
    "\n",
    "<center><img src=\"https://i.postimg.cc/mrHBpZCd/adf988.png\"></center>\n",
    "<center><img src=\"https://i.postimg.cc/wM6zBhPP/adf989.png\"></center>\n",
    "\n",
    "Verificamos que neustro LS se haya creado correctamente\n",
    "\n",
    "<center><img src=\"https://i.postimg.cc/MKpx2m1f/adf991.png\"></center>\n",
    "\n",
    "Nuestro dataset de destino **ds_sql_cases_and_deaths** hará referencia hacia la tabla **covid_reporting.cases_and_deaths**\n",
    "\n",
    "<center><img src=\"https://i.postimg.cc/7hmkJ5rL/adf990.png\"></center>\n",
    "\n",
    "En **Sink** cada vez que carguemos datos en la tabla **covid_reporting.cases_and_deaths** vamos a TRUNCARLA previamente\n",
    "\n",
    "<center><img src=\"https://i.postimg.cc/jSWbCqgs/adf992.png\"></center>\n",
    "\n",
    "Vamos a **Validar** y luego ejecutar el pipeline utilizando **Debug**\n",
    "\n",
    "<center><img src=\"https://i.postimg.cc/Hsvmp8tZ/adf994.png\"></center>\n",
    "\n",
    "Vamos a verificar realizando una Query si los datos se cargaron correctamente en la tabla\n",
    "\n",
    "<center><img src=\"https://i.postimg.cc/qv9dKfS2/adf993.png\"></center>\n"
   ]
  }
 ],
 "metadata": {
  "language_info": {
   "name": "python"
  },
  "orig_nbformat": 4
 },
 "nbformat": 4,
 "nbformat_minor": 2
}
