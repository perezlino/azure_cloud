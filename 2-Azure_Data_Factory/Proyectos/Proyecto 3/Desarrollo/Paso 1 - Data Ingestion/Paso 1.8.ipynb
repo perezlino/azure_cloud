{
 "cells": [
  {
   "attachments": {},
   "cell_type": "markdown",
   "metadata": {},
   "source": [
    "### **Paso 1.8 - Creación de un Trigger \"Schedule\" que se anexará al pipeline \"pl_ingest_ecdc_data\"**\n",
    "\n",
    "1. Crear el Trigger **Schedule** y que se llamará **tr_ingest_hospital_admissions_data** y se anexará al pipeline **pl_ingest_ecdc_data**. Al     \n",
    "   ejecutarse el trigger solo ingestará datos de **hospital_admissions.csv**"
   ]
  },
  {
   "attachments": {},
   "cell_type": "markdown",
   "metadata": {},
   "source": [
    "#### Creación del Trigger **tr_ingest_hospital_admissions_data**\n",
    "\n",
    "<center><img src=\"https://i.postimg.cc/d02GPLTP/adf732.png\"></center>\n",
    "<center><img src=\"https://i.postimg.cc/brJntgVp/adf733.png\"></center>\n",
    "\n",
    "Lo anexamos al pipeline **pl_ingest_ecdc_data**\n",
    "\n",
    "<center><img src=\"https://i.postimg.cc/pTPz2RD9/adf734.png\"></center>\n",
    "<center><img src=\"https://i.postimg.cc/cHTYC2mF/adf735.png\"></center>\n",
    "\n",
    "Al momento de anexarlo nos pide los valores que tomarán los parámetros del pipeline. Para este trigger le pasaremos valores que lleven referencia al archivo **hospital_admissions.csv**\n",
    "\n",
    "<center><img src=\"https://i.postimg.cc/FzBLgSwc/adf736.png\"></center>"
   ]
  }
 ],
 "metadata": {
  "language_info": {
   "name": "python"
  },
  "orig_nbformat": 4
 },
 "nbformat": 4,
 "nbformat_minor": 2
}
