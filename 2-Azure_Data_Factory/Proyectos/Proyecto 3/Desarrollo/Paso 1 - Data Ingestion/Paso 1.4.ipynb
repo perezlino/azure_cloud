{
 "cells": [
  {
   "attachments": {},
   "cell_type": "markdown",
   "metadata": {},
   "source": [
    "### **Paso 1.4 - Escenarios extras**\n",
    "\n",
    "1. Ejecutar la actividad **Copy data** cuando el archivo esté disponible\n",
    "\n",
    "2. Ejecutar la actividad **Copy data** sólo si el contenido del archivo es el esperado\n",
    "\n",
    "3. Eliminar el archivo de origen al copiarlo correctamente"
   ]
  },
  {
   "attachments": {},
   "cell_type": "markdown",
   "metadata": {},
   "source": [
    "#### Ejecutar la actividad **Copy data** cuando el archivo esté disponible\n",
    "\n",
    "https://learn.microsoft.com/en-us/azure/data-factory/control-flow-validation-activity\n",
    "\n",
    "Se puede utilizar la actividad de **Validation** en un pipeline para garantizar que el pipeline sólo continúa la ejecución una vez que ha validado que la referencia al dataset adjunto existe, que cumple los criterios especificados o que se ha alcanzado el tiempo de espera (timeout).\n",
    "\n",
    "En este caso validará si el archivo al que hace referencia el dataset de origen **ds_population_raw_gz** esta disponible, es decir, se encuentra en la ruta especificada en el dataset. En caso de que no se encuentre, se generará otro intento cada 10 segundos. El tiempo de espera es de 30 segundos.\n",
    "\n",
    "<center><img src=\"https://i.postimg.cc/WzKhFZyH/adf688.png\"></center>\n",
    "\n",
    "Podemos indicar una **Dependencia de actividad** para, por ejemplo, el caso de que se genere un **Failure** se invoque a otra actividad\n",
    "\n",
    "<center><img src=\"https://i.postimg.cc/nzWH0J1s/adf689.png\"></center>"
   ]
  },
  {
   "attachments": {},
   "cell_type": "markdown",
   "metadata": {},
   "source": [
    "#### Ejecutar la actividad **Copy data** sólo si el contenido del archivo es el esperado\n",
    "\n",
    "Añadimos una actividad **Get Metadata** y la ejecutaremos utilizando **Debug** para visualizar que nos devuelve su **Output**\n",
    "\n",
    "<center><img src=\"https://i.postimg.cc/9f7dbm2S/adf690.png\"></center>\n",
    "<center><img src=\"https://i.postimg.cc/0Q1pHT2N/adf691.png\"></center>\n",
    "\n",
    "Podemos ver que nos devuelve el **Output**\n",
    "\n",
    "<center><img src=\"https://i.postimg.cc/QtgpLfHJ/adf692.png\"></center>\n",
    "\n",
    "Agregamos la actividad **If Condition** y la conectamos con la actividad de **Get Metadata** e indicamos la siguiente expresión:\n",
    "```\n",
    "@equals(activity('Get Metadata').output.columnCount, 13)\n",
    "\n",
    "La expresión es verdadera, dado que \"ColumnCount\" es igual a 13\n",
    "```\n",
    "<center><img src=\"https://i.postimg.cc/NF395T9j/adf693.png\"></center>\n",
    "\n",
    "Copiamos la actividad **Copy data** y la pegamos dentro de la configuración de la condición **True**\n",
    "\n",
    "<center><img src=\"https://i.postimg.cc/Qx7Kv6w9/adf694.png\"></center>\n",
    "\n",
    "Borramos la actividad **Copy Data** del lienzo general y dejamos solo las tres actividades de **Validation**, **Get Metadata** y **If Condition** y nos aseguramos de que esten conectadas\n",
    "\n",
    "<center><img src=\"https://i.postimg.cc/W1PqVGc9/adf695.png\"></center>\n",
    "\n",
    "Por último, **Validamos** y ejecutamos utilizando **Debug** y vemos que todo se ejecutó de manera correcta\n",
    "\n",
    "<center><img src=\"https://i.postimg.cc/qBSCbfbH/adf696.png\"></center>"
   ]
  },
  {
   "attachments": {},
   "cell_type": "markdown",
   "metadata": {},
   "source": [
    "#### Eliminar el archivo de origen al copiarlo correctamente\n",
    "\n",
    "Editaremos la configuración de la condición **True**, añadiremos la actividad **Delete**. Le indicaremos que elimine lo que se encuentre en la ruta indicada en el dataset de origen **ds_population_raw_gz**\n",
    "\n",
    "<center><img src=\"https://i.postimg.cc/tJ8kp2hS/adf697.png\"></center>\n",
    "<center><img src=\"https://i.postimg.cc/15NMJ1QL/adf698.png\"></center>\n",
    "\n",
    "Despues de ejecutarse correctamente la actividad **Copy data**, se ejecutará la actividad **Delete**\n",
    "\n",
    "<center><img src=\"https://i.postimg.cc/zDQ0CX9C/adf699.png\"></center>\n",
    "\n",
    "Este es el archivo que se eliminará\n",
    "\n",
    "<center><img src=\"https://i.postimg.cc/9Q5bkgXz/adf700.png\"></center>\n",
    "\n",
    "**Validamos** y ejecutamos utilizando **Debug** y vemos que todo se ejecutó de manera correcta\n",
    "\n",
    "<center><img src=\"https://i.postimg.cc/KYQ5RZPg/adf701.png\"></center>\n",
    "<center><img src=\"https://i.postimg.cc/YC6RBNjR/adf702.png\"></center>\n",
    "\n",
    "El archivo se eliminó como indicamos\n",
    "\n",
    "<center><img src=\"https://i.postimg.cc/d0JBs7yY/adf703.png\"></center>\n"
   ]
  }
 ],
 "metadata": {
  "language_info": {
   "name": "python"
  },
  "orig_nbformat": 4
 },
 "nbformat": 4,
 "nbformat_minor": 2
}
