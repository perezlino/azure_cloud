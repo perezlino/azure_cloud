{
 "cells": [
  {
   "attachments": {},
   "cell_type": "markdown",
   "metadata": {},
   "source": [
    "### **Paso 1.6 - Creación de Datasets de origen y destino parametrizados para la ingesta de datos desde HTTP hacia Azure Data Lake Storage Gen2**\n",
    "\n",
    "1. Crear el Dataset de origen **ds_ecdc_raw_csv_http** que hace referencia al archivo parametrizado **@dataset().relativeURL**. Dicho valor del   \n",
    "   parámetro será indicado al momento de ejecutar el pipeline\n",
    "\n",
    "2. Crear el Dataset de destino **ds_ecdc_raw_csv_dl** que hace referencia al archivo parametrizado **@dataset().fileName** (que aún no existe,    \n",
    "   pero se creará de manera automática al ejecutar el pipeline) de nuestro ADLS, aque se almacenará en la ruta **raw/ecdc**. Siendo **raw** el contenedor y **ecdc** el directorio"
   ]
  },
  {
   "attachments": {},
   "cell_type": "markdown",
   "metadata": {},
   "source": [
    "#### Comenzamos creando el dataset de origen llamado **ds_cases_deaths_raw_csv_http**\n",
    "\n",
    "Este dataset en un principio haria referencia solamente al archivo **cases_deaths.csv**. Sin embargo, será nuestro dataset de origen **ds_ecdc_raw_csv_http**, dado que, parametrizamos el nombre del archivo. Más adelante le modificaremos su nombre.\n",
    "\n",
    "<center><img src=\"https://i.postimg.cc/jjQg0DRp/adf708.png\"></center>\n",
    "<center><img src=\"https://i.postimg.cc/D0D5dscX/adf709.png\"></center>\n",
    "<center><img src=\"https://i.postimg.cc/2600ygbT/adf710.png\"></center>\n",
    "<center><img src=\"https://i.postimg.cc/tTqrX9TY/adf711.png\"></center>\n",
    "<center><img src=\"https://i.postimg.cc/7ZX9mpX4/adf718.png\"></center>\n"
   ]
  },
  {
   "attachments": {},
   "cell_type": "markdown",
   "metadata": {},
   "source": [
    "#### Cresamos el dataset de destino llamado **ds_cases_deaths_raw_csv_dl**\n",
    "\n",
    "Este dataset en un principio haria referencia solamente al archivo **cases_deaths.csv** que se copiaria en el ADLS. Sin embargo, será nuestro dataset de destino **ds_ecdc_raw_csv_dl**, dado que, parametrizamos el nombre del archivo. Más adelante le modificaremos su nombre.\n",
    "\n",
    "<center><img src=\"https://i.postimg.cc/MKM9ZPWb/adf712.png\"></center>\n",
    "<center><img src=\"https://i.postimg.cc/Y2yXHKwC/adf713.png\"></center>\n",
    "<center><img src=\"https://i.postimg.cc/4ynB9wpG/adf714.png\"></center>\n",
    "<center><img src=\"https://i.postimg.cc/1zjHZwLY/adf719.png\"></center>\n",
    "<center><img src=\"https://i.postimg.cc/MHkmnxZ7/adf720.png\"></center>"
   ]
  },
  {
   "attachments": {},
   "cell_type": "markdown",
   "metadata": {},
   "source": [
    "####\n",
    "\n",
    "Clase 34"
   ]
  }
 ],
 "metadata": {
  "language_info": {
   "name": "python"
  },
  "orig_nbformat": 4
 },
 "nbformat": 4,
 "nbformat_minor": 2
}
