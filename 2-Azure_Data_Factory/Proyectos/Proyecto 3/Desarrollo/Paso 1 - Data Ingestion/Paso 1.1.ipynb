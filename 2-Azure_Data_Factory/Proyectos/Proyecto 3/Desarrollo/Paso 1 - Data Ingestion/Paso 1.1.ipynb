{
 "cells": [
  {
   "attachments": {},
   "cell_type": "markdown",
   "metadata": {},
   "source": [
    "### **Paso 1.1 - Creación de Linked Services de origen y destino para la ingesta de datos desde Azure Blob Storage hacia Azure Data Lake Storage Gen2**\n",
    "\n",
    "1. Crear el Linked Service de origen **ls_ablob_covidreportingsa** que hace referencia a Azure Blob Storage\n",
    "\n",
    "2. Crear el Linked Service de destino **ls_adls_covidreportingdl** que hace referencia a nuestro ADLS"
   ]
  },
  {
   "attachments": {},
   "cell_type": "markdown",
   "metadata": {},
   "source": [
    "#### Creamos el Linked Service **ls_ablob_covidreportingsa** que hace referencia hacia Azure Blob Storage\n",
    "\n",
    "Vemos que tenemos ya creados tanto el contenedor **population** en Azure Blob Storage y cargado el archivo **population_by_age.tsv.gz**, como el contenedor **raw** en ADLS\n",
    "\n",
    "<center><img src=\"https://images2.imgbox.com/3e/85/hQcEE0oj_o.png\"></center> <!-- adf665 -->\n",
    "<center><img src=\"https://images2.imgbox.com/a2/64/lEfjYwQM_o.png\"></center> <!-- adf666 -->\n",
    "\n",
    "Ahora creamos el Linked Service de origen **ls_ablob_covidreportingsa** que hace referencia a nuestro Azure Blob Storage\n",
    "\n",
    "<center><img src=\"https://images2.imgbox.com/de/3c/I6hAqLUX_o.png\"></center> <!-- adf667 -->\n",
    "<center><img src=\"https://images2.imgbox.com/29/fe/9mu583dS_o.png\"></center> <!-- adf668 -->\n",
    "<center><img src=\"https://images2.imgbox.com/86/cf/I0DcgA5I_o.png\"></center> <!-- adf669 -->"
   ]
  },
  {
   "attachments": {},
   "cell_type": "markdown",
   "metadata": {},
   "source": [
    "#### Creamos el Linked Service **ls_adls_covidreportingdl** que hace referencia hacia ADLS\n",
    "\n",
    "Luego, creamos el Linked Service de destino **ls_adls_covidreportingdl** que hace referencia a nuestro ADLS\n",
    "\n",
    "<center><img src=\"https://images2.imgbox.com/e0/e5/12eltFCT_o.png\"></center> <!-- adf670 -->\n",
    "<center><img src=\"https://images2.imgbox.com/37/a8/QP0ta1Gh_o.png\"></center> <!-- adf671 -->\n",
    "\n",
    "Podemos ver que se han creado los dos Linked Services\n",
    "\n",
    "<center><img src=\"https://images2.imgbox.com/08/76/cA40nQhk_o.png\"></center> <!-- adf672 -->"
   ]
  }
 ],
 "metadata": {
  "language_info": {
   "name": "python"
  },
  "orig_nbformat": 4
 },
 "nbformat": 4,
 "nbformat_minor": 2
}
