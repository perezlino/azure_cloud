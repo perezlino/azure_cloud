{
 "cells": [
  {
   "attachments": {},
   "cell_type": "markdown",
   "metadata": {},
   "source": [
    "### **Paso 1.5 - Creación de un Linked Service de origen para la ingesta de datos desde HTTP hacia Azure Data Lake Storage Gen2**\n",
    "\n",
    "1. Crear el Linked Service de origen **ls_http_opendata_ecdc_europa_eu** que hace referencia a HTTP"
   ]
  },
  {
   "attachments": {},
   "cell_type": "markdown",
   "metadata": {},
   "source": [
    "#### Crear el Linked Service de origen **ls_http_opendata_ecdc_europa_eu** que hace referencia a HTTP\n",
    "\n",
    "<center><img src=\"https://i.postimg.cc/tRD5z0gz/adf707.png\"></center>\n",
    "\n",
    "En **Base URL** utilizar **http://github.com**\n",
    "\n",
    "<center><img src=\"https://i.postimg.cc/br69Yn55/adf704.png\"></center>"
   ]
  }
 ],
 "metadata": {
  "language_info": {
   "name": "python"
  },
  "orig_nbformat": 4
 },
 "nbformat": 4,
 "nbformat_minor": 2
}
