{
 "cells": [
  {
   "attachments": {},
   "cell_type": "markdown",
   "metadata": {},
   "source": [
    "### **Paso 1.3 - Creación de un Pipeline para la ingesta de datos desde Azure Blob Storage hacia Azure Data Lake Storage Gen2**\n",
    "\n",
    "1. Crear el Pipeline de ingesta de datos **pl_ingest_population_data**, el cual contendrá una actividad **Copy data**"
   ]
  },
  {
   "attachments": {},
   "cell_type": "markdown",
   "metadata": {},
   "source": [
    "#### Crear el Pipeline de ingesta de datos **pl_ingest_population_data**\n",
    "\n",
    "<center><img src=\"https://images2.imgbox.com/eb/10/8osgBoFE_o.png\"></center> <!-- adf682 -->\n",
    "<center><img src=\"https://images2.imgbox.com/97/8d/5Fcel9tR_o.png\"></center> <!-- adf683 -->\n",
    "\n",
    "**Validamos** y ejecutamos el pipeline utilizando **Debug**\n",
    "\n",
    "<center><img src=\"https://images2.imgbox.com/0a/60/GQElAZ1a_o.png\"></center> <!-- adf684 -->\n",
    "\n",
    "Podemos ver que el archivo se ha cargado en la ruta especificada\n",
    "\n",
    "<center><img src=\"https://images2.imgbox.com/0a/c5/6LL9m8dx_o.png\"></center> <!-- adf686 -->"
   ]
  }
 ],
 "metadata": {
  "language_info": {
   "name": "python"
  },
  "orig_nbformat": 4
 },
 "nbformat": 4,
 "nbformat_minor": 2
}
