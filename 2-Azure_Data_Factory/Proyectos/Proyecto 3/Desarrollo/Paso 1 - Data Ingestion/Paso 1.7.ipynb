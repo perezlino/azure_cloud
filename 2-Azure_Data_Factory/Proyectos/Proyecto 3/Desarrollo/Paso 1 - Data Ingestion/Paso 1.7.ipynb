{
 "cells": [
  {
   "attachments": {},
   "cell_type": "markdown",
   "metadata": {},
   "source": [
    "### **Paso 1.7 - Creación de un Pipeline parametrizado para la ingesta de datos desde HTTP hacia Azure Data Lake Storage Gen2**\n",
    "\n",
    "1. Crear el Pipeline de ingesta de datos parametrizado **pl_ingest_ecdc_data**, el cual contendrá una actividad **Copy data**"
   ]
  },
  {
   "attachments": {},
   "cell_type": "markdown",
   "metadata": {},
   "source": [
    "#### Creamos el pipeline llamado **pl_ingest_cases_deaths_data** \n",
    "\n",
    "Este pipeline en un principio haria referencia al dataset de origen **ds_cases_deaths_raw_csv_http**  y al dataset de destino **ds_cases_deaths_raw_csv_dl** que hacen referencia al archivo **cases_deaths.csv**. Sin embargo, nuestro pipeline lo hemos parametrizado para que los nombres de los archivos de origen y destino se los entregemos en tiempo de ejecución (runtime), es decir, cuando ejecutemos el pipeline. En breve modificaremos su nombre.\n",
    "```\n",
    "Los parámetros del pipeline son los siguientes: \n",
    "\n",
    "\"sourceRelativeURL\": el valor que tomará el \"Relative URL\" del dataset de origen\n",
    "\"sinkFileName\": el valor que tomará el nombre del archivo que se almacenará en ADLS expresado en el dataset de destino\n",
    "``` \n",
    "\n",
    "<center><img src=\"https://i.postimg.cc/KYBDG0wW/adf722.png\"></center>\n",
    "\n",
    "En la pestaña **Source** de la actividad **Copy data** del Pipeline, nos pide un valor para el parámetro **relativeURL** del dataset de origen y le pasaremos el valor que tome nuestro parámetro del pipeline **sourceRelativeURL**\n",
    "\n",
    "<center><img src=\"https://i.postimg.cc/xCQycKS1/adf724.png\"></center>\n",
    "\n",
    "En la pestaña **Sink** de la actividad **Copy data** del Pipeline, nos pide un valor para el parámetro **fileName** del dataset de destino y le pasaremos el valor que tome nuestro parámetro del pipeline **sinkFileName**\n",
    "\n",
    "<center><img src=\"https://i.postimg.cc/85bdWj1B/adf723.png\"></center>\n",
    "\n",
    "Modificamos el nombre del pipeline, ahora se llamará **pl_ingest_ecdc_data**\n",
    "\n",
    "<center><img src=\"https://i.postimg.cc/KcJr8kpm/adf726.png\"></center>\n",
    "\n",
    "Si **validamos** y luego ejecutamos el pipeline utilizando **Debug** veremos que nos aparece un recuadro solicitandonos los valores de los parámetros de nuestro Pipeline\n",
    "\n",
    "<center><img src=\"https://i.postimg.cc/d3t29w3M/adf728.png\"></center>\n",
    "<center><img src=\"https://i.postimg.cc/CL5CBh9k/adf729.png\"></center>\n",
    "\n",
    "```\n",
    "De esta manera le estamos pasando los valores para el archivo \"hospital_admissions.csv\"\n",
    "\n",
    "\"sourceRelativeURL\": cloudboxacademy/covid19/raw/main/ecdc_data/hospital_admissions.csv\n",
    "\"sinkFileName\": hospital_admissions.csv\n",
    "```\n",
    "<center><img src=\"https://i.postimg.cc/K8gnf9GY/adf730.png\"></center>\n",
    "\n",
    "Cambiamos el nombre de la actividad **Copy data**\n",
    "\n",
    "<center><img src=\"https://i.postimg.cc/pdbK6DrJ/adf731.png\"></center>"
   ]
  }
 ],
 "metadata": {
  "language_info": {
   "name": "python"
  },
  "orig_nbformat": 4
 },
 "nbformat": 4,
 "nbformat_minor": 2
}
