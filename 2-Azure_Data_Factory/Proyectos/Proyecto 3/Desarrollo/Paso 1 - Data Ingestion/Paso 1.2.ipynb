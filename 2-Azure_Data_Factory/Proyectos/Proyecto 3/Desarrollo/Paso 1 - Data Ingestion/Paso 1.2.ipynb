{
 "cells": [
  {
   "attachments": {},
   "cell_type": "markdown",
   "metadata": {},
   "source": [
    "### **Paso 1.2 - Creación de Datasets de origen y destino para la ingesta de datos desde Azure Blob Storage hacia Azure Data Lake Storage Gen2**\n",
    "\n",
    "1. Crear el Dataset de origen **ds_population_raw_gz** que hace referencia al archivo **population_by_age.tsv.gz** alojado en el contenedor **population** en Azure Blob Storage\n",
    "\n",
    "2. Crear el Dataset de destino **ds_population_raw_tsv** que hace referencia al archivo **population_by_age.tsv** (que aún no existe, pero se   \n",
    "   creará de manera automática al ejecutar el pipeline) a nuestro ADLS, a la ruta **raw/population**. Siendo **raw** el contenedor y **population** el directorio"
   ]
  },
  {
   "attachments": {},
   "cell_type": "markdown",
   "metadata": {},
   "source": [
    "#### Crear el Dataset de origen **ds_population_raw_gz** que hace referencia archivo **population_by_age.tsv.gz** alojado en Azure Blob Storage\n",
    "\n",
    "<center><img src=\"https://images2.imgbox.com/dd/a6/HlzZL4qQ_o.png\"></center> <!-- adf673 -->\n",
    "<center><img src=\"https://images2.imgbox.com/89/bc/boRAPYkV_o.png\"></center> <!-- adf674 -->\n",
    "<center><img src=\"https://images2.imgbox.com/e6/32/ZVHtMsFy_o.png\"></center> <!-- adf675 -->\n",
    "<center><img src=\"https://images2.imgbox.com/12/97/mzlDAp07_o.png\"></center> <!-- adf676 -->\n",
    "<center><img src=\"https://images2.imgbox.com/f4/01/p7bnkgAg_o.png\"></center> <!-- adf677 -->"
   ]
  },
  {
   "attachments": {},
   "cell_type": "markdown",
   "metadata": {},
   "source": [
    "#### Crear el Dataset de destino **ds_population_raw_tsv** que hace referencia al archivo **population_by_age.tsv** que será copiado en nuestro ADLS\n",
    "\n",
    "El archivo **population_by_age.tsv** no existe, pero se creará de manera automática al ejecutar el pipeline\n",
    "\n",
    "<center><img src=\"https://images2.imgbox.com/e7/30/QsFq3PvQ_o.png\"></center> <!-- adf678 -->\n",
    "<center><img src=\"https://images2.imgbox.com/eb/99/WOa4EzJh_o.png\"></center> <!-- adf679 -->\n",
    "<center><img src=\"https://images2.imgbox.com/9a/2e/dik5drlu_o.png\"></center> <!-- adf680 -->\n",
    "\n",
    "Agregaremos el directorio **population** a la ruta de destino\n",
    "\n",
    "<center><img src=\"https://images2.imgbox.com/c3/5a/gb5hABKc_o.png\"></center> <!-- adf686 -->"
   ]
  }
 ],
 "metadata": {
  "language_info": {
   "name": "python"
  },
  "orig_nbformat": 4
 },
 "nbformat": 4,
 "nbformat_minor": 2
}
