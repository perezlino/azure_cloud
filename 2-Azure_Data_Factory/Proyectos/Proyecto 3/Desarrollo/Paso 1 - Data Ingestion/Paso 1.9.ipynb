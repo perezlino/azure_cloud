{
 "cells": [
  {
   "attachments": {},
   "cell_type": "markdown",
   "metadata": {},
   "source": [
    "### **Paso 1.9 - Parametrizar el Linked Service de origen \"ls_http_opendata_ecdc_europa_eu\" para la ingesta de datos desde HTTP hacia Azure Data Lake Storage Gen2**"
   ]
  },
  {
   "attachments": {},
   "cell_type": "markdown",
   "metadata": {},
   "source": [
    "#### Parametrizar el Linked Service de origen **ls_http_opendata_ecdc_europa_eu**\n",
    "\n",
    "Empezamos por parametrizar el Linked Service de origen **ls_http_opendata_ecdc_europa_eu**. El parámetro se llama **sourceBaseURL**\n",
    "\n",
    "<center><img src=\"https://i.postimg.cc/XqxKyKG3/adf752.png\"></center>\n",
    "<center><img src=\"https://i.postimg.cc/wvpDf4Dg/adf753.png\"></center>\n",
    "<center><img src=\"https://i.postimg.cc/ZKKxzQ2q/adf754.png\"></center>\n",
    "<center><img src=\"https://i.postimg.cc/SK8WGb2g/adf755.png\"></center>"
   ]
  },
  {
   "attachments": {},
   "cell_type": "markdown",
   "metadata": {},
   "source": [
    "#### Crear un nuevo parametro en el dataset de origen **ds_ecdc_raw_csv_http**\n",
    "\n",
    "El parámetro del Linked Service hereda el valor que le demos desde el dataset. En este caso, desde el dataset de origen **ds_ecdc_raw_csv_http** que utiliza el Linked Service **ls_http_opendata_ecdc_europa_eu**. En este dataset también vamos a crear un parámetro que se llama **base URL** y le vamos a pasar al parámetro **sourceBaseURL** del LS, el valor que se le de al parámetro del dataset **base URL**\n",
    "\n",
    "<center><img src=\"https://i.postimg.cc/SQGf54Z5/adf756.png\"></center>\n",
    "<center><img src=\"https://i.postimg.cc/ZK7Fbczx/adf757.png\"></center>"
   ]
  },
  {
   "attachments": {},
   "cell_type": "markdown",
   "metadata": {},
   "source": [
    "#### Crear un nuevo parámetro en el pipeline **pl_ingest_ecdc_data**\n",
    "\n",
    "Vamos a crear un nuevo parámetro a nivel de pipeline llamado **sourceBaseURL**\n",
    "\n",
    "<center><img src=\"https://i.postimg.cc/Z5WPCdTt/adf758.png\"></center>\n",
    "\n",
    "El parámetro del dataset **base URL** heredará el valor que se le de al parámetro del pipeline **sourceBaseURL** al momento de ejecutar el pipeline\n",
    "\n",
    "<center><img src=\"https://i.postimg.cc/2SgQvS6q/adf759.png\"></center>\n",
    "\n",
    "Veamos que despues de ejecutar el pipeline nos aparece una ventana solicitandonos valores para todos los parámetros a nivel pipeline, y entre ellos se encuentra **sourceBaseURL**\n",
    "\n",
    "<center><img src=\"https://i.postimg.cc/MTmVh0YR/adf760.png\"></center>\n",
    "\n",
    "El valor del parametro del pipeline **sourceBaseURL** se hereda al parametro del dataset **base URL** y este se hereda al parametro del Linked Service **sourceBaseURL**.\n",
    "\n",
    "<center><img src=\"https://i.postimg.cc/Y02Yk4XP/adf761.png\"></center>\n",
    "\n",
    "Se ingesta el archivo deseado\n",
    "\n",
    "<center><img src=\"https://i.postimg.cc/qqmn7kSv/adf762.png\"></center>"
   ]
  }
 ],
 "metadata": {
  "language_info": {
   "name": "python"
  },
  "orig_nbformat": 4
 },
 "nbformat": 4,
 "nbformat_minor": 2
}
