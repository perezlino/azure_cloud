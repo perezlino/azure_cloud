{
 "cells": [
  {
   "attachments": {},
   "cell_type": "markdown",
   "metadata": {},
   "source": [
    "### **Paso 4.3 - Crear el pipeline que ejecute un notebook de Databricks**\n",
    "\n",
    "1. Crear el Linked Service **ls_db_covid_cluster** que haga referencia a Databricks. Utilizaremos una autenticación del tipo **Access Token**.\n",
    "\n",
    "2. Crear el pipeline **pl_process_population_data** con una actividad **Notebook**"
   ]
  },
  {
   "attachments": {},
   "cell_type": "markdown",
   "metadata": {},
   "source": [
    "#### Crear el Linked Service **ls_db_covid_cluster** que haga referencia a Databricks. Utilizaremos una autenticación del tipo **Access Token**.\n",
    "\n",
    "<center><img src=\"https://i.postimg.cc/nrWJkCvC/adf967.png\"></center>\n",
    "<center><img src=\"https://i.postimg.cc/PxrnnmyC/adf968.png\"></center>\n",
    "<center><img src=\"https://i.postimg.cc/k5yPHjQr/adf969.png\"></center>\n",
    "\n",
    "Para acceder al **token** seguimos los siguientes pasos\n",
    "\n",
    "<center><img src=\"https://i.postimg.cc/d0FK4MTm/adf970.png\"></center>\n",
    "<center><img src=\"https://i.postimg.cc/CMrSY6WS/adf971.png\"></center>\n",
    "<center><img src=\"https://i.postimg.cc/mgCsYZhg/adf972.png\"></center>\n",
    "<center><img src=\"https://i.postimg.cc/sDBy24rS/adf973.png\"></center>\n",
    "<center><img src=\"https://i.postimg.cc/9Fv2wwmk/adf974.png\"></center>\n",
    "<center><img src=\"https://i.postimg.cc/k413JBYf/adf975.png\"></center>\n",
    "\n",
    "Verificamos que el Linked Service se haya creado correctamente\n",
    "\n",
    "<center><img src=\"https://i.postimg.cc/L5Jdn2rR/adf976.png\"></center>"
   ]
  },
  {
   "attachments": {},
   "cell_type": "markdown",
   "metadata": {},
   "source": [
    "#### Crear el pipeline **pl_process_population_data** con una actividad **Notebook**\n",
    "\n",
    "Empezamos añadiendo una actividad **Notebook** de Databricks\n",
    "\n",
    "<center><img src=\"https://i.postimg.cc/fypGd1Nd/adf977.png\"></center>\n",
    "\n",
    "Nos conectamos al Linked Service **ls_db_covid_cluster** que hace referencia a Databricks\n",
    "\n",
    "<center><img src=\"https://i.postimg.cc/dQfPgZy0/adf978.png\"></center>\n",
    "\n",
    "Seleccionamos el notebook **transform_population_data** que contiene el proceso de transformación en código **PySpark** del archivo **population.tsv**\n",
    "\n",
    "<center><img src=\"https://i.postimg.cc/FsJ5vFyV/adf979.png\"></center>\n",
    "\n",
    "Ejecutamos el pipeline\n",
    "\n",
    "<center><img src=\"https://i.postimg.cc/sgdFgFKd/adf980.png\"></center>\n",
    "\n",
    "Podemos ver que se generó el archivo en la ruta especificada\n",
    "\n",
    "<center><img src=\"https://i.postimg.cc/MpyCcsrc/adf981.png\"></center>"
   ]
  }
 ],
 "metadata": {
  "language_info": {
   "name": "python"
  },
  "orig_nbformat": 4
 },
 "nbformat": 4,
 "nbformat_minor": 2
}
