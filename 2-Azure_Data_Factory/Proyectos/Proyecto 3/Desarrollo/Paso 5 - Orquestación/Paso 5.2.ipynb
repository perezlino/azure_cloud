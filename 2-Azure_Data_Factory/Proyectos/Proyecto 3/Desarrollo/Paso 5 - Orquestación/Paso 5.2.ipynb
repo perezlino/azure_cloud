{
 "cells": [
  {
   "attachments": {},
   "cell_type": "markdown",
   "metadata": {},
   "source": [
    "### **Paso 5.2 - Enviar una notificación automática de alerta por correo electrónico cuando falla el pipeline en ADF**"
   ]
  },
  {
   "attachments": {},
   "cell_type": "markdown",
   "metadata": {},
   "source": [
    "\n",
    "\n",
    "Previamente, debemos crear el recurso de **Logic App**. Posterior a eso, creamos el siguiente proceso lógico:\n",
    "\n",
    "<center><img src=\"https://i.postimg.cc/X79N8d1j/adf598.png\"></center> \n",
    "<center><img src=\"https://i.postimg.cc/zfbcCSpp/adf599.png\"></center> \n",
    "<center><img src=\"https://i.postimg.cc/YqrDnwbv/adf600.png\"></center> \n",
    "<center><img src=\"https://i.postimg.cc/bvtmDYNB/adf601.png\"></center> \n",
    "<center><img src=\"https://i.postimg.cc/mD3Vjd93/adf602.png\"></center> \n",
    "<center><img src=\"https://i.postimg.cc/wjtVZxJj/adf603.png\"></center> \n",
    "<center><img src=\"https://i.postimg.cc/qRrxN8FN/adf604.png\"></center> \n",
    "<center><img src=\"https://i.postimg.cc/Y0n6DTCF/adf605.png\"></center> \n",
    "<center><img src=\"https://i.postimg.cc/dt3mZQ5j/adf606.png\"></center> \n",
    "<center><img src=\"https://i.postimg.cc/N061vK0B/adf607.png\"></center> \n",
    "<center><img src=\"https://i.postimg.cc/rpMDWQ82/adf608.png\"></center> \n",
    "\n",
    "Copiamos el enlace **HTTP POST URL**\n",
    "\n",
    "<center><img src=\"https://i.postimg.cc/ZRDnGm6J/adf609.png\"></center>\n",
    "\n",
    "Agregamos la actividad **Web** a nuestro Pipeline. En **URL** pegamos el enlace **HTTP POST URL**\n",
    "\n",
    "<center><img src=\"https://i.postimg.cc/hvkjG0Cw/adf610.png\"></center> \n",
    "\n",
    "```\n",
    "En el \"Body\" agregamos lo siguiente:\n",
    "{\n",
    "    'pipelinename': '@{pipeline().Pipeline}',\n",
    "    'DataFactory Name': '@{pipeline().DataFactory}', \n",
    "    'RunID': '@{pipeline().RunId}'      \n",
    "}\n",
    "```\n",
    "<center><img src=\"https://i.postimg.cc/KcHQNgkH/adf611.png\"></center> \n",
    "\n",
    "Este enfoque nos dice que **los 3 pipelines deben fallar** para que se envie un correo electronico\n",
    "\n",
    "<center><img src=\"https://i.postimg.cc/DwV6VkcQ/adf612.png\"></center> \n",
    "\n",
    "De esta manera cualquiera de los 3 pipelines que fallen se enviará un correo eléctronico\n",
    "\n",
    "<center><img src=\"https://i.postimg.cc/d3b2KrGQ/adf613.png\"></center> "
   ]
  }
 ],
 "metadata": {
  "language_info": {
   "name": "python"
  },
  "orig_nbformat": 4
 },
 "nbformat": 4,
 "nbformat_minor": 2
}
