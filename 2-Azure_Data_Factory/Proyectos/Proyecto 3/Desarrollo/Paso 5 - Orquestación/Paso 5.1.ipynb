{
 "cells": [
  {
   "attachments": {},
   "cell_type": "markdown",
   "metadata": {},
   "source": [
    "### **Paso 5.1 - Orquestar todos los Pipelines creados**"
   ]
  },
  {
   "attachments": {},
   "cell_type": "markdown",
   "metadata": {},
   "source": [
    "#### Orquestar todos los pipelines utilizando las actividades **Execute pipeline**\n",
    "\n",
    "<center><img src=\"https://i.postimg.cc/MKywJxSq/adf581.png\"></center> \n",
    "<center><img src=\"https://i.postimg.cc/nhpJH5F7/adf582.png\"></center> \n",
    "<center><img src=\"https://i.postimg.cc/Wzx1W7g8/adf583.png\"></center> \n",
    "<center><img src=\"https://i.postimg.cc/8Pr5Fqg0/adf584.png\"></center> \n",
    "<center><img src=\"https://i.postimg.cc/qvsvwyRc/adf585.png\"></center> \n",
    "<center><img src=\"https://i.postimg.cc/sgrh3VGc/adf586.png\"></center> \n",
    "<center><img src=\"https://i.postimg.cc/s2fGZwcG/adf587.png\"></center> \n",
    "<center><img src=\"https://i.postimg.cc/vmPg7fqq/adf588.png\"></center> "
   ]
  },
  {
   "attachments": {},
   "cell_type": "markdown",
   "metadata": {},
   "source": [
    "#### Crear un Trigger **Tumbling Window**\n",
    "\n",
    "- Ejecuta pipelines de datos en un intervalo de tiempo periódico predeterminado\n",
    "- Puede trabajar sobre datos históricos para copiar o migrar datos\n",
    "- Podemos establecer un trigger Tumbling window cada 24 horas para invocar el pipeline\n",
    "\n",
    "<center><img src=\"https://i.postimg.cc/nr3Ppd0K/adf589.png\"></center> "
   ]
  },
  {
   "attachments": {},
   "cell_type": "markdown",
   "metadata": {},
   "source": [
    "Vamos a crear nuestro Trigger y lo vamos a añadir al Pipeline\n",
    "\n",
    "<center><img src=\"https://i.postimg.cc/zBQ1kG1Y/adf590.png\"></center> \n",
    "\n",
    "Se ejecutará cada 24 horas\n",
    "\n",
    "<center><img src=\"https://i.postimg.cc/WpDDcDzr/adf591.png\"></center> \n",
    "<center><img src=\"https://i.postimg.cc/3Rkwh687/adf592.png\"></center> \n",
    "\n",
    "Lo agregamos a nuestro pipeline\n",
    "\n",
    "<center><img src=\"https://i.postimg.cc/c4wr6VQL/adf593.png\"></center> \n",
    "<center><img src=\"https://i.postimg.cc/y6SNrwpy/adf594.png\"></center> \n",
    "<center><img src=\"https://i.postimg.cc/HswkTbgJ/adf595.png\"></center> \n",
    "<center><img src=\"https://i.postimg.cc/yNd1h5S9/adf596.png\"></center> \n",
    "<center><img src=\"https://i.postimg.cc/0QK9Fwny/adf597.png\"></center> "
   ]
  }
 ],
 "metadata": {
  "language_info": {
   "name": "python"
  },
  "orig_nbformat": 4
 },
 "nbformat": 4,
 "nbformat_minor": 2
}
