{
 "cells": [
  {
   "attachments": {},
   "cell_type": "markdown",
   "metadata": {},
   "source": [
    "### **Paso 3.1 - Utilizar un Cluster HDInsight para transformar datos utilizando HIVE**\n",
    "\n",
    "1. Crear un recurso **User Assigned Managed Identity** \n",
    "\n",
    "2. Generar acceso basado en un rol al recurso de Managed Identity que hemos creado en el ADLS **covidreportingdl**\n",
    "\n",
    "3. Crear un recurso **Azure HDInsight Cluster**\n",
    "\n",
    "4. Crear el pipeline **pl_process_testing_data** con una actividad **Hive**. También, crear el Linked Sservice **ls_hdi_covid_cluster** que haga referencia al Cluster HDInsight"
   ]
  },
  {
   "attachments": {},
   "cell_type": "markdown",
   "metadata": {},
   "source": [
    "#### Crear un recurso **User Assigned Managed Identity** \n",
    "\n",
    "El recurso **User Assigned Managed Identity** llevará por nombre **covid-hdi-identity**\n",
    "\n",
    "<center><img src=\"https://i.postimg.cc/1XbPdjNr/adf948.png\"></center>\n",
    "<center><img src=\"https://i.postimg.cc/Hs7TMdfZ/adf949.png\"></center>"
   ]
  },
  {
   "attachments": {},
   "cell_type": "markdown",
   "metadata": {},
   "source": [
    "#### Generar acceso basado en un rol al recurso de Managed Identity que hemos creado en el ADLS **covidreportingdl**\n",
    "\n",
    "<center><img src=\"https://i.postimg.cc/NjqB7Ztg/adf950.png\"></center>\n",
    "<center><img src=\"https://i.postimg.cc/sXNRBNKC/adf951.png\"></center>"
   ]
  },
  {
   "attachments": {},
   "cell_type": "markdown",
   "metadata": {},
   "source": [
    "#### Crear un recurso **Azure HDInsight Cluster**\n",
    "\n",
    "<center><img src=\"https://i.postimg.cc/mgYRdVZ7/adf952.png\"></center>\n",
    "<center><img src=\"https://i.postimg.cc/g04ppJZJ/adf953.png\"></center>\n",
    "<center><img src=\"https://i.postimg.cc/hGKnNxh6/adf954.png\"></center>"
   ]
  },
  {
   "attachments": {},
   "cell_type": "markdown",
   "metadata": {},
   "source": [
    "#### Crear el pipeline **pl_process_testing_data** con una actividad **Hive**. También, crear el Linked Sservice **ls_hdi_covid_cluster** que haga referencia al Cluster HDInsight\n",
    "\n",
    "Añadimos al pipeline una actividad **Hive**\n",
    "\n",
    "<center><img src=\"https://i.postimg.cc/Ssshxh6G/adf955.png\"></center>\n",
    "\n",
    "Creamos el nuevo Linked Service **ls_hdi_covid_cluster** que hace referencia al Cluster HDInsight\n",
    "\n",
    "<center><img src=\"https://i.postimg.cc/RCYMqNbJ/adf956.png\"></center>\n",
    "<center><img src=\"https://i.postimg.cc/1XV1DrYn/adf957.png\"></center>\n",
    "<center><img src=\"https://i.postimg.cc/28vVDQ8S/adf958.png\"></center>\n",
    "\n",
    "Verificamos que el Linked Service se haya creado\n",
    "\n",
    "<center><img src=\"https://i.postimg.cc/Pf0P93H7/adf959.png\"></center>\n",
    "<center><img src=\"https://i.postimg.cc/mhxfj10d/adf960.png\"></center>\n",
    "\n",
    "Almacenamos el script con el codigo HQL en nuestro Azure Blob Storage **covidreportingsa** en la ruta **scripts/hql/covid_transform_testing.hql**\n",
    "\n",
    "<center><img src=\"https://i.postimg.cc/6pXT58yL/adf962.png\"></center>\n",
    "\n",
    "En la pestaña **Script** indicamos el Linked Service que hace referencia al Azure Blob Storage **covidreportingsa** y la ruta donde se encuentra el script\n",
    "\n",
    "<center><img src=\"https://i.postimg.cc/FFYYPtMc/adf961.png\"></center>\n",
    "\n",
    "Ejecutamos nuestro Pipeline y vemos que se ha generado un archivo en la ruta indicada al momento de crear la tabla en el script\n",
    "\n",
    "<center><img src=\"https://i.postimg.cc/NjkFyQXh/adf963.png\"></center>\n",
    "\n",
    "El archivo generado se almacenará en la ruta del ADLS **processed/ecdc/testing**\n",
    "\n",
    "<center><img src=\"https://i.postimg.cc/3wrRmzjk/adf964.png\"></center>"
   ]
  }
 ],
 "metadata": {
  "language_info": {
   "name": "python"
  },
  "orig_nbformat": 4
 },
 "nbformat": 4,
 "nbformat_minor": 2
}
