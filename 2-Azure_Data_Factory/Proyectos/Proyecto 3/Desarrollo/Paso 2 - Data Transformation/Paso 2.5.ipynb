{
 "cells": [
  {
   "attachments": {},
   "cell_type": "markdown",
   "metadata": {},
   "source": [
    "### **Paso 2.5 - Llamar al Synapse notebook desde Azure Data Factory**\n",
    "\n",
    "1. Llamar al Synapse notebook desde Azure Data Factory\n",
    "\n",
    "    *   Uso de la actividad **Notebook** en Azure Data Factory (ADF).\n",
    "    *   Ambos **Managed Identity** de **ADF** y **User** deben tener acceso **Synapse Administrator** en **Synapse Analytics**"
   ]
  },
  {
   "attachments": {},
   "cell_type": "markdown",
   "metadata": {},
   "source": [
    "<center><img src=\"https://i.postimg.cc/nr5rH199/adf532.png\"></center>"
   ]
  }
 ],
 "metadata": {
  "language_info": {
   "name": "python"
  },
  "orig_nbformat": 4
 },
 "nbformat": 4,
 "nbformat_minor": 2
}
