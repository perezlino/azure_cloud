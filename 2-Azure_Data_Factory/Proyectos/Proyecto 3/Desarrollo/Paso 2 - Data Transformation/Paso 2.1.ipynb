{
 "cells": [
  {
   "attachments": {},
   "cell_type": "markdown",
   "metadata": {},
   "source": [
    "##### **Paso 2.1 - Creación de Linked Service que haga referencia hacia ADLS**\n",
    "\n",
    "1. Acceder a ADLS usando **Managed Identity**\n",
    "\n",
    "2. Configurar la **Managed Identity** de Azure Synapse Analytics y asignarle un **Rol** para que tenga acceso a **ADLS** \n",
    "\n",
    "3. Crear el Linked Service **LS_ADLS_transform** que hace referencia a ADLS"
   ]
  },
  {
   "attachments": {},
   "cell_type": "markdown",
   "metadata": {},
   "source": [
    "#### Configurar la **Managed Identity** de Azure Synapse Analytics y asignarle un **Rol** para que tenga acceso a **ADLS** \n",
    "\n",
    "Antes de comenzar a crear el Linked Service, vamos a configurar el **Manged Identity** para que Azure Synapse tenga permisos y pueda conectarse a ADLS. Para ello desde nuestro ADLS, nos dirijimos a **Access Control (IAM)** y asignaremos el Rol **Storage Blob Data Contributor** a nuestra identidad de Azure Synapse **ott-synapse-011**\n",
    "\n",
    "<center><img src=\"https://i.postimg.cc/9FP5zQvg/adf522.png\"></center>\n",
    "<center><img src=\"https://i.postimg.cc/W19yJFS8/adf523.png\"></center>\n",
    "<center><img src=\"https://i.postimg.cc/zX7t9HmN/adf524.png\"></center>\n",
    "<center><img src=\"https://i.postimg.cc/jdMc8VNd/adf525.png\"></center>\n",
    "<center><img src=\"https://i.postimg.cc/CKkjp9Z8/adf526.png\"></center>\n",
    "<center><img src=\"https://i.postimg.cc/MpjB1gmL/adf527.png\"></center>"
   ]
  },
  {
   "attachments": {},
   "cell_type": "markdown",
   "metadata": {},
   "source": [
    "#### Crear el Linked Service **LS_ADLS_transform** que hace referencia a ADLS\n",
    "\n",
    "Ahora creamos el Linked Service\n",
    "\n",
    "<center><img src=\"https://i.postimg.cc/GmDGw6VC/adf520.png\"></center>\n",
    "<center><img src=\"https://i.postimg.cc/4dxYd0Ln/adf521.png\"></center>\n",
    "<center><img src=\"https://i.postimg.cc/NMb2gtQK/adf528.png\"></center>\n",
    "<center><img src=\"https://i.postimg.cc/CLRnV9XK/adf529.png\"></center>"
   ]
  }
 ],
 "metadata": {
  "language_info": {
   "name": "python"
  },
  "orig_nbformat": 4
 },
 "nbformat": 4,
 "nbformat_minor": 2
}
