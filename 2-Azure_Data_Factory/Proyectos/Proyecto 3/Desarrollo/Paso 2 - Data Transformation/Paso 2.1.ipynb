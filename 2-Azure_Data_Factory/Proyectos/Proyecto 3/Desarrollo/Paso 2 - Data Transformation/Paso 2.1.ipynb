{
 "cells": [
  {
   "attachments": {},
   "cell_type": "markdown",
   "metadata": {},
   "source": []
  },
  {
   "attachments": {},
   "cell_type": "markdown",
   "metadata": {},
   "source": [
    "#### Crear el dataflow **df_transform_cases_deaths**\n",
    "\n",
    "Creamos un nuevo contenedor **lookup** en ADLS y cargamos el archivo **country_lookup.csv**.\n",
    "\n",
    "Comenzamos configurando nuestro \"stream\" **source** que se llama **CasesAndDeathsSource**. Creamos un nuevo dataset de origen que haga referencia al archivo **cases_deaths.csv**, llamado **df_raw_cases_and_deaths**\n",
    "\n",
    "<center><img src=\"https://i.postimg.cc/MKvdgTnT/adf780.png\"></center>\n",
    "\n",
    "https://i.postimg.cc/YCYFG4nh/adf781.png\n",
    "https://i.postimg.cc/x8BkqYLv/adf782.png\n",
    "https://i.postimg.cc/8c7J1sfk/adf783.png\n",
    "https://i.postimg.cc/mDX1f7D6/adf784.png\n",
    "https://i.postimg.cc/7L42gxdX/adf785.png\n",
    "https://i.postimg.cc/bvR2g7jP/adf786.png\n",
    "https://i.postimg.cc/zBXHcxJg/adf787.png\n",
    "\n"
   ]
  }
 ],
 "metadata": {
  "language_info": {
   "name": "python"
  },
  "orig_nbformat": 4
 },
 "nbformat": 4,
 "nbformat_minor": 2
}
