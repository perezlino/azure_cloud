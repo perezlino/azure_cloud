{
 "cells": [
  {
   "attachments": {},
   "cell_type": "markdown",
   "metadata": {},
   "source": [
    "### **Paso 2.2 - Creamos el Data flow \"df_transform_cases_deaths\" para transformar los datos del archivo \"hospital-admissions.csv\"**\n",
    "\n",
    "1. Configurar el stream **Source** y crear un nuevo dataset de origen que haga referencia al archivo **hospital-admissions.csv**, llamado  \n",
    "   **ds_raw_hospital_admission**\n",
    "\n",
    "2. Agregar un stream **Select** para renombrar y eliminar campos\n",
    "\n",
    "3. Agregar un stream **Lookup** y un stream **Source**. El stream **Source** hace referencia al archivo **country_lookup.csv**, más especificamente al dataset **ds_country_lookup**\n",
    "\n",
    "4. Agregar un stream **Select** para eliminar un campo\n",
    "\n",
    "5. Agregar un stream **Split Conditional**\n",
    "\n",
    "6. Agregar y configurar un nuevo stream **Source** y crear un nuevo dataset de origen que haga referencia al archivo **dim_date.csv**, llamado **ds_dim_date_lookup** \n",
    "\n",
    "7. Agregar un stream **Derived Column** para crear un nuevo campo\n",
    "\n",
    "8. Agregar un stream **Aggregate**\n",
    "\n",
    "9. Agregar un stream **Join**\n",
    "\n",
    "10. Agregar un stream **Pivot** llamado **PivotWeekly**\n",
    "\n",
    "11. Agregar un stream **Pivot** llamado **PivotDaily**\n",
    "\n",
    "12. Agregar un stream **Sort** llamado **SortWeekly**\n",
    "\n",
    "13. Agregar un stream **Sort** llamado **SortDaily**\n",
    "\n",
    "14. Agregar un stream **Select** llamado **SelectWeekly** para renombrar columnas\n",
    "\n",
    "15. Agregar un stream **Select** llamado **SelectDaily** para renombrar columnas\n",
    "\n",
    "7. Y para finalizar, utilizaremos un stream **Sink** llamado **WeeklySink**  y creamos un un nuevo dataset de destino que haga referencia a la ruta **processed/ecdc/hospital_admission_weekly** de nuestro ADLS. No se indicó un nombre de archivo. Y un stream **Sink** llamado **DailySink**  y creamos un un nuevo dataset de destino que haga referencia a la ruta **processed/ecdc/hospital_admission_daily** de nuestro ADLS. Tampoco se indicó un nombre de archivo.\n",
    "\n",
    "8. Creamos el pipeline **pl_process_hospital_admissions_data** para ejecutar el Data flow recién creado"
   ]
  },
  {
   "cell_type": "code",
   "execution_count": null,
   "metadata": {
    "vscode": {
     "languageId": "sql"
    }
   },
   "outputs": [],
   "source": [
    "           SOURCE                            SELECT                       LOOKUP                      SELECT                      SPLIT CONDITIONAL                    JOIN                     PIVOT                    SORT                    SELECT                    SINK\n",
    " ___________________________          ____________________          _________________          _____________________          ________________________           ________________          _______________          _______________          _______________          _______________\n",
    "|                           |        |                    |        |                 |        |                     |        |        (Weekly)        |         |                |        |               |        |               |        |               |        |               |       \n",
    "|  HospitalAdmissionSource  |--------|  SelectReqdFields  |--------|  LookupCountry  |--------|  SelectReqdFields2  |--------|  SplitDailyFromWeekly  |---------|  JoinWithDate  |--------|  PivotWeekly  |--------|   SortWeekly  |--------|  SelectWeekly |--------|   WeeklySink  |\n",
    "|___________________________| +      |____________________| +      |_________________| +      |_____________________| +      |________________________| +       |________________| +      |_______________| +      |_______________| +      |_______________| +      |_______________|\n",
    "                                                                      |                                                      |                                         PIVOT                     SORT                     SELECT                   SINK\n",
    "        SOURCE                                                        |                                                      |   ________________________          _______________          _______________          _______________          _______________                                     \n",
    " ___________________                                                  |                                                      |  |         (Daily)        |        |               |        |               |        |               |        |               |        \n",
    "|                   |-------------------------------------------------'                                                      '--|  SplitDailyFromWeekly  |--------|   PivotDaily  |--------|   SortDaily   |--------|  SelectDaily  |--------|   DailySink   |   \n",
    "|   CountrySource   |                                                                                                           |________________________| +      |_______________| +      |_______________| +      |_______________| +      |_______________|                                          \n",
    "|___________________|    \n",
    "\n",
    "       SOURCE                   DERIVED COLUMN                 AGGREGATE\n",
    " _________________          ______________________          ________________\n",
    "|                 |        |                      |        |                |   \n",
    "|  DimDateSource  |--------|  DeriveECDCYearWeek  |--------|   AggDimDate   |\n",
    "|_________________| +      |______________________| +      |________________|          "
   ]
  },
  {
   "attachments": {},
   "cell_type": "markdown",
   "metadata": {},
   "source": [
    "#### Configurar el stream **Source** y crear un nuevo dataset de origen que haga referencia al archivo **hospital-admissions.csv**, llamado **ds_raw_hospital_admission**\n",
    "\n",
    "Comenzamos configurando nuestro \"stream\" **source** que se llama **HospitalAdmissionSource**. Creamos un nuevo dataset de origen que haga referencia al archivo **hospital-admissions.csv**, llamado **ds_raw_hospital_admission**\n",
    "\n",
    "<center><img src=\"https://i.postimg.cc/SxFffVnW/adf850.png\"></center>\n",
    "<center><img src=\"https://i.postimg.cc/L4GbGtqs/adf851.png\"></center>\n",
    "<center><img src=\"https://i.postimg.cc/fWVPH2RF/adf852.png\"></center>\n",
    "<center><img src=\"https://i.postimg.cc/pyNzkXL2/adf853.png\"></center>\n",
    "<center><img src=\"https://i.postimg.cc/5tf5Z0qy/adf854.png\"></center>\n",
    "<center><img src=\"https://i.postimg.cc/wBF5Hp0V/adf855.png\"></center>\n",
    "<center><img src=\"https://i.postimg.cc/B66TnVzG/adf856.png\"></center>\n",
    "<center><img src=\"https://i.postimg.cc/qR58hGf6/adf857.png\"></center>\n",
    "<center><img src=\"https://i.postimg.cc/5yQ8wF17/adf858.png\"></center>"
   ]
  },
  {
   "attachments": {},
   "cell_type": "markdown",
   "metadata": {},
   "source": [
    "#### Agregar un stream **Select** para renombrar y eliminar campos\n",
    "\n",
    "Eliminamos el campo **url**\n",
    "\n",
    "<center><img src=\"https://i.postimg.cc/9FxZx7WQ/adf859.png\"></center>\n",
    "\n",
    "Renombramos los campos de **date** y **year_week**\n",
    "\n",
    "<center><img src=\"https://i.postimg.cc/BnkD3fPW/adf860.png\"></center>\n",
    "<center><img src=\"https://i.postimg.cc/nztDsK10/adf862.png\"></center>\n",
    "<center><img src=\"https://i.postimg.cc/50qF8H71/adf861.png\"></center>"
   ]
  },
  {
   "attachments": {},
   "cell_type": "markdown",
   "metadata": {},
   "source": [
    "#### Agregar un stream **Lookup** y un stream **Source**. \n",
    "\n",
    "El stream **Source** hace referencia al archivo **country_lookup.csv**, más especificamente al dataset **ds_country_lookup**\n",
    "\n",
    "<center><img src=\"https://i.postimg.cc/8c85jTBW/adf863.png\"></center>\n",
    "<center><img src=\"https://i.postimg.cc/BQB6n98L/adf864.png\"></center>\n",
    "<center><img src=\"https://i.postimg.cc/7hgLzjmR/adf865.png\"></center>\n",
    "<center><img src=\"https://i.postimg.cc/NfcFtf0v/adf866.png\"></center>"
   ]
  },
  {
   "attachments": {},
   "cell_type": "markdown",
   "metadata": {},
   "source": [
    "#### Agregar un stream **Select** para eliminar un campo\n",
    "\n",
    "Eliminamos el campo **continent**\n",
    "\n",
    "<center><img src=\"https://i.postimg.cc/tCBzncwJ/adf867.png\"></center>\n",
    "\n",
    "El campo duplicado **country** (luego de utilizar el stream **lookup**) no se tomará en cuenta dado que tenemos activadas las casillas de **Skip duplicate**\n",
    "\n",
    "<center><img src=\"https://i.postimg.cc/3x7ZkvK8/adf872.png\"></center>\n",
    "<center><img src=\"https://i.postimg.cc/V6FtQrcv/adf868.png\"></center>\n",
    "<center><img src=\"https://i.postimg.cc/ZqtvWFb0/adf869.png\"></center>\n",
    "<center><img src=\"https://i.postimg.cc/W3SdYBMJ/adf870.png\"></center>\n",
    "<center><img src=\"https://i.postimg.cc/vTBcJ0z2/adf871.png\"></center>"
   ]
  },
  {
   "attachments": {},
   "cell_type": "markdown",
   "metadata": {},
   "source": [
    "#### Agregar un stream **Split Conditional**\n",
    "\n",
    "```\n",
    "Para \"Weekly\" se indicó la siguiente expresión:\n",
    "indicator == 'Weekly new hospital admissions per 100k' || indicator == 'Weekly new ICU admissions per 100k'\n",
    "\n",
    "Para \"Daily\" se indicó la siguiente expresión:\n",
    "Todos los otros registros que no cumplan la condición de \"Weekly\"\n",
    "```\n",
    "\n",
    "<center><img src=\"https://i.postimg.cc/zBbx5Yk4/adf873.png\"></center>\n",
    "<center><img src=\"https://i.postimg.cc/gJCN2tSj/adf874.png\"></center>\n",
    "<center><img src=\"https://i.postimg.cc/cCfTg72m/adf875.png\"></center>"
   ]
  },
  {
   "attachments": {},
   "cell_type": "markdown",
   "metadata": {},
   "source": [
    "#### Agregar un stream **Source**\n",
    "\n",
    "Comenzamos creando un nuevo dataset de origen que haga referencia al archivo **dim_date.csv**, llamado **ds_dim_date_lookup**. Se encuentra en la ruta **lookup/dim_date.csv**, siendo **lookup** el contenedor\n",
    "\n",
    "<center><img src=\"https://i.postimg.cc/BvC7ZfRv/adf876.png\"></center>\n",
    "<center><img src=\"https://i.postimg.cc/Wzd57FzD/adf877.png\"></center>\n",
    "<center><img src=\"https://i.postimg.cc/kg3Tx5m4/adf878.png\"></center>\n",
    "<center><img src=\"https://i.postimg.cc/fT0Ht91p/adf879.png\"></center>\n",
    "<center><img src=\"https://i.postimg.cc/RCYsZRpw/adf880.png\"></center>\n",
    "<center><img src=\"https://i.postimg.cc/tJ82vqnB/adf881.png\"></center>"
   ]
  },
  {
   "attachments": {},
   "cell_type": "markdown",
   "metadata": {},
   "source": [
    "#### Agregar un stream **Derived Column** para crear un nuevo campo\n",
    "\n",
    "Una breve explicación de la función **LPAD**\n",
    "\n",
    "    LPAD (LEFT-PAD)\n",
    "    ----\n",
    "\n",
    "    En el primer argumento le indicamos la columna que queremos trabajar, en el segundo parámetro indicamos el total de caracteres que tendrá el valor de la columna y en el tercer parámetro indicamos el caracter que se agregará. \n",
    "\n",
    "    SELECT LPAD(col3, 10, 'v') FROM tabla1;\n",
    "\n",
    "    vvvEngland\n",
    "    vvvEngland\n",
    "    vvvEngland\n",
    "    vvvvvWales\n",
    "    vvvEngland\n",
    "    vvvEngland\n",
    "\n",
    "Creamos una nueva columna llamada **ecdc_year_week** utilizando la siguiente expresión:\n",
    "```\n",
    "year + '-W' + lpad(week_of_year,2,'0')\n",
    "```\n",
    "<center><img src=\"https://i.postimg.cc/pXS46sVy/adf882.png\"></center>\n",
    "<center><img src=\"https://i.postimg.cc/1zhT94qQ/adf883.png\"></center>\n",
    "<center><img src=\"https://i.postimg.cc/P589s1Ny/adf884.png\"></center>\n",
    "<center><img src=\"https://i.postimg.cc/CKG2dYGf/adf885.png\"></center>\n",
    "<center><img src=\"https://i.postimg.cc/DZ7MXD6p/adf886.png\"></center>"
   ]
  },
  {
   "attachments": {},
   "cell_type": "markdown",
   "metadata": {},
   "source": [
    "#### Agregar un stream **Aggregate**\n",
    "\n",
    "Agrupamos por la columna **ecdc_year_week**\n",
    "\n",
    "<center><img src=\"https://i.postimg.cc/wM9XjY6F/adf887.png\"></center>\n",
    "\n",
    "Podemos agregar utilizando un **MIN** y un **MAX**\n",
    "\n",
    "<center><img src=\"https://i.postimg.cc/5N7BbrDq/adf888.png\"></center>\n",
    "<center><img src=\"https://i.postimg.cc/L5vzqQ5S/adf889.png\"></center>\n",
    "<center><img src=\"https://i.postimg.cc/PfMbFJ47/adf890.png\"></center>\n",
    "\n",
    "Podemos eliminar el stream **DERIVED COLUMN** previo y utilizar la expresión utilizada en dicho stream directamente aqui y obtener el mismo resultado\n",
    "\n",
    "<center><img src=\"https://i.postimg.cc/MpnyTDSk/adf891.png\"></center>\n",
    "<center><img src=\"https://i.postimg.cc/022GgvXy/adf892.png\"></center>"
   ]
  },
  {
   "attachments": {},
   "cell_type": "markdown",
   "metadata": {},
   "source": [
    "#### Agregar un stream **Join**\n",
    "\n",
    "<center><img src=\"https://i.postimg.cc/Hnw1g56F/adf893.png\"></center>\n",
    "<center><img src=\"https://i.postimg.cc/mZCsCfTV/adf894.png\"></center>\n",
    "<center><img src=\"https://i.postimg.cc/zXN1ktBN/adf895.png\"></center>\n",
    "<center><img src=\"https://i.postimg.cc/wTkY4Xym/adf896.png\"></center>"
   ]
  },
  {
   "attachments": {},
   "cell_type": "markdown",
   "metadata": {},
   "source": [
    "#### Agregar un stream **Pivot** llamado **PivotWeekly**\n",
    "\n",
    "Esto es lo que nos entrega el stream **Join**\n",
    "\n",
    "<center><img src=\"https://i.postimg.cc/h4mJC1Fs/adf902.png\"></center>\n",
    "\n",
    "<center><img src=\"https://i.postimg.cc/rwVG5rtj/adf897.png\"></center>\n",
    "<center><img src=\"https://i.postimg.cc/9QLdbQdh/adf898.png\"></center>\n",
    "<center><img src=\"https://i.postimg.cc/2534KNGB/adf899.png\"></center>\n",
    "<center><img src=\"https://i.postimg.cc/SK5W0111/adf900.png\"></center>\n",
    "<center><img src=\"https://i.postimg.cc/NMHRQ8Ws/adf901.png\"></center>\n",
    "\n",
    "Esto es lo que obtenemos al aplicar el stream **Pivot**\n",
    "\n",
    "<center><img src=\"https://i.postimg.cc/B6bMHwXJ/adf903.png\"></center>"
   ]
  },
  {
   "attachments": {},
   "cell_type": "markdown",
   "metadata": {},
   "source": [
    "#### Agregar un stream **Pivot** llamado **PivotDaily**\n",
    "\n",
    "<center><img src=\"https://i.postimg.cc/JhQKvHsY/adf904.png\"></center>\n",
    "<center><img src=\"https://i.postimg.cc/50NpV9v4/adf905.png\"></center>\n",
    "<center><img src=\"https://i.postimg.cc/85K4P8Bh/adf906.png\"></center>\n",
    "<center><img src=\"https://i.postimg.cc/T1K9KkCB/adf907.png\"></center>"
   ]
  },
  {
   "attachments": {},
   "cell_type": "markdown",
   "metadata": {},
   "source": [
    "#### Agregar un stream **Sort** llamado **SortWeekly**\n",
    "\n",
    "<center><img src=\"https://i.postimg.cc/mDv1TR6z/adf908.png\"></center>\n",
    "<center><img src=\"https://i.postimg.cc/7hSG6cpB/adf909.png\"></center>"
   ]
  },
  {
   "attachments": {},
   "cell_type": "markdown",
   "metadata": {},
   "source": [
    "#### Agregar un stream **Sort** llamado **SortDaily**\n",
    "\n",
    "<center><img src=\"https://i.postimg.cc/vHHbDCFc/adf910.png\"></center>\n",
    "<center><img src=\"https://i.postimg.cc/X7H35x4x/adf911.png\"></center>"
   ]
  },
  {
   "attachments": {},
   "cell_type": "markdown",
   "metadata": {},
   "source": [
    "#### Agregar un stream **Select** llamado **SelectWeekly** para renombrar columnas\n",
    "\n",
    "En el stream **PivotWeekly** agregamos dos columnas que faltaron en la agrupación: **week_start_date** y **week_end_date**\n",
    "\n",
    "<center><img src=\"https://i.postimg.cc/fRvwLZkt/adf912.png\"></center>\n",
    "\n",
    "Renombramos 4 columnas\n",
    "\n",
    "<center><img src=\"https://i.postimg.cc/DZSFBX6L/adf913.png\"></center>\n",
    "<center><img src=\"https://i.postimg.cc/pdXP57n0/adf914.png\"></center>"
   ]
  },
  {
   "attachments": {},
   "cell_type": "markdown",
   "metadata": {},
   "source": [
    "#### Agregar un stream **Select** llamado **SelectDaily** para renombrar columnas\n",
    "\n",
    "Renombramos 2 columnas\n",
    "\n",
    "<center><img src=\"https://i.postimg.cc/C190txrt/adf915.png\"></center>\n",
    "<center><img src=\"https://i.postimg.cc/LsC2tTtm/adf916.png\"></center>"
   ]
  },
  {
   "attachments": {},
   "cell_type": "markdown",
   "metadata": {},
   "source": [
    "#### Agregar un stream **Sink** llamado **WeeklySink** \n",
    "\n",
    "Debemos crear un nuevo dataset de destino **ds_processed_hospital_admission_weekly** que haga referencia a la ruta **processed/ecdc/hospital_admissions_weekly** de nuestro ADLS. No se indicó un nombre de archivo\n",
    "\n",
    "<center><img src=\"https://i.postimg.cc/vB4hTY8G/adf917.png\"></center>\n",
    "<center><img src=\"https://i.postimg.cc/T3Tcmq27/adf918.png\"></center>\n",
    "<center><img src=\"https://i.postimg.cc/Vsb4ckHR/adf919.png\"></center>\n",
    "<center><img src=\"https://i.postimg.cc/KjL570gV/adf920.png\"></center>\n",
    "<center><img src=\"https://i.postimg.cc/B6Rg1rtH/adf921.png\"></center>\n",
    "<center><img src=\"https://i.postimg.cc/k4RN9Tw4/adf927.png\"></center>"
   ]
  },
  {
   "attachments": {},
   "cell_type": "markdown",
   "metadata": {},
   "source": [
    "#### Agregar un stream **Sink** llamado **DailySink** \n",
    "\n",
    "Debemos crear un nuevo dataset de destino **ds_processed_hospital_admissions_daily** que haga referencia a la ruta **processed/ecdc/hospital_admissions_daily** de nuestro ADLS. No se indicó un nombre de archivo\n",
    "\n",
    "<center><img src=\"https://i.postimg.cc/BQ9pZfrG/adf922.png\"></center>\n",
    "<center><img src=\"https://i.postimg.cc/CK1Hrhqb/adf923.png\"></center>\n",
    "<center><img src=\"https://i.postimg.cc/sgK4JQvV/adf924.png\"></center>\n",
    "<center><img src=\"https://i.postimg.cc/yYmPkrK3/adf925.png\"></center>\n",
    "<center><img src=\"https://i.postimg.cc/tgMdLK3w/adf926.png\"></center>"
   ]
  },
  {
   "attachments": {},
   "cell_type": "markdown",
   "metadata": {},
   "source": [
    "#### Creamos el pipeline **pl_process_hospital_admissions_data**\n",
    "\n",
    "Creamos un pipeline llamado **pl_process_hospital_admissions_data*** para ejecutar el Data flow recién creado\n",
    "\n",
    "<center><img src=\"https://i.postimg.cc/VNW9NScy/adf928.png\"></center>\n",
    "\n",
    "**Validamos**, **Publicamos** y ejecutamos el pipeline utilizando **Debug**. Recordar que no indicamos ningún archivo de salida, por tanto, nos devolverá un archivo con múltiples particiones en ambos casos\n",
    "\n",
    "<center><img src=\"https://i.postimg.cc/9Q3ytPm5/adf929.png\"></center>\n",
    "<center><img src=\"https://i.postimg.cc/hv6TYTVm/adf930.png\"></center>\n",
    "\n",
    "En la pestaña de **Settings** indicamos que queremos que SEA UN SOLO ARCHIVO DE SALIDA y le damos un nombre al archivo. En la pestaña **Optimize** indicamos que sea **Single partition**\n",
    "\n",
    "<center><img src=\"https://i.postimg.cc/Wzh0SXqj/adf931.png\"></center>\n",
    "<center><img src=\"https://i.postimg.cc/k4MQRnn2/adf932.png\"></center>\n",
    "<center><img src=\"https://i.postimg.cc/nhvBdsrs/adf933.png\"></center>\n",
    "<center><img src=\"https://i.postimg.cc/NMN11WMp/adf934.png\"></center>\n",
    "<center><img src=\"https://i.postimg.cc/qB5sgVW7/adf935.png\"></center>\n",
    "<center><img src=\"https://i.postimg.cc/kXRxbYdv/adf936.png\"></center>\n",
    "<center><img src=\"https://i.postimg.cc/pdR8325s/adf937.png\"></center>\n",
    "<center><img src=\"https://i.postimg.cc/d06dYz8w/adf938.png\"></center>"
   ]
  }
 ],
 "metadata": {
  "language_info": {
   "name": "python"
  },
  "orig_nbformat": 4
 },
 "nbformat": 4,
 "nbformat_minor": 2
}
