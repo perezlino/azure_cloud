{
 "cells": [
  {
   "attachments": {},
   "cell_type": "markdown",
   "metadata": {},
   "source": [
    "### **Paso 3.2 - Creación de Linked Service que haga referencia hacia Azure SQL Database**\n",
    "\n",
    "1. Enmascarar nuestro Password de acceso al servidor de Azure SQL Database utilizando Azure Key Vault\n",
    "\n",
    "2. Crear el Linked Service de destino **LS_SQL_Load** que hace referencia a Azure SQL Database. Reutilizaremos el Linked Service de origen **LS_adls_ingest** que hace referencia a nuestro ADLS y también el Linked Service **LS_Keyvault** que hace referencia a Azure Key Vault"
   ]
  },
  {
   "attachments": {},
   "cell_type": "markdown",
   "metadata": {},
   "source": [
    "#### Enmascarar nuestro Password de acceso al servidor de Azure SQL Database utilizando Azure Key Vault\n",
    "\n",
    "Crearemos un secreto para nuestro password de Azure SQL Database\n",
    "\n",
    "<center><img src=\"https://i.postimg.cc/C18pYSgY/adf554.png\"></center>\n",
    "<center><img src=\"https://i.postimg.cc/0yXTwb5P/adf555.png\"></center>\n",
    "<center><img src=\"https://i.postimg.cc/763tm64C/adf556.png\"></center>"
   ]
  },
  {
   "attachments": {},
   "cell_type": "markdown",
   "metadata": {},
   "source": [
    "#### Crear el Linked Service de destino **LS_SQL_Load** que hace referencia a Azure SQL Database. Reutilizaremos el Linked Service de origen **LS_adls_ingest** que hace referencia a nuestro ADLS y también el Linked Service **LS_Keyvault** que hace referencia a Azure Key Vault\n",
    "\n",
    "Creamos el nuevo Linked Service de destino **LS_SQL_Load**\n",
    "\n",
    "<center><img src=\"https://i.postimg.cc/hPyyC6k0/adf557.png\"></center>\n",
    "<center><img src=\"https://i.postimg.cc/0j5nn0Z3/adf558.png\"></center>\n",
    "\n",
    "Utilizaremos seguridad Azure Key Vault para el ingreso de nuestro password. Para ello utilizaremos el secreto **sqlpassword** que recien creamos y reutilizamos el Linked Service **LS_Keyvault** que hace referencia a Azure Key Vault\n",
    "\n",
    "<center><img src=\"https://i.postimg.cc/4dPbYhZ1/adf559.png\"></center>\n",
    "<center><img src=\"https://i.postimg.cc/rpC5HtdL/adf560.png\"></center>"
   ]
  }
 ],
 "metadata": {
  "language_info": {
   "name": "python"
  },
  "orig_nbformat": 4
 },
 "nbformat": 4,
 "nbformat_minor": 2
}
