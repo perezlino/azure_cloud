{
 "cells": [
  {
   "attachments": {},
   "cell_type": "markdown",
   "metadata": {},
   "source": [
    "### **Paso 3.3 - Creación de Datasets de origen y destino**\n",
    "\n",
    "1. Crear el Dataset de origen **DS_ADLS_Refined** que hace referencia a nuestro ADLS, a la ruta **refined/data**. \n",
    "    Siendo **refined** el contenedor y **data** el directorio\n",
    "\n",
    "2. Crear el Dataset de destino **DS_SQL_Load** que hace referencia a Azure SQL Database"
   ]
  },
  {
   "attachments": {},
   "cell_type": "markdown",
   "metadata": {},
   "source": [
    "#### Crear el Dataset de origen **DS_ADLS_Refined** que hace referencia a nuestro ADLS, a la ruta **refined/data**. Siendo **refined** el contenedor y **data** el directorio\n",
    "\n",
    "<center><img src=\"https://i.postimg.cc/bww8K7VV/adf549.png\"></center>\n",
    "<center><img src=\"https://i.postimg.cc/RZYr2NHq/adf550.png\"></center>\n",
    "<center><img src=\"https://i.postimg.cc/Tw8zYFQ6/adf551.png\"></center>\n",
    "<center><img src=\"https://i.postimg.cc/4N4rdzvm/adf552.png\"></center>\n",
    "<center><img src=\"https://i.postimg.cc/sxj0Mrht/adf553.png\"></center>"
   ]
  },
  {
   "attachments": {},
   "cell_type": "markdown",
   "metadata": {},
   "source": [
    "#### Crear el Dataset de destino **DS_SQL_Load** que hace referencia a Azure SQL Database\n",
    "\n",
    "<center><img src=\"https://i.postimg.cc/j2TXWB80/adf563.png\"></center>\n",
    "\n",
    "La tabla **ADLSingest** no existe en Azure SQL Database. Para ello la crearemos de manera automática, activando la casilla **Edit** e ingresando el nombre que queremos para nuestra tabla. Tambien, en el Paso 3.4 indicamos la ultima parte para crear la tabla de manera automatica, en la pestaña **Sink** de la actividad **Copy data** debemos indicar que debe crearla automaticamente con la opción **AUTO CREATE TABLE**\n",
    "\n",
    "<center><img src=\"https://i.postimg.cc/NjB4fhK1/adf561.png\"></center>\n",
    "<center><img src=\"https://i.postimg.cc/s2247p9x/adf562.png\"></center>\n"
   ]
  }
 ],
 "metadata": {
  "language_info": {
   "name": "python"
  },
  "orig_nbformat": 4
 },
 "nbformat": 4,
 "nbformat_minor": 2
}
