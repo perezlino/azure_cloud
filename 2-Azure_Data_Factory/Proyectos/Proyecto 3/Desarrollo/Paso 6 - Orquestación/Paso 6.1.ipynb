{
 "cells": [
  {
   "attachments": {},
   "cell_type": "markdown",
   "metadata": {},
   "source": [
    "### **Paso 6.1 - **Opción 1** : Ejecutar todos los pipelines en un \"Pipeline Padre\"**\n",
    "\n",
    "1. Organizar en directorios los pipelines y datasets creados\n",
    "\n",
    "2. Ejecutar todos los pipelines en un **Pipeline Padre** y anexarle un **Event Trigger**"
   ]
  },
  {
   "attachments": {},
   "cell_type": "markdown",
   "metadata": {},
   "source": [
    "#### Organizar pipelines y datasets en directorios\n",
    "\n",
    "<center><img src=\"https://i.postimg.cc/Dw0zYfps/adf1026.png\"></center>\n",
    "<center><img src=\"https://i.postimg.cc/L8WsddGW/adf1027.png\"></center>"
   ]
  },
  {
   "attachments": {},
   "cell_type": "markdown",
   "metadata": {},
   "source": [
    "#### Ejecutar todos los pipelines en un **Pipeline Padre**\n",
    "\n",
    "Creamos un directorio donde alojaremos nuestro pipeline padre **pl_executes_population_pipelines**\n",
    "\n",
    "<center><img src=\"https://i.postimg.cc/vT5ZnMLK/adf1028.png\"></center>\n",
    "\n",
    "Lea añadimos una actividad **Execution Pipeline** la cual ejecutará el pipeline **pl_ingest_population_data**. La opción **Wait on completion** se refiere que a apenas se ejecute completamente el pipeline comenzará el siguiente\n",
    "\n",
    "<center><img src=\"https://i.postimg.cc/bNTzfm61/adf1029.png\"></center>\n",
    "<center><img src=\"https://i.postimg.cc/d3RJ16JP/adf1030.png\"></center>\n",
    "\n",
    "Lea añadimos una segunda actividad **Execution Pipeline** la cual ejecutará el pipeline **pl_process_population_data**\n",
    "\n",
    "<center><img src=\"https://i.postimg.cc/HsHpNqtp/adf1031.png\"></center>\n",
    "\n",
    "El pipeline **pl_ingest_population_data** tiene anexado el trigger **tr_ingest-population_data**. Lo eliminaremos del pipeline y de ADF\n",
    "\n",
    "<center><img src=\"https://i.postimg.cc/0Qwkgx3N/adf1032.png\"></center>\n",
    "<center><img src=\"https://i.postimg.cc/jS3tLLY5/adf1037.png\"></center>\n",
    "\n",
    "Crearemos un nuevo trigger llamado **tr_population_data_arrived** que se ejecutará para el pipeline padre **pl_executes_population_pipelines**. Será un **Event trigger**, se activará apenas suceda un evento, en este caso, será la llegada del archivo **population-by-age.tsv.gz** a nuestro Azure Blob Storage **covidreportingsa**, al contenedor **population**\n",
    "\n",
    "<center><img src=\"https://i.postimg.cc/FHrHYMfP/adf1033.png\"></center>\n",
    "<center><img src=\"https://i.postimg.cc/Hk6sX6XT/adf1034.png\"></center>\n",
    "<center><img src=\"https://i.postimg.cc/d0DQBGjr/adf1035.png\"></center>\n",
    "<center><img src=\"https://i.postimg.cc/ZY6bVbp7/adf1036.png\"></center>\n",
    "\n",
    "Anexamos el trigger al pipeline **pl_executes_population_pipelines**\n",
    "\n",
    "<center><img src=\"https://i.postimg.cc/0jvqLSDt/adf1038.png\"></center>\n",
    "<center><img src=\"https://i.postimg.cc/3wPhFVRQ/adf1039.png\"></center>\n",
    "<center><img src=\"https://i.postimg.cc/wMkdHBk9/adf1040.png\"></center>\n",
    "\n",
    "Debemos **Publicar** los cambios para que el trigger se ejecute correctamente\n",
    "\n",
    "<center><img src=\"https://i.postimg.cc/PfbH16n0/adf1041.png\"></center>\n",
    "\n",
    "Vamos a cargar el archivo **population-by-age.tsv.gz** manualmente a nuestro Azure Blob Storage **covidreportingsa**, al contenedor **population**\n",
    "\n",
    "<center><img src=\"https://i.postimg.cc/tC2HMYT5/adf1042.png\"></center>\n",
    "<center><img src=\"https://i.postimg.cc/jS1YRmyn/adf1043.png\"></center>\n",
    "<center><img src=\"https://i.postimg.cc/nhrtbp9t/adf1044.png\"></center>\n",
    "\n",
    "Vemos que el trigger se ejecutó inmediatamente después de cargarse el archivo\n",
    "\n",
    "<center><img src=\"https://i.postimg.cc/L6HpDzH5/adf1045.png\"></center>\n",
    "<center><img src=\"https://i.postimg.cc/768v2zsx/adf1046.png\"></center>\n",
    "<center><img src=\"https://i.postimg.cc/tRz0sYhj/adf1047.png\"></center>\n",
    "<center><img src=\"https://i.postimg.cc/k4x0F5zW/adf1048.png\"></center>\n",
    "<center><img src=\"https://i.postimg.cc/PrfgYT48/adf1049.png\"></center>\n",
    "<center><img src=\"https://i.postimg.cc/RVPjTysp/adf1050.png\"></center>"
   ]
  }
 ],
 "metadata": {
  "language_info": {
   "name": "python"
  },
  "orig_nbformat": 4
 },
 "nbformat": 4,
 "nbformat_minor": 2
}
