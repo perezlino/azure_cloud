{
 "cells": [
  {
   "attachments": {},
   "cell_type": "markdown",
   "metadata": {},
   "source": [
    "### **Paso 1.5 - Modificación de Pipeline \"pl_copy_IPL_DATA_2008\"**\n",
    "\n",
    "1. Reutilizaremos los datasets **ds_Source_IPL_2008_csv** y **ds_Destination_IPL_2008_json** y los clonaremos para generar nuevos datasets de origen y destino para el archivo **ipl 2009.csv** del repositorio Github. Debemos ajustar estos datasets para que hagan referencia a este archivo, para ello seguiremos los pasos anteriores. Los nuevos datasets serán:\n",
    "\n",
    "    *   **ds_Source_IPL_2009_csv**\n",
    "    *   **ds_Destination_IPL_2009_json**\n",
    "\n",
    "   Utilizaremos el mismo pipeline **pl_copy_IPL_DATA_2008** y agregaremos una actividad **Copy data**. \n",
    "   \n",
    "   Este archivo se copiará en la ruta ADLS **raw/IPL_2009.json**, almacenandolo en formato **JSON**"
   ]
  },
  {
   "attachments": {},
   "cell_type": "markdown",
   "metadata": {},
   "source": [
    "#### Crear nuevos dataset y agregar una nueva actividad \"Copy Data\" al pipeline **pl_copy_IPL_DATA_2008**\n",
    "\n",
    "Agregaremos una nueva actividad **Copy Data** que hará referencia a estos dos nuevos datasets\n",
    "\n",
    "<center><img src=\"https://i.postimg.cc/dV8pYp56/adf275.png\"></center>\n",
    "<center><img src=\"https://i.postimg.cc/g0cWBGG8/adf276.png\"></center>\n",
    "<center><img src=\"https://i.postimg.cc/9F3jHdWW/adf277.png\"></center>\n",
    "\n",
    "Vamos a **Validar** y luego ejecutar el pipeline utilizando **Debug**.\n",
    "\n",
    "<center><img src=\"https://i.postimg.cc/hPCb7rfn/adf278.png\"></center>\n",
    "\n",
    "Finalmente el archivo **IPL_2009.json** se creará en nuestro ADLS en el contenedor **raw**\n",
    "\n",
    "<center><img src=\"https://i.postimg.cc/Y9qCg14c/adf279.png\"></center>\n"
   ]
  }
 ],
 "metadata": {
  "language_info": {
   "name": "python"
  },
  "orig_nbformat": 4
 },
 "nbformat": 4,
 "nbformat_minor": 2
}
