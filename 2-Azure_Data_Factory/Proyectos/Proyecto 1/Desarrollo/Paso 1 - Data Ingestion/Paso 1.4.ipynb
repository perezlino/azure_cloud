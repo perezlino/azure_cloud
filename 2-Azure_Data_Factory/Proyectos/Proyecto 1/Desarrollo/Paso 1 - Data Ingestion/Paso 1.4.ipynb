{
 "cells": [
  {
   "attachments": {},
   "cell_type": "markdown",
   "metadata": {},
   "source": [
    "##### **Paso 1.4 - Creación de Pipeline \"pl_copy_IPL_DATA_2008\"**\n",
    "\n",
    "1. Crear el Pipeline de ingesta de datos **pl_copy_IPL_DATA_2008**, el cual contendrá una actividad **Copy data** y este copiará el archivo **ipl 2008.csv** ubicado en el repositorio Github, en la ruta ADLS **raw/IPL_2008.json**, almacenandolo en formato **JSON**"
   ]
  },
  {
   "attachments": {},
   "cell_type": "markdown",
   "metadata": {},
   "source": [
    "#### Creación del Pipeline **pl_copy_IPL_DATA_2008**\n",
    "\n",
    "Creamos un pipeline y lo llamaremos **pl_copy_IPL_DATA_2008**\n",
    "\n",
    "<center><img src=\"https://i.postimg.cc/mrtKRNb8/adf264.png\"></center>\n",
    "<center><img src=\"https://i.postimg.cc/3JjkC2QS/adf265.png\"></center>\n",
    "\n",
    "Agregaremos la actividad **Copy Data** a nuestro Pipeline\n",
    "\n",
    "<center><img src=\"https://i.postimg.cc/mrjKGL1N/adf266.png\"></center>\n",
    "<center><img src=\"https://i.postimg.cc/yxgG90Qv/adf267.png\"></center>\n",
    "<center><img src=\"https://i.postimg.cc/3rz8q1Tr/adf268.png\"></center>\n",
    "\n",
    "Vamos a **Validar** y luego ejecutar el pipeline utilizando **Debug**. Vamos a ver que nos devuelve el **Input**\n",
    "\n",
    "<center><img src=\"https://i.postimg.cc/gr9G6zDL/adf269.png\"></center>\n",
    "<center><img src=\"https://i.postimg.cc/05hSC7XD/adf270.png\">\n",
    "        <img src=\"https://i.postimg.cc/6pfGwgWf/adf271.png\"></center>\n",
    "<center><img src=\"https://i.postimg.cc/vTncKS29/adf272.png\"></center>\n",
    "<center><img src=\"https://i.postimg.cc/nhFhKzxq/adf273.png\"></center>\n",
    "\n",
    "Finalmente el archivo **IPL_2008.json** se creará en nuestro ADLS en el contenedor **raw**\n",
    "\n",
    "<center><img src=\"https://i.postimg.cc/Pqbyg2cg/adf274.png\"></center>\n"
   ]
  }
 ],
 "metadata": {
  "language_info": {
   "name": "python"
  },
  "orig_nbformat": 4
 },
 "nbformat": 4,
 "nbformat_minor": 2
}
