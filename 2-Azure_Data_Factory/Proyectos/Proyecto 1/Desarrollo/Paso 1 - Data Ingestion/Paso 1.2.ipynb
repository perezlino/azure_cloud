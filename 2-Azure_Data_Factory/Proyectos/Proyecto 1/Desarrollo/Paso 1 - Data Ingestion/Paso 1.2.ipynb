{
 "cells": [
  {
   "attachments": {},
   "cell_type": "markdown",
   "metadata": {},
   "source": [
    "### **Paso 1.2 - Creación de Linked Services de origen y destino**\n",
    "\n",
    "1. Crear el Linked Service de origen **LS_HttpServer_GitHub** que hace referencia al repositorio Github\n",
    "\n",
    "2. Crear el Linked Service de destino **LS_AzureDataLakeStorageG2** que hace referencia a nuestro ADLS"
   ]
  },
  {
   "attachments": {},
   "cell_type": "markdown",
   "metadata": {},
   "source": [
    "#### Creación del Linked Service **LS_HttpServer_GitHub** que hace referencia al repositorio Github\n",
    "\n",
    "Trabajaremos con el siguiente Github:\n",
    "\n",
    "   https://github.com/sarafupm/adf_adb_project1\n",
    "\n",
    "Crearemos un Linked Service que haga referencia a un conector HTTP. Nos conectaremos a una cuenta Github. Solo debemos utilizar la ruta sin el archivo, es decir, si existe un repositorio de nombre **adf_adb_project1** y dentro de él tenemos el archivo **IPL 2016.csv**, debemos acceder al archivo y desde la opción **Raw** copiar la dirección de este:\n",
    "\n",
    "   https://github.com/sarafupm/adf_adb_project1/raw/main/IPL%202016.csv\n",
    "\n",
    "Nosotros solamente necesitamos:\n",
    "\n",
    "   https://github.com/perezlino/azure_cloud/raw/main/\n",
    "\n",
    "<center><img src=\"https://i.postimg.cc/FHssm3t6/adf251.png\"></center>\n",
    "<center><img src=\"https://i.postimg.cc/90MJCLpM/adf252.png\"></center>\n",
    "<center><img src=\"https://i.postimg.cc/x8zNvHj5/adf253.png\"></center>"
   ]
  },
  {
   "attachments": {},
   "cell_type": "markdown",
   "metadata": {},
   "source": [
    "#### Creación del Linked Service **LS_AzureDataLakeStorageG2** que hace referencia a nuestro ADLS\n",
    "\n",
    "<center><img src=\"https://i.postimg.cc/D0wB77hL/adf254.png\"></center>\n",
    "<center><img src=\"https://i.postimg.cc/DymBDfBK/adf255.png\"></center>\n",
    "<center><img src=\"https://i.postimg.cc/tJ8P8b4X/adf256.png\"></center>\n",
    "\n",
    "De esta manera hemos creado dos Linked Services\n",
    "\n",
    "<center><img src=\"https://i.postimg.cc/3w3GsnYD/adf257.png\"></center>"
   ]
  }
 ],
 "metadata": {
  "language_info": {
   "name": "python"
  },
  "orig_nbformat": 4
 },
 "nbformat": 4,
 "nbformat_minor": 2
}
