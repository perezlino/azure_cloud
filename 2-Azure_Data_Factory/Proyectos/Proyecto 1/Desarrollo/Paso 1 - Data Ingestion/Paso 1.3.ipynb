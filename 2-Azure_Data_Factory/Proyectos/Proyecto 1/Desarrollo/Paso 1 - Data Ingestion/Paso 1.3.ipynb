{
 "cells": [
  {
   "attachments": {},
   "cell_type": "markdown",
   "metadata": {},
   "source": [
    "### **Paso 1.3 - Creación de Datasets de origen y destino**\n",
    "\n",
    "1. Crear el Dataset de origen **ds_Source_IPL_2008_csv** que hará referencia al archivo **ipl 2008.csv** del repositorio Github\n",
    "\n",
    "2. Crear el Dataset de destino **ds_Destination_IPL_2008_json** que hará referencia al archivo **IPL_2008.json** que no existe y que se almacenará en el contenedor **raw**"
   ]
  },
  {
   "attachments": {},
   "cell_type": "markdown",
   "metadata": {},
   "source": [
    "#### Creación del Dataset de origen **ds_IPL_2008_csv** que hará referencia al archivo **ipl 2008.csv** del repositorio Github\n",
    "\n",
    "Pasos para crear nuestro dataset de origen **ds_IPL_2008_csv**\n",
    "\n",
    "<center><img src=\"https://i.postimg.cc/mgBqnWz3/adf258.png\"></center>\n",
    "<center><img src=\"https://i.postimg.cc/hPgpDbDc/adf259.png\"></center>\n",
    "<center><img src=\"https://i.postimg.cc/wBKtzFzk/adf260.png\"></center>\n",
    "\n",
    "- Hará referencia al archivo **ipl 2008.csv**\n",
    "- Indicaremos que el archivo tiene encabezados y no importaremos su schema\n",
    "\n",
    "<center><img src=\"https://i.postimg.cc/sfZ7kB5y/adf261.png\"></center>"
   ]
  },
  {
   "attachments": {},
   "cell_type": "markdown",
   "metadata": {},
   "source": [
    "#### Creación del Dataset de destino **ds_IPL_2008_json** que hará referencia al archivo **IPL_2008.json** en el ADLS\n",
    "\n",
    "- Crearemos un nuevo dataset **ds_IPL_2008_json**, que hará referencia hacia nuestro ADLS y esta vez tendrá un formato de tipo JSON. Hara referencia al archivo **IPL_2008.json** que no existe y que se almacenará en el contenedor **raw**. No importaremos el schema, dado que el archivo aún no existe, no tiene datos.\n",
    "\n",
    "<center><img src=\"https://i.postimg.cc/024gbBb7/adf262.png\"></center>"
   ]
  },
  {
   "attachments": {},
   "cell_type": "markdown",
   "metadata": {},
   "source": [
    "#### Renombrar nuestros datasets\n",
    "\n",
    "- Dataset de origen: **ds_Source_IPL_2008_csv**\n",
    "- Dataset de destino: **ds_Destination_IPL_2008_json**\n",
    "\n",
    "<center><img src=\"https://i.postimg.cc/QCH3zGFx/adf263.png\"></center>"
   ]
  }
 ],
 "metadata": {
  "language_info": {
   "name": "python"
  },
  "orig_nbformat": 4
 },
 "nbformat": 4,
 "nbformat_minor": 2
}
