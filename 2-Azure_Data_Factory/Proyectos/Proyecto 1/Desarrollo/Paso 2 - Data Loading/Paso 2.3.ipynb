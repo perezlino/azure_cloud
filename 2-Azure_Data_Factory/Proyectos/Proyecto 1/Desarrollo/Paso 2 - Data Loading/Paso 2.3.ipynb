{
 "cells": [
  {
   "attachments": {},
   "cell_type": "markdown",
   "metadata": {},
   "source": [
    "### **Paso 2.3 - Creación de Pipeline \"pl_Copy_Valid_IPL_To_SQL\"**\n",
    "\n",
    "1. Creación y configuración de un nuevo Pipeline que se llamará **pl_Copy_Valid_IPL_To_SQL** que nos permitirá realizar la carga del archivo **ipl 2008.json** en la tabla **dbo.tbl_IPLData**. Agregaremos la actividad **Copy Data**"
   ]
  },
  {
   "attachments": {},
   "cell_type": "markdown",
   "metadata": {},
   "source": [
    "#### Creación de un nuevo Pipeline\n",
    "\n",
    "Creación y configuración de un nuevo Pipeline que se llamará **pl_Copy_Valid_IPL_To_SQL** que nos permitirá realizar la carga del archivo **ipl 2008.json** en la tabla **dbo.tbl_IPLData**. Agregaremos la actividad **Copy Data**\n",
    "\n",
    "<center><img src=\"https://i.postimg.cc/MTt9f7hj/adf317.png\"></center>\n",
    "<center><img src=\"https://i.postimg.cc/j2FvZsqx/adf318.png\"></center>\n",
    "<center><img src=\"https://i.postimg.cc/pXmsynkp/adf319.png\"></center>    \n",
    "<center><img src=\"https://i.postimg.cc/xd25spQz/adf320.png\"></center>\n",
    "\n",
    "Esta es la estructura de la tabla **dbo.tbl_IPLData**\n",
    "\n",
    "<center><img src=\"https://i.postimg.cc/G29yzv4D/adf321.png\"></center>\n",
    "\n",
    "Esta es la estructura que tiene el archivo **ipl 2008.csv**, pero lo vemos como ejemplo, para ver los nombres de las columnas\n",
    "\n",
    "<center><img src=\"https://i.postimg.cc/5t2pz7Mq/adf322.png\"></center>\n",
    "\n",
    "Realizamos el mapeo de las columnas del archivo **ipl 2008.json** frente a las columnas de la tabla **dbo.tbl_IPLData**\n",
    "\n",
    "<center><img src=\"https://i.postimg.cc/gcZs3L15/adf323.png\"></center>\n",
    "\n",
    "Eliminamos la columna **Date**\n",
    "\n",
    "<center><img src=\"https://i.postimg.cc/bN0RBcy9/adf324.png\"></center>\n",
    "\n",
    "Vamos a **Validar** y luego ejecutar el pipeline utilizando **Debug**.\n",
    "\n",
    "<center><img src=\"https://i.postimg.cc/Vs0wM4f8/adf326.png\"></center>\n",
    "<center><img src=\"https://i.postimg.cc/VvQVXqgf/adf327.png\"></center>\n",
    "\n",
    "Podemos ver que en total se cargaron 59 registros y la columna **Date** de la tabla solo tiene valores NULL\n",
    "\n",
    "<center><img src=\"https://i.postimg.cc/MH71NVSp/adf325.png\"></center>"
   ]
  }
 ],
 "metadata": {
  "language_info": {
   "name": "python"
  },
  "orig_nbformat": 4
 },
 "nbformat": 4,
 "nbformat_minor": 2
}
