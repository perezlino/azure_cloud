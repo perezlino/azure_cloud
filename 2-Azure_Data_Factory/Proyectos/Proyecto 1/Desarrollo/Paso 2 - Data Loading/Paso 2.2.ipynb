{
 "cells": [
  {
   "attachments": {},
   "cell_type": "markdown",
   "metadata": {},
   "source": [
    "### **Paso 2.2 - Creación de Datasets de origen y destino para cargar el archivo \"ipl 2008.json\"**\n",
    "\n",
    "1. Crear el Dataset de origen **ds_Valid_IPL_Data_Json** que hará referencia al archivo **ipl 2008.json** que se encuentra en nuestro ADLS\n",
    "\n",
    "2. Crear el Dataset de destino **ds_AzureSqlTable_IPL_Data** que hará referencia a la tabla **dbo.tbl_IPLData** en Azure SQL Database"
   ]
  },
  {
   "attachments": {},
   "cell_type": "markdown",
   "metadata": {},
   "source": [
    "#### Creación de los datasets\n",
    "\n",
    "Creación y configuración de los dataset de origen y destino. El dataset de origen será **ds_Valid_IPL_Data_Json**. Este dataset tendrá como referencia a un único archivo, al archivo **ipl 2008.json**. Estamos referenciando a un solo archivo por motivos de prueba, si vemos que se carga sin problemas, mas adelante cargaremos todos los archivos JSON del contenedor **raw**\n",
    "\n",
    "<center><img src=\"https://i.postimg.cc/pL0tfjzz/adf309.png\"></center>\n",
    "<center><img src=\"https://i.postimg.cc/TwbMvHSJ/adf310.png\"></center>\n",
    "<center><img src=\"https://i.postimg.cc/WzPRNwcL/adf311.png\"></center>\n",
    "<center><img src=\"https://i.postimg.cc/5y5h6QfH/adf312.png\"></center>\n",
    "<center><img src=\"https://i.postimg.cc/Ghd06Kjv/adf313.png\"></center>\n",
    "\n",
    "El dataset de destino será **ds_AzureSqlTable_IPL_Data**. Este dataset hace referencia a la tabla **dbo.tbl_IPLData**\n",
    "\n",
    "<center><img src=\"https://i.postimg.cc/RFSfjjqj/adf314.png\"></center>\n",
    "<center><img src=\"https://i.postimg.cc/QCV7M1Qm/adf315.png\"></center>\n",
    "<center><img src=\"https://i.postimg.cc/nzhjdBPx/adf316.png\"></center>\n"
   ]
  }
 ],
 "metadata": {
  "language_info": {
   "name": "python"
  },
  "orig_nbformat": 4
 },
 "nbformat": 4,
 "nbformat_minor": 2
}
