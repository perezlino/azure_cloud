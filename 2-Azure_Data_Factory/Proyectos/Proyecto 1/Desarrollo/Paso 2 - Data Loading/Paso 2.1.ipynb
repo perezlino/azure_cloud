{
 "cells": [
  {
   "attachments": {},
   "cell_type": "markdown",
   "metadata": {},
   "source": [
    "### **Paso 2.1 - Creación de un Linked Services con referencia hacia Azure SQL Database**\n",
    "\n",
    "1. Crear el Linked Service de destino **LS_AzureSqlDatabase_IPL_db** que hace referencia hacia Azure SQL Database. Reutilizaremos el Linked Service de destino **LS_AzureDataLakeStorageG2** que hace referencia a nuestro ADLS creado en el paso anterior"
   ]
  },
  {
   "attachments": {},
   "cell_type": "markdown",
   "metadata": {},
   "source": [
    "#### Creación de un Linked Service que haga referencia a Azure SQL DB\n",
    "\n",
    "Creación y configuración del Linked Service que hace referencia hacia Azure SQL DB\n",
    "\n",
    "<center><img src=\"https://i.postimg.cc/Yqpjr13w/adf305.png\"></center>\n",
    "<center><img src=\"https://i.postimg.cc/85RPD5f5/adf306.png\"></center>\n",
    "\n",
    "Indicamos el **Server name**, la **base de datos**, el **user name** y la **password**.\n",
    "Nos conectaremos sin utilizar la seguridad por medio de secretos que nos brinda Azure Key Vault\n",
    "\n",
    "<center><img src=\"https://i.postimg.cc/qMbBpWq8/adf307.png\"></center>\n",
    "<center><img src=\"https://i.postimg.cc/g0RGqJDD/adf308.png\"></center>\n"
   ]
  }
 ],
 "metadata": {
  "language_info": {
   "name": "python"
  },
  "orig_nbformat": 4
 },
 "nbformat": 4,
 "nbformat_minor": 2
}
