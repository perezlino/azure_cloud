{
 "cells": [
  {
   "attachments": {},
   "cell_type": "markdown",
   "metadata": {},
   "source": [
    "### **Paso 4.1 - Mejoras para la copia desde on-premise a ADLS**"
   ]
  },
  {
   "attachments": {},
   "cell_type": "markdown",
   "metadata": {},
   "source": [
    "#### Creamos un nuevo parámetro para el dataset de destino **DS_ADLS_Ingest_Param** utilizado por el pipeline **PL_Ingest_Incremental_Load** creado en el Paso 1.4\n",
    "\n",
    "Creamos un nuevo parámetro en el dataset de destino **DS_ADLS_Ingest_Param** \n",
    "\n",
    "<center><img src=\"https://i.postimg.cc/zGj9MKBC/adf573.png\"></center> \n",
    "\n",
    "Utilizamos el parámetro que creamos para parametrizar el nombre de nuestro directorio de destino\n",
    "\n",
    "<center><img src=\"https://i.postimg.cc/gcZ1pfjk/adf574.png\"></center> \n",
    "\n",
    "```\n",
    "De esta manera el pipeline al encontrar un archivo que posea la fecha de hoy lo copiará a un subdirectorio que llevará por nombre la fecha de hoy y que se encontrará en el directorio 'ingest'\n",
    "\n",
    "@{ } --> Las llaves sirven para devolver en formato STRING lo que llevan dentro\n",
    "\n",
    "ingest/@{formatDateTime(utcnow(),'yyyy-MM-dd')}\n",
    "```\n",
    "<center><img src=\"https://i.postimg.cc/6Qq1mPFK/adf575.png\"></center> \n",
    "\n",
    "Agregamos un nuevo archivo al directorio **\\Host** que se encuentra en nuestro sistema local y que posee la fecha de hoy (03-03-2023) \n",
    "\n",
    "<center><img src=\"https://i.postimg.cc/MKsLmxr5/adf576.png\"></center> \n",
    "\n",
    "**Validamos** y ejecutamos nuestro pipeline utilizando **Debug**\n",
    "\n",
    "<center><img src=\"https://i.postimg.cc/T30nDY72/adf577.png\"></center>\n",
    "\n",
    "Luego en ADLS podemos ver que en la ruta **raw/ingest** se generó un subdirectorio con la fecha **2023-03-03** y dentro de él se encuentra el archivo que agregamos en nuestro computador\n",
    "\n",
    "<center><img src=\"https://i.postimg.cc/wvCNptv2/adf578.png\"></center> \n",
    "<center><img src=\"https://i.postimg.cc/Gp9TTPTz/adf579.png\"></center> \n"
   ]
  }
 ],
 "metadata": {
  "language_info": {
   "name": "python"
  },
  "orig_nbformat": 4
 },
 "nbformat": 4,
 "nbformat_minor": 2
}
