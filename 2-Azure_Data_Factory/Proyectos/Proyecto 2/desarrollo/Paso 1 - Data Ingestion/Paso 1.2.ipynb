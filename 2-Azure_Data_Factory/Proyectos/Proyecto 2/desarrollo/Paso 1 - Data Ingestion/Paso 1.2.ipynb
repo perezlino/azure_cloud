{
 "cells": [
  {
   "attachments": {},
   "cell_type": "markdown",
   "metadata": {},
   "source": [
    "### Paso 1.2 - Creación de Linked Services de origen y destino\n",
    "\n",
    "1. Crear el Linked Service **LS_Keyvault** que hace referencia a Azure Key Vault\n",
    "\n",
    "2. Crear el Linked Service de origen **LS_Onprem_File** que hace referencia al almacenamiento de nuestro local\n",
    "\n",
    "3. Crear el Linked Service de destino **LS_adls_ingest** que hace referencia a nuestro ADLS"
   ]
  },
  {
   "attachments": {},
   "cell_type": "markdown",
   "metadata": {},
   "source": [
    "#### Creamos el Linked Service **LS_Keyvault** que hará referencia hacia Azure Key Vault\n",
    "\n",
    "Creamos el Linked Service **LS_Keyvault** que hará referencia hacia Azure Key Vault:\n",
    "\n",
    "<center><img src=\"https://i.postimg.cc/D0KHSvQx/adf469.png\"></center>\n",
    "<center><img src=\"https://i.postimg.cc/x1d7JFHV/adf470.png\"></center>\n",
    "\n",
    "Ingresamos Azure Key Vault name: **ottvault011** y el Método de autenticación: **System Assigned Managed Identity**. Nuestro \"managed identity name es **ott-datafactory-011**\n",
    "\n",
    "<center><img src=\"https://i.postimg.cc/W4BfyNys/adf471.png\"></center>"
   ]
  },
  {
   "attachments": {},
   "cell_type": "markdown",
   "metadata": {},
   "source": [
    "#### Creamos el Linked Service **LS_Onprem_File** que hará referencia hacia nuestro entorno local\n",
    "\n",
    "Luego creamos nuestro segundo Linked Service, esta vez será el Linked Service de origen **LS_Onprem_File** para nuestro proceso de Ingestión\n",
    "\n",
    "<center><img src=\"https://i.postimg.cc/MKrJHkTV/adf472.png\"></center>\n",
    "\n",
    "Desde el Disco C:, vamos a las **Propiedades** del directorio **Host** \n",
    "\n",
    "<center><img src=\"https://i.postimg.cc/tTDmcPnW/adf473.png\">\n",
    "        <img src=\"https://i.postimg.cc/NMGdRMCM/adf474.png\"></center>\n",
    "\n",
    "Podemos utilizar la ruta subrayada en rojo o podemos utilizar simplemente la ruta **\\Host** para indicar el path de nuestro entorno local\n",
    "\n",
    "<center><img src=\"https://i.postimg.cc/MHvtrLSJ/adf475.png\"></center>\n",
    "\n",
    "Aqui hacemos uso de la protección de Azure Key Vault al momento de verificar credenciales. Haremos uso del Linked Service que recién\n",
    "creamos **LS_Keyvault** y utilizamos nuestro secreto que apunta al password **onprem-password**. Utilizamos el **Self-hosted IR** e\n",
    "indicamos la ruta **\\Host**\n",
    "\n",
    "<center><img src=\"https://i.postimg.cc/4NHB6jPz/adf476.png\"></center>"
   ]
  },
  {
   "attachments": {},
   "cell_type": "markdown",
   "metadata": {},
   "source": [
    "#### Creamos el Linked Service **LS_adls_ingest** que hace referencia a nuestro ADLS\n",
    "\n",
    "Ahora creamos nuestro tercer Linked Service, esta vez será el Linked Service de destino **LS_adls_ingest** que hace referencia a nuestro ADLS\n",
    "\n",
    "<center><img src=\"https://i.postimg.cc/63c7k6hD/adf488.png\"></center>\n",
    "\n",
    "La **URL** podemos obtenerla desde la opción **Endpoints (Puntos de conexión)** desde nuestra cuenta de almacenamiento ADLS. Aqui hacemos uso de la protección de Azure Key Vault al momento de verificar credenciales. Haremos uso del Linked Service que recién\n",
    "creamos **LS_Keyvault** y utilizamos nuestro secreto que apunta a nuestra \"Access key\" **accountkey**.\n",
    "\n",
    "<center><img src=\"https://i.postimg.cc/2jXyhK9F/adf489.png\"></center>\n",
    "\n",
    "Podemos ver los tres Linked Service que hemos creado\n",
    "\n",
    "<center><img src=\"https://i.postimg.cc/DzgyZjbG/adf490.png\"></center>\n"
   ]
  }
 ],
 "metadata": {
  "language_info": {
   "name": "python"
  },
  "orig_nbformat": 4
 },
 "nbformat": 4,
 "nbformat_minor": 2
}
