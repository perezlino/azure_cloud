{
 "cells": [
  {
   "attachments": {},
   "cell_type": "markdown",
   "metadata": {},
   "source": [
    "### Paso 1.1 - Azure Key Vault\n",
    "\n",
    "1. Crear el recurso de Azure Key Vault\n",
    "\n",
    "2. Crear directivas de acceso para Azure Data Factory (Access Policies) en Azure Key Vault\n",
    "\n",
    "3. Crear secretos de usuario y contraseña para utilizarlo en la conexión del Linked Service con nuestro entorno local\n",
    "\n",
    "4. Crear secreto para la Access Key (Account Key) de nuestra cuenta de almacenamiento ADLS"
   ]
  },
  {
   "attachments": {},
   "cell_type": "markdown",
   "metadata": {},
   "source": [
    "#### Crear directivas de acceso para Azure Data Factory (Access Policies) en Azure Key Vault\n",
    "\n",
    "Ingresamos a nuestro recurso de Azure Key Vault\n",
    "\n",
    "<center><img src=\"https://i.postimg.cc/R0Z9h8Df/adf459.png\"></center>\n",
    "\n",
    "Y nos dirijimos a **Access Policies (Directivas de acceso)** y creamos un nuevo acceso, en nuestro caso para\n",
    "Azure Data Factory\n",
    "\n",
    "<center><img src=\"https://i.postimg.cc/xd8DnmX3/adf460.png\"></center>\n",
    "<center><img src=\"https://i.postimg.cc/HsgqjRJx/adf461.png\"></center>\n",
    "\n",
    "Aqui buscamos por el nombre que tiene nuestro recurso de Azure Data Factory\n",
    "\n",
    "<center><img src=\"https://i.postimg.cc/BvLYmB8k/adf462.png\"></center>\n",
    "<center><img src=\"https://i.postimg.cc/jqQ8355x/adf463.png\"></center>\n",
    "<center><img src=\"https://i.postimg.cc/PJ2QXCp1/adf464.png\"></center>"
   ]
  },
  {
   "attachments": {},
   "cell_type": "markdown",
   "metadata": {},
   "source": [
    "#### Crear secretos de usuario y contraseña para utilizarlo en la conexión del Linked Service con nuestro entorno local\n",
    "\n",
    "Luego, nos dirijimos a **Secrets** y creamos dos secretos: **onprem-username** y **onprem-password**.\n",
    "\n",
    "<center><img src=\"https://i.postimg.cc/VLvj9L0H/adf465.png\"></center>\n",
    "<center><img src=\"https://i.postimg.cc/ydrN7B6k/adf466.png\"></center>\n",
    "<center><img src=\"https://i.postimg.cc/tTLYhyK8/adf467.png\"></center>\n",
    "<center><img src=\"https://i.postimg.cc/X7xnW423/adf468.png\"></center>"
   ]
  },
  {
   "attachments": {},
   "cell_type": "markdown",
   "metadata": {},
   "source": [
    "#### Crear secreto para la Access Key (Account Key) de nuestra cuenta de almacenamiento ADLS\n",
    "\n",
    "Desde nuestro ADLS nos dirijimos a **Access Keys** y copiamos la **Key1**\n",
    "\n",
    "<center><img src=\"https://i.postimg.cc/Y9dKcTLX/adf484.png\"></center>\n",
    "\n",
    "Luego, nos dirijimos a **Secrets** y creamos un secreto: **accountkey** para la **Access Key** de nuestra cuenta de almacenamiento ADLS\n",
    "\n",
    "<center><img src=\"https://i.postimg.cc/3RS6fpzV/adf485.png\"></center>\n",
    "<center><img src=\"https://i.postimg.cc/SsvTf4Mp/adf486.png\"></center>\n",
    "<center><img src=\"https://i.postimg.cc/yWqL2TjQ/adf487.png\"></center>"
   ]
  }
 ],
 "metadata": {
  "language_info": {
   "name": "python"
  },
  "orig_nbformat": 4
 },
 "nbformat": 4,
 "nbformat_minor": 2
}
