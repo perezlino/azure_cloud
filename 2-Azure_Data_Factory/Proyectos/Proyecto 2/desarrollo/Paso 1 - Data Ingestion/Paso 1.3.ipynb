{
 "cells": [
  {
   "attachments": {},
   "cell_type": "markdown",
   "metadata": {},
   "source": [
    "### Paso 1.3 - Creación de Datasets de origen y destino\n",
    "\n",
    "1. Crear el Dataset de origen **DS_Onprem_File** que hace referencia al almacenamiento de nuestro local\n",
    "\n",
    "2. Crear el Dataset de destino **DS_adls_ingest** que hace referencia a nuestro ADLS, a la ruta **raw/ingest**. \n",
    "   Siendo **raw** el contenedor e **ingest** el directorio"
   ]
  },
  {
   "attachments": {},
   "cell_type": "markdown",
   "metadata": {},
   "source": [
    "#### Crear el Dataset de origen **DS_Onprem_File** que hace referencia al almacenamiento de nuestro local\n",
    "\n",
    "Creamos el Dataset de origen **DS_Onprem_File** que hará referencia hacia la ruta de nuestro entorno local:\n",
    "\n",
    "<center><img src=\"https://i.postimg.cc/3xVBd1mt/adf477.png\"></center>\n",
    "<center><img src=\"https://i.postimg.cc/sDBGvrmR/adf478.png\"></center>\n",
    "<center><img src=\"https://i.postimg.cc/FH3fVVwW/adf479.png\"></center>\n",
    "\n",
    "Solo dejamos el directorio **\\Host** que se muestra por defecto \n",
    "\n",
    "<center><img src=\"https://i.postimg.cc/V6G5kGb6/adf480.png\"></center>\n",
    "\n",
    "Aquí podemos ver que nuestra data se encuentra en el directorio **Host** en nuestro computador\n",
    "\n",
    "<center><img src=\"https://i.postimg.cc/L5GXzJDF/adf481.png\"></center>\n",
    "\n",
    "Podemos previsualizar los datos\n",
    "\n",
    "<center><img src=\"https://i.postimg.cc/GmdBzyrb/adf482.png\"></center>\n",
    "<center><img src=\"https://i.postimg.cc/hjkvmJpW/adf483.png\"></center>"
   ]
  },
  {
   "attachments": {},
   "cell_type": "markdown",
   "metadata": {},
   "source": [
    "#### Crear el Dataset de destino **DS_adls_ingest** que hace referencia a nuestro ADLS\n",
    "\n",
    "Creamos el Dataset de origen **DS_adls_ingest** que hará referencia hacia nuestro ADLS:\n",
    "\n",
    "<center><img src=\"https://i.postimg.cc/L5sV7bj3/adf491.png\"></center>\n",
    "<center><img src=\"https://i.postimg.cc/vmdtMBWB/adf492.png\"></center>\n",
    "\n",
    "La ruta especifica es **raw/ingest**. Siendo **raw** el contenedor e **ingest** el directorio\n",
    "\n",
    "<center><img src=\"https://i.postimg.cc/gjrv46PM/adf493.png\"></center>\n",
    "<center><img src=\"https://i.postimg.cc/FsMjgRCZ/adf494.png\"></center>"
   ]
  }
 ],
 "metadata": {
  "language_info": {
   "name": "python"
  },
  "orig_nbformat": 4
 },
 "nbformat": 4,
 "nbformat_minor": 2
}
