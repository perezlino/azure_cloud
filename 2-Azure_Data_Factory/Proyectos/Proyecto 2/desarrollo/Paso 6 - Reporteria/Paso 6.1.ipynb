{
 "cells": [
  {
   "attachments": {},
   "cell_type": "markdown",
   "metadata": {},
   "source": [
    "### **Paso 6.1 - Crear un reporte en Power BI**"
   ]
  },
  {
   "attachments": {},
   "cell_type": "markdown",
   "metadata": {},
   "source": [
    "#### Generamos un reporte en Power BI con los datos que tenemos en Azure SQL Database\n",
    "\n",
    "<center><img src=\"https://i.postimg.cc/7PKvq1P6/adf614.png\"></center>  \n",
    "<center><img src=\"https://i.postimg.cc/76XRYDkc/adf615.png\"></center>  \n",
    "<center><img src=\"https://i.postimg.cc/9Q3L2z90/adf616.png\"></center>  \n",
    "<center><img src=\"https://i.postimg.cc/zBPkcf5J/adf617.png\"></center> \n",
    "<center><img src=\"https://i.postimg.cc/BZLyfrzh/adf618.png\"></center>  \n",
    "<center><img src=\"https://i.postimg.cc/m23mbByS/adf619.png\"></center> "
   ]
  }
 ],
 "metadata": {
  "language_info": {
   "name": "python"
  },
  "orig_nbformat": 4
 },
 "nbformat": 4,
 "nbformat_minor": 2
}
