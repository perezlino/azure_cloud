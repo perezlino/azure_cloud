{
 "cells": [
  {
   "attachments": {},
   "cell_type": "markdown",
   "metadata": {},
   "source": [
    "### **Paso 3.1 - Acceder a Azure SQL Database desde SSMS**"
   ]
  },
  {
   "attachments": {},
   "cell_type": "markdown",
   "metadata": {},
   "source": [
    "\n",
    "Desde aqui podemos obtener el **Server name** y si clickeamos sobre él obtenemos nuestro **Server name** que es nuestro **Login o user**. La password es la que ingresamos al momento de crear nuestro recurso de Azure SQL Database.\n",
    "\n",
    "<center><img src=\"https://i.postimg.cc/gk7MJMZg/adf543.png\"></center>\n",
    "<center><img src=\"https://i.postimg.cc/Pr04hPgc/adf544.png\"></center>\n",
    "<center><img src=\"https://i.postimg.cc/RCD1QWZF/adf545.png\"></center>\n",
    "\n",
    "Ingresar las credenciales que utilizamos para ingresar a Azure Portal\n",
    "\n",
    "<center><img src=\"https://i.postimg.cc/KzVf0fy9/adf546.png\"></center>\n",
    "<center><img src=\"https://i.postimg.cc/N0RQsJdX/adf547.png\"></center>\n",
    "\n",
    "Importante es agregar neustra IP en la opción de Firewall de Azure SQL Server\n",
    "\n",
    "<center><img src=\"https://i.postimg.cc/qBDHTHpY/adf548.png\"></center>\n",
    "\n",
    "<center><img src=\"https://i.postimg.cc/qB1fVdjC/adf570.png\"></center>\n"
   ]
  }
 ],
 "metadata": {
  "language_info": {
   "name": "python"
  },
  "orig_nbformat": 4
 },
 "nbformat": 4,
 "nbformat_minor": 2
}
