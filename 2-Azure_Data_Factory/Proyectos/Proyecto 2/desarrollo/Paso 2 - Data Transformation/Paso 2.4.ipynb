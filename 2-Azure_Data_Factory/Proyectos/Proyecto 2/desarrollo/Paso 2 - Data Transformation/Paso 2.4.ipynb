{
 "cells": [
  {
   "attachments": {},
   "cell_type": "markdown",
   "metadata": {},
   "source": [
    "### **Paso 2.4 - Escribir datos transformados en Datalake**\n",
    "\n",
    "1. Escribir los datos transformados en nuestro ADLS"
   ]
  },
  {
   "attachments": {},
   "cell_type": "markdown",
   "metadata": {},
   "source": [
    "#### Escribir los datos transformados en nuestro ADLS\n",
    "\n"
   ]
  },
  {
   "cell_type": "code",
   "execution_count": null,
   "metadata": {},
   "outputs": [],
   "source": [
    "%%pyspark\n",
    "destaccountName = \"ottadls011\"\n",
    "destcontainer = \"refined\"\n",
    "destinationFolder = \"data/\""
   ]
  },
  {
   "cell_type": "code",
   "execution_count": null,
   "metadata": {},
   "outputs": [],
   "source": [
    "%%pyspark\n",
    "destpath = f'abfss://{destcontainer}@{destaccountName}.dfs.core.windows.net/{destinationFolder}'\n",
    "\n",
    "print(destpath) # abfss://refined@ottadls011.dfs.core.windows.net/data/"
   ]
  },
  {
   "cell_type": "code",
   "execution_count": null,
   "metadata": {},
   "outputs": [],
   "source": [
    "%%pyspark\n",
    "df.write \\\n",
    "    .mode(\"overwrite\") \\\n",
    "    .format(\"parquet\") \\\n",
    "    .option(\"header\",True) \\        \n",
    "    .option(\"inferSchema\",True) \\\n",
    "    .save(destpath)"
   ]
  },
  {
   "attachments": {},
   "cell_type": "markdown",
   "metadata": {},
   "source": [
    "Verificamos que se ha guardado un archivo **parquet** en la ruta **refined/data**\n",
    "\n",
    "<center><img src=\"https://i.postimg.cc/NMWQWnvS/adf531.png\"></center>"
   ]
  }
 ],
 "metadata": {
  "language_info": {
   "name": "python"
  },
  "orig_nbformat": 4
 },
 "nbformat": 4,
 "nbformat_minor": 2
}
