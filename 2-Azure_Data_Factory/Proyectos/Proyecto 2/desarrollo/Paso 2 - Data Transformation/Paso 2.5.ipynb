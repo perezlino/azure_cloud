{
 "cells": [
  {
   "attachments": {},
   "cell_type": "markdown",
   "metadata": {},
   "source": [
    "### **Paso 2.5 - Llamar al Synapse notebook desde Azure Data Factory**\n",
    "\n",
    "1. Ambos **Managed Identity** de **ADF** y **User** deben tener acceso **Synapse Administrator** en **Synapse Analytics**\n",
    "\n",
    "2. Crear un Linked Service que haga referencia a nuestro workspace de Azure Synapse     \n",
    "\n",
    "3. Uso de la actividad **Notebook** en Azure Data Factory (ADF)  \n"
   ]
  },
  {
   "attachments": {},
   "cell_type": "markdown",
   "metadata": {},
   "source": [
    "#### Crear acceso **Synapse Administrator** en **Synapse Analytics** para ambos **Managed Identity:** **ADF** y **User**\n",
    "\n",
    "<center><img src=\"https://i.postimg.cc/wTXzcpTt/adf533.png\"></center>\n",
    "<center><img src=\"https://i.postimg.cc/br17Tx8X/adf534.png\"></center>\n",
    "<center><img src=\"https://i.postimg.cc/6qVPRBLt/adf535.png\"></center>"
   ]
  },
  {
   "attachments": {},
   "cell_type": "markdown",
   "metadata": {},
   "source": [
    "#### Crear un Linked Service que haga referencia a nuestro workspace de Azure Synapse \n",
    "\n",
    "Diagrama de nuestro Linked Service\n",
    "\n",
    "<center><img src=\"https://i.postimg.cc/nr5rH199/adf532.png\"></center>\n",
    "\n",
    "Comenzamos creando nuestro Linked Service en ADF\n",
    "\n",
    "<center><img src=\"https://i.postimg.cc/HknSWwKp/adf536.png\"></center>\n",
    "<center><img src=\"https://i.postimg.cc/W3NqjnW8/adf537.png\"></center>\n",
    "<center><img src=\"https://i.postimg.cc/MGxvb5Sw/adf538.png\"></center>"
   ]
  },
  {
   "attachments": {},
   "cell_type": "markdown",
   "metadata": {},
   "source": [
    "#### Uso de la actividad **Notebook** en Azure Data Factory (ADF)  \n",
    "\n",
    "<center><img src=\"https://i.postimg.cc/43BNvTPv/adf539.png\"></center>\n",
    "<center><img src=\"https://i.postimg.cc/NFrsw2cb/adf540.png\"></center>\n",
    "\n",
    "**Validamos** y ejecutamos nuestro pipeline utilizando **Debug**\n",
    "\n",
    "<center><img src=\"https://i.postimg.cc/43NhRPF5/adf541.png\"></center>\n",
    "\n",
    "Dado que anteriormente ya habiamos ejecutado nuestro notebook desde Azure Synapse, los archivos ya existian en la ruta. Sin embargo, dado que al momento de escribir la transformación en un archivo parquet se indicó la opción **overwrite** cuando ejecutemos el pipeline desde ADF se sobreescribirá.\n",
    "\n",
    "<center><img src=\"https://i.postimg.cc/Pxns8Vsb/adf542.png\"></center>"
   ]
  }
 ],
 "metadata": {
  "language_info": {
   "name": "python"
  },
  "orig_nbformat": 4
 },
 "nbformat": 4,
 "nbformat_minor": 2
}
