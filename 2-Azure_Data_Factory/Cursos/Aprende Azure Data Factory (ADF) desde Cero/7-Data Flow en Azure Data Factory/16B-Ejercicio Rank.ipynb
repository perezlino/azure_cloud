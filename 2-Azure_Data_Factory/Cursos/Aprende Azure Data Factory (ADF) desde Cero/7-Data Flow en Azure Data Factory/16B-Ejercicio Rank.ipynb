{
 "cells": [
  {
   "attachments": {},
   "cell_type": "markdown",
   "metadata": {},
   "source": [
    "### Ejercicio - Rank"
   ]
  },
  {
   "cell_type": "code",
   "execution_count": null,
   "metadata": {
    "vscode": {
     "languageId": "sql"
    }
   },
   "outputs": [],
   "source": [
    "Del ejercicio del capítulo anterior (15B-Ejercicio Window), se requiere que se agregue una columna llamada \"Ranking\" el cual va \n",
    "a realizar un ranking en base a la columna \"Total\".\n",
    "\n",
    "Finalmente generar un archivo delimitado por comas (CSV) de salida."
   ]
  },
  {
   "cell_type": "code",
   "execution_count": null,
   "metadata": {
    "vscode": {
     "languageId": "sql"
    }
   },
   "outputs": [],
   "source": [
    "                                                                  Tarea que agregamos          \n",
    "                                                                           |\n",
    "                                                                           |\n",
    "                                                                           ˅          \n",
    "          SOURCE                           WINDOW                        RANK                          SINK                       \n",
    " _________________________          ___________________          ___________________          _______________________\n",
    "|                         |        |                   |        |                   |        |                       |                    \n",
    "| sourceProductoCategoria |--------|       Window      |--------|        Rank       |--------| sinkProductoCategoria |\n",
    "|_________________________| +      |___________________| +      |___________________| +      |_______________________| \n"
   ]
  },
  {
   "attachments": {},
   "cell_type": "markdown",
   "metadata": {
    "vscode": {
     "languageId": "sql"
    }
   },
   "source": [
    "##### sourceProductoCategoria\n",
    "\n",
    "- Utilizamos \"Inline Dataset\" (obtenemos el mismo resultado que utilizando \"Dataset\", no se cual es la real diferencia)\n",
    "- Inline Dataset Type: escogemos el tipo de origen\n",
    "- Linked service: escogemos el Linked Service de origen, y este apunta hacia Azure SQL Database, a una base de datos especifica\n",
    "- Debug mode: al activarlo nos permitirá acceder a las opciones de Projection y Data preview. También nos permitirá visualizar\n",
    "              las tablas en Source options\n",
    "\n",
    "<center><img src=\"https://i.postimg.cc/jdmJkjpN/adf139.png\"></center>\n",
    "\n",
    "- Pegamos la Query\n",
    "\n",
    "<center><img src=\"https://i.postimg.cc/qvQgHMYj/adf140.png\"></center>\n",
    "\n",
    "- Importamos el schema\n",
    "\n",
    "<center><img src=\"https://i.postimg.cc/yYy808Vs/adf141.png\"></center>\n",
    "\n",
    "\n",
    "##### Window\n",
    "\n",
    "- La función \"toDecimal\" nos devuelve solo 2 números decimales\n",
    "\n",
    "<center><img src=\"https://i.postimg.cc/K4S3jqrf/adf142.png\"></center>\n",
    "<center><img src=\"https://i.postimg.cc/Y0wmqDx3/adf143.png\"></center>\n",
    "<center><img src=\"https://i.postimg.cc/mgr1DH70/adf144.png\"></center>\n",
    "<center><img src=\"https://i.postimg.cc/pTsgP3xN/adf145.png\"></center>\n",
    "\n",
    "\n",
    "##### Rank\n",
    "\n",
    "- Case insensitive: No se distingue mayúsculas de minúsculas\n",
    "- Dense: al marcar esta casilla se hace referencia a la función \"DENSE_RANK\". Si no la marcamos se hace referencia\n",
    "         a la función \"RANK\"\n",
    "\n",
    "<center><img src=\"https://i.postimg.cc/zXR8kwTC/adf150.png\"></center>\n",
    "\n",
    "\n",
    "##### sinkProductoCategoria\n",
    "\n",
    "- Utilizamos \"Inline Dataset\" (obtenemos el mismo resultado que utilizando \"Dataset\", no se cual es la real diferencia)\n",
    "- Inline Dataset Type: escogemos el tipo de archivo de salida\n",
    "- Linked service: escogemos el Linked Service de destino, y este apunta hacia Azure Blob Storage, a una ruta especifica\n",
    "- Debug mode: al activarlo nos permitirá acceder a las opciones de Mapping y Data preview.\n",
    "\n",
    "<center><img src=\"https://i.postimg.cc/fyXpYyms/adf146.png\"></center>\n",
    "\n",
    "- El directorio \"15.Rank\" se creará de manera automática dentro del contenedor \"dataflowdataset\"\n",
    "\n",
    "<center><img src=\"https://i.postimg.cc/zBtHTwTm/adf151.png\"></center>\n",
    "\n",
    "- No particionamos el archivo y se creará un único archivo llamado \"ProductoCategoria.csv\". Debemos pulsar sobre\n",
    "  el botón de \"Set single partition\" que aparecerá\n",
    "\n",
    "<center><img src=\"https://i.postimg.cc/W37Jz6fc/adf148.png\"></center>\n",
    "\n",
    "\n",
    "##### Ejecución del Pipeline y resultados\n",
    "\n",
    "- Despues de haber finalizado nuestro Data Flow, lo ejecutaremos dentro de una actividad \"Data Flow\" desde un Pipeline\n",
    "- Podemos ver que se ha creado el archivo\n",
    "\n",
    "<center><img src=\"https://i.postimg.cc/5t9wv2DC/adf152.png\"></center> "
   ]
  }
 ],
 "metadata": {
  "language_info": {
   "name": "python"
  },
  "orig_nbformat": 4
 },
 "nbformat": 4,
 "nbformat_minor": 2
}
