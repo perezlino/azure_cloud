{
 "cells": [
  {
   "attachments": {},
   "cell_type": "markdown",
   "metadata": {},
   "source": [
    "### Ejercicio - Pivot"
   ]
  },
  {
   "cell_type": "code",
   "execution_count": null,
   "metadata": {
    "vscode": {
     "languageId": "sql"
    }
   },
   "outputs": [],
   "source": [
    "Se tiene un archivo de Excel llamado “DataExportacionEstructurado.xlsx” y se requiere que mediante la transformación \"Pivot\"\n",
    "darle otra estructura a la data."
   ]
  },
  {
   "cell_type": "code",
   "execution_count": null,
   "metadata": {
    "vscode": {
     "languageId": "sql"
    }
   },
   "outputs": [],
   "source": [
    "          SOURCE                           PIVOT                            SINK                       \n",
    " _________________________          ___________________          __________________________                      \n",
    "|                         |        |                   |        |                          |                    \n",
    "|  sourceDataExportacion  |--------|       Pivot       |--------| sinkDataExportacionPivot |\n",
    "|_________________________| +      |___________________| +      |__________________________| \n",
    "\n",
    "\n",
    "Esto es lo que realizamos con la tarea PIVOT:\n",
    "\n",
    "1.- Agrupamos columnas \n",
    " ___________________________________________________________\n",
    "|Empresas    Frutas    Cliente             Cantidad    Año  |  Pais    Precio(Kg)\n",
    "|America     uva       J&T Exportadores    1859        2017 |  USA     2                   \n",
    "|America     uva       J&T Exportadores    1859        2017 |  China   3  \n",
    "|America     uva       J&T Exportadores    1859        2017 |  Chile   1  \n",
    "|America     uva       J&T Exportadores    1859        2017 |  España  3  \n",
    "|America     uva       J&T Exportadores    1859        2017 |  Canada  4  \n",
    "|___________________________________________________________|\n",
    "\n",
    "2.- Elegimos una columna PIVOT KEY: Pais\n",
    "\n",
    "3.- Elegimos la(s) columna PIVOTEADA: Precio(Kg)\n",
    " ______________________________________________________________________________________________________________________________________________________________\n",
    "|Empresas    Frutas    Cliente             Cantidad    Año    VENTAS_Canada(KG)    VENTAS_China(KG)    VENTAS_Chile(KG)    VENTAS_España(KG)    VENTAS_USA(KG) |     \n",
    "|America     uva       J&T Exportadores    1859        2017   4                    3                   1                   3                    2              | \n",
    "|______________________________________________________________________________________________________________________________________________________________|\n",
    "\n"
   ]
  },
  {
   "attachments": {},
   "cell_type": "markdown",
   "metadata": {},
   "source": [
    "##### sourceDataExportacion\n",
    "\n",
    "- Utilizamos \"Inline Dataset\" (obtenemos el mismo resultado que utilizando \"Dataset\", no se cual es la real diferencia)\n",
    "- Inline Dataset Type: escogemos el tipo de origen\n",
    "- Linked service: escogemos el Linked Service de origen, y este apunta hacia Azure Blob Storage, a una ruta especifica\n",
    "- Debug mode: al activarlo nos permitirá acceder a las opciones de Projection y Data preview. \n",
    "\n",
    "<center><img src=\"https://i.postimg.cc/VvZBr5Ms/adf105.png\"></center>\n",
    "\n",
    "- Si se selecciona un archivo Excel como origen, debemos indicar el nombre de Hoja de ese libro Excel\n",
    "\n",
    "<center><img src=\"https://i.postimg.cc/sXDhYs3M/adf106.png\"></center>\n",
    "\n",
    "<center><img src=\"https://i.postimg.cc/mkK1W9C9/adf107.png\"></center>\n",
    "\n",
    "- Importamos el schema\n",
    "\n",
    "<center><img src=\"https://i.postimg.cc/ZRRW9HL3/adf108.png\"></center>\n",
    "\n",
    "\n",
    "##### Pivot\n",
    "\n",
    "<center><img src=\"https://i.postimg.cc/RFyw42zq/adf109.png\"></center>\n",
    "<center><img src=\"https://i.postimg.cc/R00tfvSN/adf110.png\"></center>\n",
    "<center><img src=\"https://i.postimg.cc/Y08k1BqC/adf111.png\"></center>\n",
    "<center><img src=\"https://i.postimg.cc/gJNBszRQ/adf112.png\"></center>\n",
    "\n",
    "- Realizamos una vista de previa de como van quedando nuestros datos\n",
    "\n",
    "<center><img src=\"https://i.postimg.cc/6qFcbyQj/adf113.png\"></center>\n",
    "<center><img src=\"https://i.postimg.cc/fRcC5WQC/adf114.png\"></center>\n",
    "\n",
    "\n",
    "##### sinkDataExportacionPivot\n",
    "\n",
    "- Utilizamos \"Inline Dataset\" (obtenemos el mismo resultado que utilizando \"Dataset\", no se cual es la real diferencia)\n",
    "- Inline Dataset Type: escogemos el tipo de archivo de salida\n",
    "- Linked service: escogemos el Linked Service de destino, y este apunta hacia Azure Blob Storage, a una ruta especifica\n",
    "- Debug mode: al activarlo nos permitirá acceder a las opciones de Mapping y Data preview.\n",
    "\n",
    "<center><img src=\"https://i.postimg.cc/3NZSNKrn/adf115.png\"></center>\n",
    "\n",
    "- El directorio \"12.Pivot\" se creará de manera automática dentro del contenedor \"dataflowdataset\"\n",
    "\n",
    "<center><img src=\"https://i.postimg.cc/Zqyw3PK9/adf116.png\"></center>\n",
    "\n",
    "- No particionamos el archivo y se creará un único archivo llamado \"DataExportacionPivot.csv\". Debemos pulsar sobre\n",
    "  el botón de \"Set single partition\" que aparecerá\n",
    "\n",
    "<center><img src=\"https://i.postimg.cc/85YWb9KN/adf117.png\"></center>\n",
    "\n",
    "\n",
    "##### Ejecución del Pipeline y resultados\n",
    "\n",
    "- Despues de haber finalizado nuestro Data Flow, lo ejecutaremos dentro de una actividad \"Data Flow\" desde un Pipeline\n",
    "- Podemos ver que se ha creado el archivo\n",
    "\n",
    "<center><img src=\"https://i.postimg.cc/V62gNJcq/adf118.png\"></center>  \n",
    "\n"
   ]
  }
 ],
 "metadata": {
  "language_info": {
   "name": "python"
  },
  "orig_nbformat": 4
 },
 "nbformat": 4,
 "nbformat_minor": 2
}
