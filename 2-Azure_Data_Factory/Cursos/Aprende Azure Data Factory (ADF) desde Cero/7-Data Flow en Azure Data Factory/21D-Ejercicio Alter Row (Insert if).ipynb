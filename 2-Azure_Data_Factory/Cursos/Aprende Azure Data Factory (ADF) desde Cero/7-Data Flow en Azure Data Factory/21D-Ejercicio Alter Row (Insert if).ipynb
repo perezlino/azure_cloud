{
 "cells": [
  {
   "attachments": {},
   "cell_type": "markdown",
   "metadata": {},
   "source": [
    "### Ejercicio - Alter Row (Insert if)"
   ]
  },
  {
   "cell_type": "code",
   "execution_count": null,
   "metadata": {
    "vscode": {
     "languageId": "sql"
    }
   },
   "outputs": [],
   "source": [
    "Del ejercicio anterior, se quiere que se realicen algunas inserciones de registros mediante la transformación \"AlterRow\".\n",
    "\n",
    "Se tiene un archivo de Excel y se requiere que se carguen solo los registros donde el \"AÑO\" de la \"FECHA DE CONTRATACION\" \n",
    "sea \"2007\"."
   ]
  },
  {
   "cell_type": "code",
   "execution_count": null,
   "metadata": {
    "vscode": {
     "languageId": "sql"
    }
   },
   "outputs": [],
   "source": [
    "          SOURCE                     ALTER ROW                     SINK                \n",
    " ______________________          __________________          __________________             \n",
    "|                      |        |                  |        |                  |      \n",
    "|  SourceEmpleadoNuevo |--------|     AlterRow     |--------|   sinkEmpleado   |\n",
    "|______________________| +      |__________________| +      |__________________|"
   ]
  },
  {
   "attachments": {},
   "cell_type": "markdown",
   "metadata": {},
   "source": [
    "##### sourceEmpleadoNuevo\n",
    "\n",
    "- Utilizamos \"Inline Dataset\" (obtenemos el mismo resultado que utilizando \"Dataset\", no se cual es la real diferencia)\n",
    "- Inline Dataset Type: escogemos el tipo de origen\n",
    "- Linked service: escogemos el Linked Service de origen, y este apunta hacia Azure Blob Storage, a una ruta especifica\n",
    "- Debug mode: al activarlo nos permitirá acceder a las opciones de Projection y Data preview. \n",
    "\n",
    "<center><img src=\"https://i.postimg.cc/1zTfVJDL/adf210.png\"></center>\n",
    "\n",
    "- Si se selecciona un archivo Excel como origen, debemos indicar el nombre de Hoja de ese libro Excel\n",
    "\n",
    "<center><img src=\"https://i.postimg.cc/NM9bRJST/adf211.png\"></center>\n",
    "<center><img src=\"https://i.postimg.cc/HWMBxNQ1/adf212.png\"></center>\n",
    "\n",
    "- Importamos el schema\n",
    "- No fue necesario dar un formato a los campos con tipo \"date\"\n",
    "\n",
    "<center><img src=\"https://i.postimg.cc/qMh0z41M/adf213.png\"></center>\n",
    "\n",
    "\n",
    "##### AlterRow\n",
    "\n",
    "- Condition: Insert if -> year(FechaContratacion)==2007\n",
    "             Delete if -> true()\n",
    "- \"Delete if\" lo utilizamos para eliminar todos los registros que no cumplan la condición de \"Insert if\"           \n",
    "\n",
    "<center><img src=\"https://i.postimg.cc/g0wBK26n/adf214.png\"></center>\n",
    "\n",
    "\n",
    "##### sinkEmpleado\n",
    "\n",
    "- Utilizamos \"Inline Dataset\" (obtenemos el mismo resultado que utilizando \"Dataset\", no se cual es la real diferencia)\n",
    "- Inline Dataset Type: escogemos el tipo de salida\n",
    "- Linked service: escogemos el Linked Service de destino, y este apunta hacia Azure SQL Database, a una base de datos especifica\n",
    "- Debug mode: al activarlo nos permitirá acceder a las opciones de Mapping y Data preview. Además permitirá cargar los schemas\n",
    "              y tablas de la base de datos.\n",
    "\n",
    "<center><img src=\"https://i.postimg.cc/7ZTpmjwX/adf200.png\"></center>\n",
    "\n",
    "- Se cargará en la tabla que creamos 'Empleado'\n",
    "\n",
    "<center><img src=\"https://i.postimg.cc/m2gxHRVF/adf215.png\"></center>\n",
    "\n",
    "\n",
    "##### Ejecución del Pipeline y resultados\n",
    "\n",
    "- Despues de haber finalizado nuestro Data Flow, lo ejecutaremos dentro de una actividad \"Data Flow\" desde un Pipeline\n",
    "- Podemos ver que se ha cargado en la tabla\n",
    "\n",
    "<center><img src=\"https://i.postimg.cc/76BtNrtB/adf209.png\"></center> \n",
    "<center><img src=\"https://i.postimg.cc/zB7tzbs2/adf216.png\"></center> \n",
    "<center><img src=\"https://i.postimg.cc/WbhWV4XS/adf217.png\"></center> "
   ]
  }
 ],
 "metadata": {
  "language_info": {
   "name": "python"
  },
  "orig_nbformat": 4
 },
 "nbformat": 4,
 "nbformat_minor": 2
}
