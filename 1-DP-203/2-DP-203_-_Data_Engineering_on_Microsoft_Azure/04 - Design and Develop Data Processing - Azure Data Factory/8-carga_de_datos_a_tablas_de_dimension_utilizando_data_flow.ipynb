{
 "cells": [
  {
   "attachments": {},
   "cell_type": "markdown",
   "metadata": {},
   "source": [
    "### Carga de datos a tablas de dimension utilizando Data Flow"
   ]
  },
  {
   "cell_type": "code",
   "execution_count": null,
   "metadata": {
    "vscode": {
     "languageId": "sql"
    }
   },
   "outputs": [],
   "source": [
    "En el punto 7 explicamos como realizar la carga (el movimiento) de datos en la tabla de hechos \"SalesFact\".\n",
    "Ahora utilizaremos también DATAFLOWS para realizar el movimiento de datos hacia dos tablas de dimensión,\n",
    "las tablas \"DimProduct\" y \"DimCustomer\".\n",
    "\n",
    "En un mismo DATAFLOW realizamos el movimiento de datos para ambas tablas."
   ]
  },
  {
   "cell_type": "code",
   "execution_count": null,
   "metadata": {
    "vscode": {
     "languageId": "sql"
    }
   },
   "outputs": [],
   "source": [
    "Para el primer movimiento se busca realizar la siguiente Query, con el fin de mover datos a la tabla \"DimCustomer\":\n",
    "\n",
    "  SELECT \n",
    "    ct.[CustomerID],\n",
    "    ct.[StoreID],\n",
    "    st.[BusinessEntityID],\n",
    "    st.[Name] as StoreName\n",
    "  FROM \n",
    "    [Sales].[Customer] as ct\n",
    "  LEFT JOIN \n",
    "    [Sales].[Store] as st \n",
    "  ON \n",
    "    ct.[StoreID] = st.[BusinessEntityID]\n",
    "  WHERE  \n",
    "    st.[BusinessEntityID] IS NOT NULL\n",
    "\n",
    "Esta es la tabla \"DimCustomer\" donde se moveran los datos:\n",
    "\n",
    "CREATE TABLE [dbo].[DimCustomer](\n",
    "\t[CustomerID] [int] NOT NULL,\n",
    "\t[StoreID] [int] NOT NULL,\n",
    "\t[BusinessEntityID] [int] NOT NULL,\n",
    "\t[StoreName] varchar(50) NOT NULL\n",
    ")    \n",
    "\n",
    "                                  JOIN                      SELECT                 ALTER ROW                   SINK\n",
    " ________________          ___________________          _______________          _______________          _______________\n",
    "|                |        |                   |        |               |        |               |        |               |   \n",
    "| CustomerStream |--------| CustomerJOINStore |--------| SelectColumns |--------|  RemoveNULLs  |--------|  DimCustomer  |\n",
    "|________________|        |___________________|        |_______________|        |_______________|        |_______________|     \n",
    " ________________              | \n",
    "|                |             | \n",
    "|  StoreStream   |-------------'\n",
    "|________________|"
   ]
  },
  {
   "attachments": {},
   "cell_type": "markdown",
   "metadata": {},
   "source": [
    "Esto realizamos en la opción de ALTER ROW\n",
    "\n",
    "<center><img src=\"https://i.postimg.cc/MpfMTgFJ/adf1.png\"></center>"
   ]
  },
  {
   "cell_type": "code",
   "execution_count": null,
   "metadata": {
    "vscode": {
     "languageId": "sql"
    }
   },
   "outputs": [],
   "source": [
    "Para el segundo movimiento se busca realizar la siguiente Query, con el fin de mover datos a la tabla \"DimProduct\":\n",
    "\n",
    "SELECT \n",
    "    prod.[ProductID],\n",
    "    prod.[Name] as ProductName,\n",
    "    prod.[SafetyStockLevel],\n",
    "    model.[ProductModelID],\n",
    "    model.[Name] as ProductModelName,\n",
    "    category.[ProductSubcategoryID],\n",
    "    category.[Name] AS ProductSubCategoryName\n",
    "FROM \n",
    "    [Production].[Product] prod\n",
    "LEFT JOIN \n",
    "    [Production].[ProductModel] model \n",
    "ON \n",
    "    prod.[ProductModelID] = model.[ProductModelID]\n",
    "LEFT JOIN \n",
    "    [Production].[ProductSubcategory] category \n",
    "ON \n",
    "    prod.[ProductSubcategoryID] = category.[ProductSubcategoryID]\n",
    "WHERE \n",
    "    prod.[ProductModelID] IS NOT NULL\n",
    "\n",
    "\n",
    "Esta es la tabla \"DimProduct\" donde se moveran los datos:\n",
    "\n",
    "CREATE TABLE [dbo].[DimProduct](\n",
    "\t[ProductSK] [int] IDENTITY(1,1) NOT NULL,    -- Se agegó este campo\n",
    "\t[ProductID] [int] NOT NULL,\n",
    "\t[ProductModelID] [int] NOT NULL,\n",
    "\t[ProductSubcategoryID] [int] NOT NULL,\n",
    "\t[ProductName] varchar(50) NOT NULL,\n",
    "\t[SafetyStockLevel] [smallint] NOT NULL,\n",
    "\t[ProductModelName] varchar(50) NULL,\n",
    "\t[ProductSubCategoryName] varchar(50) NULL\n",
    ")\n",
    "\n",
    "                                  JOIN                      SELECT                 ALTER ROW                   SINK\n",
    " ________________          ___________________          _______________          _______________          _______________\n",
    "|                |        |                   |        |               |        |               |        |               |   \n",
    "| CustomerStream |--------| CustomerJOINStore |--------| SelectColumns |--------|  RemoveNULLs  |--------|  DimCustomer  |\n",
    "|________________|        |___________________|        |_______________|        |_______________|        |_______________|     \n",
    " ________________              | \n",
    "|                |             | \n",
    "|  StoreStream   |-------------'\n",
    "|________________|\n",
    "\n",
    "                                      JOIN                              JOIN                            SELECT                        ALTER ROW                 SURROGATE KEY               SINK\n",
    " ________________          _________________________          ________________________          ______________________          _____________________          _______________          ______________\n",
    "|                |        |                         |        |                        |        |                      |        |                     |        |               |        |              |     \n",
    "| ProductStream  |--------| ProductJOINProductModel |--------| ProductJOINSubcategory |--------| SelectColumnsProduct |--------| RemoveNULLsProduct  |--------|  SurrogateKey |--------|  DimProduct  |\n",
    "|________________|        |_________________________|        |________________________|        |______________________|        |_____________________|        |_______________|        |______________|      \n",
    " ____________________              |                                |    \n",
    "|                    |             |                                |\n",
    "| ProductModelStream |-------------'                                |\n",
    "|____________________|                                              |\n",
    " __________________________                                         | \n",
    "|                          |                                        | \n",
    "| ProductSubCategoryStream |----------------------------------------'\n",
    "|__________________________|\n"
   ]
  },
  {
   "attachments": {},
   "cell_type": "markdown",
   "metadata": {},
   "source": [
    "Esto realizamos en la opción de ALTER ROW\n",
    "\n",
    "<center><img src=\"https://i.postimg.cc/rF6cLmrT/adf2.png\"></center>\n",
    "\n",
    "Esto realizamos en la opción de SURROGATE KEY\n",
    "\n",
    "<center><img src=\"https://i.postimg.cc/d0G8hV9G/adf3.png\"></center>\n",
    "\n",
    "Además, debemos agregar esta nueva columna desde la última opción \"DimProduct\" en la pestaña MAPPING\n",
    "\n",
    "<center><img src=\"https://i.postimg.cc/ZnJkGnwH/adf4.png\"></center>"
   ]
  },
  {
   "cell_type": "code",
   "execution_count": null,
   "metadata": {
    "vscode": {
     "languageId": "sql"
    }
   },
   "outputs": [],
   "source": [
    "Tenemos los valores para ProductSK. Ahora necesitamos el siguiente conjunto de filas se añadan a la tabla \n",
    "de dimensión. Queremos asegurarnos de que el ProductSK empiece desde donde quedó. No debe comenzar desde \n",
    "el valor de 1 otra vez. Así que lo primero que podemos hacer es obtener el valor máximo actual en la columna \n",
    "ProductSK y luego almacenarlo en la caché y luego podemos hacer referencia a ese valor utilizando la función \n",
    "de cache lookup (búsqueda de caché).\n",
    "    \n",
    "    \n",
    "                                  JOIN                      SELECT                 ALTER ROW                   SINK\n",
    " ________________          ___________________          _______________          _______________          _______________\n",
    "|                |        |                   |        |               |        |               |        |               |   \n",
    "| CustomerStream |--------| CustomerJOINStore |--------| SelectColumns |--------|  RemoveNULLs  |--------|  DimCustomer  |\n",
    "|________________|        |___________________|        |_______________|        |_______________|        |_______________|     \n",
    " ________________              | \n",
    "|                |             | \n",
    "|  StoreStream   |-------------'\n",
    "|________________|\n",
    "\n",
    "                                      JOIN                              JOIN                            SELECT                        ALTER ROW                 SURROGATE KEY             DERIVED COLUMN                 SINK\n",
    " ________________          _________________________          ________________________          ______________________          _____________________          _______________          __________________          ______________\n",
    "|                |        |                         |        |                        |        |                      |        |                     |        |               |        |                  |        |              |      \n",
    "| ProductStream  |--------| ProductJOINProductModel |--------| ProductJOINSubcategory |--------| SelectColumnsProduct |--------| RemoveNULLsProduct  |--------|  SurrogateKey |--------|  DerivedColumn1  |--------|  DimProduct  |\n",
    "|________________|        |_________________________|        |________________________|        |______________________|        |_____________________|        |_______________|        |__________________|        |______________|      \n",
    " ____________________              |                                |    \n",
    "|                    |             |                                |\n",
    "| ProductModelStream |-------------'                                |\n",
    "|____________________|                                              |\n",
    " __________________________                                         | \n",
    "|                          |                                        | \n",
    "| ProductSubCategoryStream |----------------------------------------'\n",
    "|__________________________|              SINK\n",
    " _________________________          ________________                                    \n",
    "|                         |        |                |                                      \n",
    "| DimProductStreamSynapse |--------| ProductSKCache |\n",
    "|_________________________|        |________________|\n"
   ]
  },
  {
   "attachments": {},
   "cell_type": "markdown",
   "metadata": {},
   "source": [
    "Generamos una nueva caja llamada \"DimProductStreamSynapse\" la cual tiene un dataset que estará apuntando a la tabla \"DimProduct\"\n",
    "\n",
    "<center><img src=\"https://i.postimg.cc/2yBxz737/adf5.png\"></center>\n",
    "\n",
    "Y obtenemos el valor máximo actual en la columna ProductSK por medio de una Query\n",
    "\n",
    "<center><img src=\"https://i.postimg.cc/mrJwKngg/adf6.png\"></center>\n",
    "\n",
    "Creamos una nueva caja \"ProductSKCache\" que va a almacenar en cache el valor máximo de la columna ProductSK\n",
    "\n",
    "<center><img src=\"https://i.postimg.cc/Dw2b531K/adf7.png\"></center>\n",
    "\n",
    "Luego de la caja de SurrogateKey generamos una nueva caja que nos permitirá modificar la columna ProduckSK:\n",
    "\n",
    "ProductSK + ProductSKCache#outputs()[1].ProductSK\n",
    "\n",
    "<center><img src=\"https://i.postimg.cc/B6rGQsJL/adf8.png\"></center>\n",
    "\n",
    "En el caso de que la tabla \"DimProduct\" no tuviera ningún registro, para evitar que la columna ProductSK nos devuelva\n",
    "valores NULL, realizamos la siguiente expresión:\n",
    "\n",
    "ProductSK + (iifNull((ProductSKCache#outputs()[1].ProductSK),0))"
   ]
  }
 ],
 "metadata": {
  "language_info": {
   "name": "python"
  },
  "orig_nbformat": 4
 },
 "nbformat": 4,
 "nbformat_minor": 2
}
