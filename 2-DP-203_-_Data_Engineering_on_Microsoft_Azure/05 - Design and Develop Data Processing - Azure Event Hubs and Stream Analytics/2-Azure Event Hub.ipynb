{
 "cells": [
  {
   "attachments": {},
   "cell_type": "markdown",
   "metadata": {},
   "source": [
    "#### Azure Event Hubs"
   ]
  },
  {
   "cell_type": "code",
   "execution_count": null,
   "metadata": {
    "vscode": {
     "languageId": "sql"
    }
   },
   "outputs": [],
   "source": [
    "● Se trata de una plataforma de streaming de big data\n",
    "● Este servicio puede recibir y procesar millones de eventos por segundo\n",
    "● Puede transmitir log data, datos de telemetría y cualquier tipo de evento a Azure Event Hubs."
   ]
  },
  {
   "attachments": {},
   "cell_type": "markdown",
   "metadata": {},
   "source": [
    "Arquitectura de Event Hubs\n",
    "\n",
    "En Azure, se crea algo conocido, como un \"Event Hubs Namespace\" primero, y luego como parte del Namespace, se puede crear un Azure Event Hub (pueden ser múltiples Event Hubs también).\n",
    "\n",
    "<center><img src=\"https://i.postimg.cc/gj8wJF9s/event1.png\"></center>"
   ]
  },
  {
   "cell_type": "code",
   "execution_count": null,
   "metadata": {
    "vscode": {
     "languageId": "sql"
    }
   },
   "outputs": [],
   "source": [
    "Los diferentes componentes\n",
    "--------------------------\n",
    "\n",
    "● Event producers: Se trata de una entidad que envía datos a un event hub. Los eventos pueden publicarse utilizando los \n",
    "                   protocolos - HTTPS, AMQP, Apache Kafka\n",
    "\n",
    "● Particiones: Los datos se dividen en particiones. Esto permite un mejor rendimiento de sus datos en Azure Event Hubs.\n",
    "\n",
    "● Consumer groups: Se trata de una vista (estado, posición o desplazamiento) de todo un event hub\n",
    "\n",
    "● Throughput: Controla la capacidad de rendimiento de los Event Hubs.\n",
    "\n",
    "● Event Receivers: Es una entidad que lee datos de eventos"
   ]
  }
 ],
 "metadata": {
  "language_info": {
   "name": "python"
  },
  "orig_nbformat": 4
 },
 "nbformat": 4,
 "nbformat_minor": 2
}
