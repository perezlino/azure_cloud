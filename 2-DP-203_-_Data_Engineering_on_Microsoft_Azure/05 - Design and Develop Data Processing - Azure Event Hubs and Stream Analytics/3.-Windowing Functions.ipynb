{
 "cells": [
  {
   "cell_type": "code",
   "execution_count": null,
   "metadata": {},
   "outputs": [],
   "source": [
    "https://learn.microsoft.com/en-us/azure/stream-analytics/stream-analytics-window-functions"
   ]
  }
 ],
 "metadata": {
  "language_info": {
   "name": "python"
  },
  "orig_nbformat": 4
 },
 "nbformat": 4,
 "nbformat_minor": 2
}
