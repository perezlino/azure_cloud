{
 "cells": [
  {
   "cell_type": "code",
   "execution_count": null,
   "metadata": {},
   "outputs": [],
   "source": [
    "https://learn.microsoft.com/en-us/azure/stream-analytics/stream-analytics-window-functions"
   ]
  },
  {
   "attachments": {},
   "cell_type": "markdown",
   "metadata": {},
   "source": [
    "#### Windowing Functions"
   ]
  },
  {
   "cell_type": "code",
   "execution_count": null,
   "metadata": {
    "vscode": {
     "languageId": "sql"
    }
   },
   "outputs": [],
   "source": [
    "Ahora, en este capítulo, quiero ir a través de las \"Windowing functions\", que está disponible en stream analytics. Así que recuerda, el \n",
    "tiempo es el factor más importante cuando se trata de tus stream analytics jobs. Y normalmente en los escenarios en tiempo real, es posible \n",
    "que desee realizar cálculos en determinados window frames, por lo que puede hacer uso de las windowing functions para este propósito en \n",
    "particular. Ahora, hay diferentes \"windowing functions\". Tienes la \"tumbling window\", la \"hopping window\", la \"sliding window\", la \n",
    "\"session window\" y la \"snapshot window\". Así, por ejemplo, si nos fijamos en la \"tumbling window\", el propósito de esta ventana es realizar \n",
    "la agregación de los datos dentro de un marco de tiempo (time frame) particular. Así, cada duración de marco de tiempo constituye en \n",
    "realidad una ventana (window). Del mismo modo, es posible que desee realizar la agregación de algo durante períodos de tiempo, especialmente\n",
    "cuando se trata de datos en tiempo real. A veces puede que no quieras toda la información, quieres realizar algún tipo de agregación sobre \n",
    "los datos dentro de un marco de tiempo determinado. "
   ]
  },
  {
   "attachments": {},
   "cell_type": "markdown",
   "metadata": {},
   "source": [
    "<center><img src=\"https://i.postimg.cc/Ss3k4YPM/event2.png\"></center>"
   ]
  },
  {
   "cell_type": "code",
   "execution_count": null,
   "metadata": {
    "vscode": {
     "languageId": "sql"
    }
   },
   "outputs": [],
   "source": [
    "TUMBLING WINDOW\n",
    "===============\n",
    "\n",
    "Las funciones Tumbling window se utilizan para segmentar un stream de datos en distintos segmentos temporales y realizar una función \n",
    "sobre ellos, como en el ejemplo siguiente. Las principales características de una \"Tumbling window\" son que se repiten, no se sobreponen \n",
    "y que un evento no puede pertenecer a más de una \"Tumbling window\".\n",
    "\n",
    "Así que aquí en realidad puedes usar la función tumbling window y decir, por favor agrega mis datos sobre un marco de tiempo de 10 \n",
    "segundos. Así que aquí cada ventana es de 10 segundos de duración y, a continuación, puede utilizar sus funciones de agregación que \n",
    "ha requerido. "
   ]
  },
  {
   "attachments": {},
   "cell_type": "markdown",
   "metadata": {},
   "source": [
    "<center><img src=\"https://i.postimg.cc/13gNSD49/event3.png\"></center>"
   ]
  },
  {
   "cell_type": "code",
   "execution_count": null,
   "metadata": {
    "vscode": {
     "languageId": "sql"
    }
   },
   "outputs": [],
   "source": [
    "Con los siguientes datos de entrada (ilustrados más arriba):\n",
    "\n",
    "Stamp\tCreatedAt\t            TimeZone\n",
    "1\t    2021-10-26T10:15:01\t    PST\n",
    "5\t    2021-10-26T10:15:03\t    PST\n",
    "4\t    2021-10-26T10:15:06\t    PST\n",
    "...\t    ...\t                    ...\n",
    "\n",
    "La siguiente consulta:\n",
    "\n",
    "SELECT \n",
    "    System.Timestamp() as WindowEndTime, \n",
    "    TimeZone, \n",
    "    COUNT(*) AS Count\n",
    "FROM \n",
    "    TwitterStream TIMESTAMP BY CreatedAt\n",
    "GROUP BY \n",
    "    TimeZone, \n",
    "    TumblingWindow(second,10)\n",
    "\n",
    "Se devolverá:\n",
    "\n",
    "WindowEndTime\t        TimeZone\tCount\n",
    "2021-10-26T10:15:10\t    PST\t        5\n",
    "2021-10-26T10:15:20\t    PST\t        2\n",
    "2021-10-26T10:15:30\t    PST\t        4"
   ]
  },
  {
   "cell_type": "code",
   "execution_count": null,
   "metadata": {
    "vscode": {
     "languageId": "sql"
    }
   },
   "outputs": [],
   "source": [
    "Así que hay diferentes tipos de windows que están disponibles. Así, por ejemplo, también tenemos la \"hopping window\" en la que tenemos \n",
    "un escenario de caso de uso. Se dice que, durante un período de 10 segundos, cada cinco segundos, me da el número de, digamos, los \n",
    "tweets que están llegando. Así que, en la hopping window, puede haber una superposición de eventos. \n",
    "\n",
    "HOPPING WINDOW\n",
    "==============\n",
    "\n",
    "Las funciones \"Hopping window\" saltan hacia delante en el tiempo durante un periodo fijo. Puede ser fácil pensar en ellas como si fueran \n",
    "\"Tumbling windows\" que pueden superponerse y emitirse más a menudo que el tamaño de la ventana. Los eventos pueden pertenecer a más de un \n",
    "conjunto de resultados de una Hopping window. Para que una Hopping window sea igual que una Tumbling window, especifique que el tamaño \n",
    "del hop sea el mismo que el tamaño de la ventana."
   ]
  },
  {
   "attachments": {},
   "cell_type": "markdown",
   "metadata": {},
   "source": [
    "<center><img src=\"https://i.postimg.cc/Y9sy0JQ4/event4.png\"></center>"
   ]
  },
  {
   "cell_type": "code",
   "execution_count": null,
   "metadata": {
    "vscode": {
     "languageId": "sql"
    }
   },
   "outputs": [],
   "source": [
    "Con los siguientes datos de entrada (ilustrados más arriba):\n",
    "\n",
    "Stamp\tCreatedAt\t            Topic\n",
    "1\t    2021-10-26T10:15:01\t    Streaming\n",
    "5\t    2021-10-26T10:15:03\t    Streaming\n",
    "4\t    2021-10-26T10:15:06\t    Streaming\n",
    "...\t    ...\t                    ...\n",
    "\n",
    "La siguiente consulta:\n",
    "\n",
    "SELECT \n",
    "    System.Timestamp() as WindowEndTime, \n",
    "    Topic, \n",
    "    COUNT(*) AS Count\n",
    "FROM \n",
    "    TwitterStream TIMESTAMP BY CreatedAt\n",
    "GROUP BY \n",
    "    Topic, \n",
    "    HoppingWindow(second,10,5)\n",
    "\n",
    "Se devolverá:\n",
    "\n",
    "WindowEndTime\t        Topic\t    Count\n",
    "2021-10-26T10:15:10\t    Streaming\t5\n",
    "2021-10-26T10:15:15\t    Streaming\t3\n",
    "2021-10-26T10:15:20\t    Streaming\t2\n",
    "2021-10-26T10:15:25\t    Streaming\t4\n",
    "2021-10-26T10:15:30\t    Streaming\t4"
   ]
  },
  {
   "cell_type": "code",
   "execution_count": null,
   "metadata": {
    "vscode": {
     "languageId": "sql"
    }
   },
   "outputs": [],
   "source": [
    "SLIDING WINDOW\n",
    "==============\n",
    "\n",
    "Las Sliding windows, a diferencia de las Tumbling o Hopping windows, emiten eventos sólo para los puntos en el tiempo en los que el \n",
    "contenido de la ventana cambia realmente. En otras palabras, cuando un evento entra o sale de la ventana. Por lo tanto, cada ventana \n",
    "tiene al menos un evento. Al igual que en las Hopping windows, los eventos pueden pertenecer a más de una sliding window."
   ]
  },
  {
   "attachments": {},
   "cell_type": "markdown",
   "metadata": {},
   "source": [
    "<center><img src=\"https://i.postimg.cc/pdtBGPJY/event5.png\"></center>"
   ]
  },
  {
   "cell_type": "code",
   "execution_count": null,
   "metadata": {
    "vscode": {
     "languageId": "sql"
    }
   },
   "outputs": [],
   "source": [
    "Con los siguientes datos de entrada (ilustrados más arriba):\n",
    "\n",
    "Stamp\tCreatedAt\t            Topic\n",
    "1\t    2021-10-26T10:15:10\t    Streaming\n",
    "5\t    2021-10-26T10:15:12\t    Streaming\n",
    "9\t    2021-10-26T10:15:15\t    Streaming\n",
    "7\t    2021-10-26T10:15:15\t    Streaming\n",
    "8\t    2021-10-26T10:15:27\t    Streaming\n",
    "\n",
    "La siguiente consulta:\n",
    "\n",
    "SELECT \n",
    "    System.Timestamp() as WindowEndTime, \n",
    "    Topic, \n",
    "    COUNT(*) AS Count\n",
    "FROM \n",
    "    TwitterStream TIMESTAMP BY CreatedAt\n",
    "GROUP BY \n",
    "    Topic, \n",
    "    SlidingWindow(second,10)\n",
    "HAVING \n",
    "    COUNT(*) >=3\n",
    "\n",
    "Se devolverá:\n",
    "\n",
    "WindowEndTime\t        Topic\t    Count\n",
    "2021-10-26T10:15:15\t    Streaming\t4\n",
    "2021-10-26T10:15:20\t    Streaming\t3"
   ]
  },
  {
   "cell_type": "code",
   "execution_count": null,
   "metadata": {
    "vscode": {
     "languageId": "sql"
    }
   },
   "outputs": [],
   "source": [
    "SESSION WINDOW\n",
    "==============\n",
    "\n",
    "Las funciones Session window agrupan los eventos que llegan en momentos similares, filtrando los periodos de tiempo en los que no hay \n",
    "datos. Tiene tres parámetros principales: timeout, maximum duration y partitioning key (opcional).\n",
    "\n",
    "Una session window comienza cuando se produce el primer evento. Si se produce otro evento dentro del timeout (tiempo de espera) \n",
    "especificado desde el último evento ingestado, entonces la ventana se extiende para incluir el nuevo evento. En caso contrario, si no \n",
    "se produce ningún evento durante el timeout, la ventana se cierra en ese momento.\n",
    "\n",
    "Si siguen produciéndose eventos dentro del timeout especificado, la \"session window\" seguirá extendiéndose hasta que se alcance la \n",
    "\"maximum duration\". Los intervalos de comprobación de la duración máxima (maximum duration) tienen el mismo tamaño que la duración \n",
    "máxima especificada. Por ejemplo, si la duración máxima es 10, entonces las comprobaciones sobre si la ventana excede la duración \n",
    "máxima ocurrirán en t = 0, 10, 20, 30, etc.\n",
    "\n",
    "Cuando se proporciona una clave de partición, los eventos se agrupan por la clave y la session window se aplica a cada grupo de forma \n",
    "independiente. Esta partición es útil para los casos en los que se necesitan diferentes session windows para diferentes usuarios o \n",
    "dispositivos."
   ]
  },
  {
   "attachments": {},
   "cell_type": "markdown",
   "metadata": {},
   "source": [
    "<center><img src=\"https://i.postimg.cc/L5LH9kG1/event6.png\"></center>"
   ]
  },
  {
   "cell_type": "code",
   "execution_count": null,
   "metadata": {
    "vscode": {
     "languageId": "sql"
    }
   },
   "outputs": [],
   "source": [
    "Con los siguientes datos de entrada (ilustrados arriba):\n",
    "\n",
    "Stamp\tCreatedAt\t            Topic\n",
    "1\t    2021-10-26T10:15:01\t    Streaming\n",
    "2\t    2021-10-26T10:15:04\t    Streaming\n",
    "3\t    2021-10-26T10:15:13\t    Streaming\n",
    "...\t    ...\t                    ...\n",
    "\n",
    "La siguiente consulta:\n",
    "\n",
    "SELECT System.Timestamp() as WindowEndTime, Topic, COUNT(*) AS Count\n",
    "FROM TwitterStream TIMESTAMP BY CreatedAt\n",
    "GROUP BY Topic, SessionWindow(second,5,10)\n",
    "\n",
    "Se devolverá:\n",
    "\n",
    "WindowEndTime\t        Topic\t    Count\n",
    "2021-10-26T10:15:09\t    Streaming\t2\n",
    "2021-10-26T10:15:24\t    Streaming\t4\n",
    "2021-10-26T10:15:31\t    Streaming\t2\n",
    "2021-10-26T10:15:39\t    Streaming\t1"
   ]
  },
  {
   "cell_type": "code",
   "execution_count": null,
   "metadata": {
    "vscode": {
     "languageId": "sql"
    }
   },
   "outputs": [],
   "source": [
    "SNAPSHOT WINDOW\n",
    "===============\n",
    "\n",
    "Las \"snapshot windows\" agrupan los eventos que tienen el mismo timestamp. A diferencia de otros tipos de ventanas, que requieren una \n",
    "window function específica (como SessionWindow()), puede aplicar una snapshot window añadiendo System.Timestamp() a la cláusula GROUP BY."
   ]
  },
  {
   "attachments": {},
   "cell_type": "markdown",
   "metadata": {},
   "source": [
    "<center><img src=\"https://i.postimg.cc/T3WcRKPX/event7.png\"></center>"
   ]
  },
  {
   "cell_type": "code",
   "execution_count": null,
   "metadata": {
    "vscode": {
     "languageId": "sql"
    }
   },
   "outputs": [],
   "source": [
    "Con los siguientes datos de entrada (ilustrados arriba):\n",
    "\n",
    "Stamp\tCreatedAt\t            Topic\n",
    "1\t    2021-10-26T10:15:04\t    Streaming\n",
    "2\t    2021-10-26T10:15:04\t    Streaming\n",
    "3\t    2021-10-26T10:15:04\t    Streaming\n",
    "...\t    ...\t                    ...\n",
    "\n",
    "La siguiente consulta:\n",
    "\n",
    "SELECT System.Timestamp() as WindowEndTime, Topic, COUNT(*) AS Count\n",
    "FROM TwitterStream TIMESTAMP BY CreatedAt\n",
    "GROUP BY Topic, System.Timestamp()\n",
    "\n",
    "Se devolverá:\n",
    "\n",
    "WindowEndTime\t        Topic\t    Count\n",
    "2021-10-26T10:15:04\t    Streaming\t4\n",
    "2021-10-26T10:15:10\t    Streaming\t2\n",
    "2021-10-26T10:15:13\t    Streaming\t1\n",
    "2021-10-26T10:15:22\t    Streaming\t2"
   ]
  }
 ],
 "metadata": {
  "language_info": {
   "name": "python"
  },
  "orig_nbformat": 4
 },
 "nbformat": 4,
 "nbformat_minor": 2
}
